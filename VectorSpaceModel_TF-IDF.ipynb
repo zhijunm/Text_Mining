{
  "nbformat": 4,
  "nbformat_minor": 0,
  "metadata": {
    "colab": {
      "name": "VectorSpaceModel-TF-IDF.ipynb",
      "provenance": [],
      "authorship_tag": "ABX9TyMM8FWzwFNUkGc6JKmyamOd",
      "include_colab_link": true
    },
    "kernelspec": {
      "name": "python3",
      "display_name": "Python 3"
    }
  },
  "cells": [
    {
      "cell_type": "markdown",
      "metadata": {
        "id": "view-in-github",
        "colab_type": "text"
      },
      "source": [
        "<a href=\"https://colab.research.google.com/github/zhijunm/Text_Mining/blob/master/VectorSpaceModel_TF-IDF.ipynb\" target=\"_parent\"><img src=\"https://colab.research.google.com/assets/colab-badge.svg\" alt=\"Open In Colab\"/></a>"
      ]
    },
    {
      "cell_type": "code",
      "metadata": {
        "id": "AWhnXvH05Ppp",
        "colab_type": "code",
        "colab": {}
      },
      "source": [
        "import nltk \n",
        "from pprint import pprint\n",
        "import csv\n",
        "from typing import List\n",
        "import re\n",
        "from collections import Counter\n",
        "import numpy as np"
      ],
      "execution_count": 0,
      "outputs": []
    },
    {
      "cell_type": "code",
      "metadata": {
        "id": "bamVbOKS9-oT",
        "colab_type": "code",
        "outputId": "08ffd68d-790e-45c7-a26a-94a7cdea7df2",
        "colab": {
          "base_uri": "https://localhost:8080/",
          "height": 139
        }
      },
      "source": [
        "# Data from here: \n",
        "# https://www.kaggle.com/lakshmi25npathi/imdb-dataset-of-50k-movie-reviews/data#IMDB%20Dataset.csv\n",
        "# check sample data\n",
        "ctr = 0\n",
        "with open(\"IMDB Dataset.csv\", newline=\"\") as csvfile:\n",
        "  movie_data = csv.reader(csvfile, delimiter=\",\")\n",
        "  for row in movie_data:\n",
        "    if ctr > 5:\n",
        "      break\n",
        "    print(row)\n",
        "    ctr += 1"
      ],
      "execution_count": 3,
      "outputs": [
        {
          "output_type": "stream",
          "text": [
            "['review', 'sentiment']\n",
            "[\"One of the other reviewers has mentioned that after watching just 1 Oz episode you'll be hooked. They are right, as this is exactly what happened with me.<br /><br />The first thing that struck me about Oz was its brutality and unflinching scenes of violence, which set in right from the word GO. Trust me, this is not a show for the faint hearted or timid. This show pulls no punches with regards to drugs, sex or violence. Its is hardcore, in the classic use of the word.<br /><br />It is called OZ as that is the nickname given to the Oswald Maximum Security State Penitentary. It focuses mainly on Emerald City, an experimental section of the prison where all the cells have glass fronts and face inwards, so privacy is not high on the agenda. Em City is home to many..Aryans, Muslims, gangstas, Latinos, Christians, Italians, Irish and more....so scuffles, death stares, dodgy dealings and shady agreements are never far away.<br /><br />I would say the main appeal of the show is due to the fact that it goes where other shows wouldn't dare. Forget pretty pictures painted for mainstream audiences, forget charm, forget romance...OZ doesn't mess around. The first episode I ever saw struck me as so nasty it was surreal, I couldn't say I was ready for it, but as I watched more, I developed a taste for Oz, and got accustomed to the high levels of graphic violence. Not just violence, but injustice (crooked guards who'll be sold out for a nickel, inmates who'll kill on order and get away with it, well mannered, middle class inmates being turned into prison bitches due to their lack of street skills or prison experience) Watching Oz, you may become comfortable with what is uncomfortable viewing....thats if you can get in touch with your darker side.\", 'positive']\n",
            "['A wonderful little production. <br /><br />The filming technique is very unassuming- very old-time-BBC fashion and gives a comforting, and sometimes discomforting, sense of realism to the entire piece. <br /><br />The actors are extremely well chosen- Michael Sheen not only \"has got all the polari\" but he has all the voices down pat too! You can truly see the seamless editing guided by the references to Williams\\' diary entries, not only is it well worth the watching but it is a terrificly written and performed piece. A masterful production about one of the great master\\'s of comedy and his life. <br /><br />The realism really comes home with the little things: the fantasy of the guard which, rather than use the traditional \\'dream\\' techniques remains solid then disappears. It plays on our knowledge and our senses, particularly with the scenes concerning Orton and Halliwell and the sets (particularly of their flat with Halliwell\\'s murals decorating every surface) are terribly well done.', 'positive']\n",
            "['I thought this was a wonderful way to spend time on a too hot summer weekend, sitting in the air conditioned theater and watching a light-hearted comedy. The plot is simplistic, but the dialogue is witty and the characters are likable (even the well bread suspected serial killer). While some may be disappointed when they realize this is not Match Point 2: Risk Addiction, I thought it was proof that Woody Allen is still fully in control of the style many of us have grown to love.<br /><br />This was the most I\\'d laughed at one of Woody\\'s comedies in years (dare I say a decade?). While I\\'ve never been impressed with Scarlet Johanson, in this she managed to tone down her \"sexy\" image and jumped right into a average, but spirited young woman.<br /><br />This may not be the crown jewel of his career, but it was wittier than \"Devil Wears Prada\" and more interesting than \"Superman\" a great comedy to go see with friends.', 'positive']\n",
            "[\"Basically there's a family where a little boy (Jake) thinks there's a zombie in his closet & his parents are fighting all the time.<br /><br />This movie is slower than a soap opera... and suddenly, Jake decides to become Rambo and kill the zombie.<br /><br />OK, first of all when you're going to make a film you must Decide if its a thriller or a drama! As a drama the movie is watchable. Parents are divorcing & arguing like in real life. And then we have Jake with his closet which totally ruins all the film! I expected to see a BOOGEYMAN similar movie, and instead i watched a drama with some meaningless thriller spots.<br /><br />3 out of 10 just for the well playing parents & descent dialogs. As for the shots with Jake: just ignore them.\", 'negative']\n",
            "['Petter Mattei\\'s \"Love in the Time of Money\" is a visually stunning film to watch. Mr. Mattei offers us a vivid portrait about human relations. This is a movie that seems to be telling us what money, power and success do to people in the different situations we encounter. <br /><br />This being a variation on the Arthur Schnitzler\\'s play about the same theme, the director transfers the action to the present time New York where all these different characters meet and connect. Each one is connected in one way, or another to the next person, but no one seems to know the previous point of contact. Stylishly, the film has a sophisticated luxurious look. We are taken to see how these people live and the world they live in their own habitat.<br /><br />The only thing one gets out of all these souls in the picture is the different stages of loneliness each one inhabits. A big city is not exactly the best place in which human relations find sincere fulfillment, as one discerns is the case with most of the people we encounter.<br /><br />The acting is good under Mr. Mattei\\'s direction. Steve Buscemi, Rosario Dawson, Carol Kane, Michael Imperioli, Adrian Grenier, and the rest of the talented cast, make these characters come alive.<br /><br />We wish Mr. Mattei good luck and await anxiously for his next work.', 'positive']\n"
          ],
          "name": "stdout"
        }
      ]
    },
    {
      "cell_type": "code",
      "metadata": {
        "id": "0uFA4do_HDgJ",
        "colab_type": "code",
        "colab": {}
      },
      "source": [
        "def simple_tokenizer(text:str) -> List[str]:\n",
        "  # look at the text, we see that <br></br> which is HTML tag for line break can be a good slitter\n",
        "  # a sentence (at least well structured) often has a full spot at the end. We use there two for work breaks\n",
        "  pattern1 = re.compile(\"<be /><br />|\\.\")\n",
        "  lines = re.split(pattern1, text)\n",
        "  # you can break a sentence into words using whitespace based split\n",
        "  tokens = []\n",
        "  for line in lines:\n",
        "    tokens += line.split(\" \")\n",
        "\n",
        "  # lowercase and remove any non-alphanumeric characters from tokens for normalize\n",
        "  normalized_tokens = [re.sub(r\"\\W+\", \"\", token.lower()) for token in tokens]\n",
        "  return normalized_tokens\n"
      ],
      "execution_count": 0,
      "outputs": []
    },
    {
      "cell_type": "code",
      "metadata": {
        "id": "UqDoFdBPMQOm",
        "colab_type": "code",
        "outputId": "ef2240b0-5c50-417a-eb84-1b8dceebaf46",
        "colab": {
          "base_uri": "https://localhost:8080/",
          "height": 51
        }
      },
      "source": [
        "# remove stop-words\n",
        "from nltk.corpus import stopwords # library\n",
        "nltk.download('stopwords')\n",
        "all_stopwords = set(stopwords.words('english')) # set the language"
      ],
      "execution_count": 5,
      "outputs": [
        {
          "output_type": "stream",
          "text": [
            "[nltk_data] Downloading package stopwords to /root/nltk_data...\n",
            "[nltk_data]   Unzipping corpora/stopwords.zip.\n"
          ],
          "name": "stdout"
        }
      ]
    },
    {
      "cell_type": "code",
      "metadata": {
        "id": "RWkSxlufORZT",
        "colab_type": "code",
        "colab": {}
      },
      "source": [
        "# tokenize each review using simple tokenizer\n",
        "# like before and remove stopwords\n",
        "reviews_list = []\n",
        "with open(\"IMDB Dataset.csv\", newline=\"\") as csvfile:\n",
        "  movie_data = csv.reader(csvfile, delimiter = \",\")\n",
        "  for row in movie_data:\n",
        "    if row[0] == \"review\":\n",
        "      continue\n",
        "    review_text = row[0]\n",
        "    tokens = simple_tokenizer(review_text)\n",
        "    # remove stopwords\n",
        "    clean_tokens = [\n",
        "        tokens\n",
        "        for tokens in tokens\n",
        "        if tokens not in all_stopwords and len(tokens) > 1\n",
        "    ]\n",
        "    reviews_list.append(clean_tokens)"
      ],
      "execution_count": 0,
      "outputs": []
    },
    {
      "cell_type": "code",
      "metadata": {
        "id": "6IH9jVkVEnpW",
        "colab_type": "code",
        "outputId": "d4c0f4fc-a39e-432a-d794-7b782063393c",
        "colab": {
          "base_uri": "https://localhost:8080/",
          "height": 88
        }
      },
      "source": [
        "# the end result is a map with key as review_id and value as review\n",
        "pprint('number of reviews:' + str(len(reviews_list)))\n",
        "pprint('sample row:')\n",
        "print(reviews_list[0])"
      ],
      "execution_count": 7,
      "outputs": [
        {
          "output_type": "stream",
          "text": [
            "'number of reviews:50000'\n",
            "'sample row:'\n",
            "['one', 'reviewers', 'mentioned', 'watching', 'oz', 'episode', 'youll', 'hooked', 'right', 'exactly', 'happened', 'br', 'br', 'first', 'thing', 'struck', 'oz', 'brutality', 'unflinching', 'scenes', 'violence', 'set', 'right', 'word', 'go', 'trust', 'show', 'faint', 'hearted', 'timid', 'show', 'pulls', 'punches', 'regards', 'drugs', 'sex', 'violence', 'hardcore', 'classic', 'use', 'word', 'br', 'br', 'called', 'oz', 'nickname', 'given', 'oswald', 'maximum', 'security', 'state', 'penitentary', 'focuses', 'mainly', 'emerald', 'city', 'experimental', 'section', 'prison', 'cells', 'glass', 'fronts', 'face', 'inwards', 'privacy', 'high', 'agenda', 'em', 'city', 'home', 'many', 'aryans', 'muslims', 'gangstas', 'latinos', 'christians', 'italians', 'irish', 'scuffles', 'death', 'stares', 'dodgy', 'dealings', 'shady', 'agreements', 'never', 'far', 'away', 'br', 'br', 'would', 'say', 'main', 'appeal', 'show', 'due', 'fact', 'goes', 'shows', 'wouldnt', 'dare', 'forget', 'pretty', 'pictures', 'painted', 'mainstream', 'audiences', 'forget', 'charm', 'forget', 'romance', 'oz', 'doesnt', 'mess', 'around', 'first', 'episode', 'ever', 'saw', 'struck', 'nasty', 'surreal', 'couldnt', 'say', 'ready', 'watched', 'developed', 'taste', 'oz', 'got', 'accustomed', 'high', 'levels', 'graphic', 'violence', 'violence', 'injustice', 'crooked', 'guards', 'wholl', 'sold', 'nickel', 'inmates', 'wholl', 'kill', 'order', 'get', 'away', 'well', 'mannered', 'middle', 'class', 'inmates', 'turned', 'prison', 'bitches', 'due', 'lack', 'street', 'skills', 'prison', 'experience', 'watching', 'oz', 'may', 'become', 'comfortable', 'uncomfortable', 'viewing', 'thats', 'get', 'touch', 'darker', 'side']\n"
          ],
          "name": "stdout"
        }
      ]
    },
    {
      "cell_type": "code",
      "metadata": {
        "id": "CtpeoLEVCdz_",
        "colab_type": "code",
        "colab": {}
      },
      "source": [
        "## Identify unique tokens count their term frequency in each review and document frequency\n",
        "tf_dict = {}  # data structure to hold term frequencies in each reviews\n",
        "df_dict = (\n",
        "    Counter()\n",
        ")  # data structure to hold document frequency. You can read more about 'Counters' here: https://docs.python.org/3.1/library/collections.html\n",
        "# token_counter=0\n",
        "for review_id, review_tokens in enumerate(reviews_list):\n",
        "    tf_dict[review_id] = Counter()\n",
        "    for token in review_tokens:\n",
        "        if token not in df_dict:\n",
        "            df_dict[token] = 1\n",
        "        if token in tf_dict[review_id]:\n",
        "            tf_dict[review_id][token] += 1\n",
        "        else:\n",
        "            tf_dict[review_id][token] = 1\n",
        "            df_dict[token] += 1\n"
      ],
      "execution_count": 0,
      "outputs": []
    },
    {
      "cell_type": "code",
      "metadata": {
        "id": "OQA9IyQnELwc",
        "colab_type": "code",
        "outputId": "99596275-749b-4966-8170-79e8200f8264",
        "colab": {
          "base_uri": "https://localhost:8080/",
          "height": 34
        }
      },
      "source": [
        "pprint(\"number of unique tokens: \" + str(len(df_dict)))"
      ],
      "execution_count": 12,
      "outputs": [
        {
          "output_type": "stream",
          "text": [
            "'number of unique tokens: 157305'\n"
          ],
          "name": "stdout"
        }
      ]
    },
    {
      "cell_type": "code",
      "metadata": {
        "id": "fXocHYFSIgGk",
        "colab_type": "code",
        "outputId": "c26f09bc-bb95-4266-d7c6-8256cf14f82a",
        "colab": {
          "base_uri": "https://localhost:8080/",
          "height": 312
        }
      },
      "source": [
        "# since the number of unique words is too high, we plot histogram to see extremly common or extrmely rare tokens\n",
        "import matplotlib.pyplot as plt\n",
        "n, bins, patchese = plt.hist(x=list(df_dict.values()), bins=1000, color=\"#0504aa\")\n",
        "plt.grid(axis=\"y\", alpha=0.75)\n",
        "plt.xlabel(\"term frequency\")\n",
        "plt.ylabel(\"count\")\n",
        "plt.title(\"document frequency of tokens\")\n",
        "maxfreq = n.max()\n",
        "# set a clean upper y-axis limit\n",
        "plt.ylim(ymax=100)"
      ],
      "execution_count": 13,
      "outputs": [
        {
          "output_type": "execute_result",
          "data": {
            "text/plain": [
              "(0.0, 100.0)"
            ]
          },
          "metadata": {
            "tags": []
          },
          "execution_count": 13
        },
        {
          "output_type": "display_data",
          "data": {
            "image/png": "[encoded data removed]",
            "text/plain": [
              "<Figure size 432x288 with 1 Axes>"
            ]
          },
          "metadata": {
            "tags": [],
            "needs_background": "light"
          }
        }
      ]
    },
    {
      "cell_type": "code",
      "metadata": {
        "id": "qdyipgqlKF5n",
        "colab_type": "code",
        "outputId": "39072582-0c54-44f6-f508-96d5d33d191b",
        "colab": {
          "base_uri": "https://localhost:8080/",
          "height": 408
        }
      },
      "source": [
        "# remove tokens which are extremely common or extremely rare\n",
        "lower_count_thr = 100 # rare words/tokens, not to use words that only apprear 100 docs\n",
        "upper_count_thr = 5000 # frequent/common tokens, not to use words that appear over 5000 docs\n",
        "trim_df_dict = Counter(\n",
        "    {\n",
        "        token: df_dict[token]\n",
        "        for token in df_dict\n",
        "        if lower_count_thr <=df_dict[token] <= upper_count_thr\n",
        "    }\n",
        ")\n",
        "pprint(\"number of unique tokens after trimming:\" + str(len(trim_df_dict)))\n",
        "pprint(\"most frequent tokens\")\n",
        "pprint(trim_df_dict.most_common(10))\n",
        "pprint(\"least frequent tokens\")\n",
        "pprint(trim_df_dict.most_common()[:-11:-1])"
      ],
      "execution_count": 14,
      "outputs": [
        {
          "output_type": "stream",
          "text": [
            "'number of unique tokens after trimming:6079'\n",
            "'most frequent tokens'\n",
            "[('bit', 4983),\n",
            " ('far', 4941),\n",
            " ('since', 4908),\n",
            " ('script', 4872),\n",
            " ('role', 4847),\n",
            " ('probably', 4840),\n",
            " ('last', 4808),\n",
            " ('might', 4799),\n",
            " ('feel', 4783),\n",
            " ('away', 4741)]\n",
            "'least frequent tokens'\n",
            "[('tormented', 100),\n",
            " ('unfamiliar', 100),\n",
            " ('absorbing', 100),\n",
            " ('aiming', 100),\n",
            " ('filmbr', 100),\n",
            " ('clouds', 100),\n",
            " ('cemetery', 100),\n",
            " ('weaker', 100),\n",
            " ('gigantic', 100),\n",
            " ('arty', 100)]\n"
          ],
          "name": "stdout"
        }
      ]
    },
    {
      "cell_type": "code",
      "metadata": {
        "id": "_oGwtAikNNBs",
        "colab_type": "code",
        "colab": {}
      },
      "source": [
        "# create token to id maps\n",
        "token_to_id_dict = {\n",
        "    token: index for index, token in enumerate(trim_df_dict)\n",
        "}  # http://book.pythontips.com/en/latest/enumerate.html\n",
        "id_to_token_dict = {index: token for index, token in enumerate(trim_df_dict)}\n",
        "tf_idf_values = []\n",
        "N = len(reviews_list)\n",
        "# we are ready to compute tfidf\n",
        "from math import log\n",
        "\n",
        "\n",
        "tf_idf_lists = []\n",
        "\n",
        "ctr = 0\n",
        "for review_id, review_tokens in enumerate(reviews_list):\n",
        "\n",
        "    # since its not advised to hold full tf-idf dictionary due to limited  RAM, we only compute\n",
        "    # tf-idf of top 1000 reviews. IN practice the vectors are dumped to storage (a file)\n",
        "    # line by line\n",
        "    if ctr > 1000:\n",
        "        break\n",
        "    ctr += 1\n",
        "    tf_idf_list = [0] * len(token_to_id_dict)\n",
        "    for token in review_tokens:\n",
        "        if token not in token_to_id_dict:\n",
        "            continue\n",
        "        token_id = token_to_id_dict[token]\n",
        "        # TFIDF formula\n",
        "        if token not in tf_dict[review_id]:\n",
        "            continue\n",
        "        tf = tf_dict[review_id][token]\n",
        "        idf = log(N / df_dict[token], 10)  # log to base 10\n",
        "        tf_idf = tf * idf\n",
        "        tf_idf_list[token_id] = tf_idf\n",
        "        tf_idf_values.append(tf_idf)\n",
        "    tf_idf_lists.append(tf_idf_list)"
      ],
      "execution_count": 0,
      "outputs": []
    },
    {
      "cell_type": "code",
      "metadata": {
        "id": "g63vIdzQjrsm",
        "colab_type": "code",
        "outputId": "f7730adf-c6bf-457c-ab94-a920b54c4446",
        "colab": {
          "base_uri": "https://localhost:8080/",
          "height": 187
        }
      },
      "source": [
        "# print sample tfidf vector values\n",
        "review_id =2\n",
        "tf_idf_vector = [tf_idf_lists[review_id][index] for index in [token_to_id_dict[token] for token in tf_dict[review_id] if token in token_to_id_dict]]\n",
        "pprint(tf_idf_vector[:10])"
      ],
      "execution_count": 16,
      "outputs": [
        {
          "output_type": "stream",
          "text": [
            "[1.2575891194195075,\n",
            " 1.7267671659569541,\n",
            " 1.6631401790831903,\n",
            " 1.931814138253838,\n",
            " 2.159893905543242,\n",
            " 1.764976840504776,\n",
            " 1.6836102489268043,\n",
            " 1.5770820192323376,\n",
            " 2.387216143280264,\n",
            " 2.0880475555033486]\n"
          ],
          "name": "stdout"
        }
      ]
    }
  ]
}