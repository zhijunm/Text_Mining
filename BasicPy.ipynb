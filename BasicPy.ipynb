{
  "nbformat": 4,
  "nbformat_minor": 0,
  "metadata": {
    "colab": {
      "name": "BasicPy.ipynb",
      "provenance": [],
      "collapsed_sections": [],
      "authorship_tag": "ABX9TyOX08Ti9GqoIngMkxUpv3Ce",
      "include_colab_link": true
    },
    "kernelspec": {
      "name": "python3",
      "display_name": "Python 3"
    }
  },
  "cells": [
    {
      "cell_type": "markdown",
      "metadata": {
        "id": "view-in-github",
        "colab_type": "text"
      },
      "source": [
        "<a href=\"https://colab.research.google.com/github/zhijunm/Text_Mining/blob/master/BasicPy.ipynb\" target=\"_parent\"><img src=\"https://colab.research.google.com/assets/colab-badge.svg\" alt=\"Open In Colab\"/></a>"
      ]
    },
    {
      "cell_type": "markdown",
      "metadata": {
        "id": "6MTsUvV4Ylmz",
        "colab_type": "text"
      },
      "source": [
        "# my title\n",
        "## level 2 heading\n",
        "### level 3 heading\n",
        "#### level 4 heading\n",
        "*This is italic text.*\n",
        "**This is bold text.**\n",
        "***This is bold, italic text.***\n",
        "* bullet item 1\n",
        "* bullet item 2\n"
      ]
    },
    {
      "cell_type": "code",
      "metadata": {
        "id": "NSBeQhKhW3ZM",
        "colab_type": "code",
        "outputId": "3617e6bd-7051-4b37-c4ec-55ac6b0becfd",
        "colab": {
          "base_uri": "https://localhost:8080/",
          "height": 51
        }
      },
      "source": [
        "print(\"Hello!\")\n",
        "print('Jon\\'s prize')"
      ],
      "execution_count": 0,
      "outputs": [
        {
          "output_type": "stream",
          "text": [
            "Hello!\n",
            "Jon's prize\n"
          ],
          "name": "stdout"
        }
      ]
    },
    {
      "cell_type": "code",
      "metadata": {
        "id": "ny0gyb33rfUs",
        "colab_type": "code",
        "outputId": "60facb2b-e5cf-41ea-edb6-d13094cb0078",
        "colab": {
          "base_uri": "https://localhost:8080/",
          "height": 85
        }
      },
      "source": [
        "tasty_food = ['Nachos']\n",
        "tasty_food.append('Pizza')\n",
        "tasty_food.append('Sushi')\n",
        "print(tasty_food)\n",
        "print(tasty_food[1])\n",
        "print(tasty_food[0:2])\n",
        "print(tasty_food[-1])"
      ],
      "execution_count": 0,
      "outputs": [
        {
          "output_type": "stream",
          "text": [
            "['Nachos', 'Pizza', 'Sushi']\n",
            "Pizza\n",
            "['Nachos', 'Pizza']\n",
            "Sushi\n"
          ],
          "name": "stdout"
        }
      ]
    },
    {
      "cell_type": "code",
      "metadata": {
        "id": "xDah3_g_s3fE",
        "colab_type": "code",
        "outputId": "f33eee4f-8ae3-49a9-f24d-2dca03d00bfd",
        "colab": {
          "base_uri": "https://localhost:8080/",
          "height": 34
        }
      },
      "source": [
        "numbers = [1,3,5,7]\n",
        "numbers.extend([11,13])\n",
        "print(numbers)"
      ],
      "execution_count": 0,
      "outputs": [
        {
          "output_type": "stream",
          "text": [
            "[1, 3, 5, 7, 11, 13]\n"
          ],
          "name": "stdout"
        }
      ]
    },
    {
      "cell_type": "code",
      "metadata": {
        "id": "_eaujQoNtClf",
        "colab_type": "code",
        "outputId": "aaf0cb3d-3d0a-4106-ba11-c282ba58b26b",
        "colab": {
          "base_uri": "https://localhost:8080/",
          "height": 34
        }
      },
      "source": [
        "numbers = [1,3,5,7]\n",
        "numbers.insert(2,4)\n",
        "print(numbers)"
      ],
      "execution_count": 0,
      "outputs": [
        {
          "output_type": "stream",
          "text": [
            "[1, 3, 4, 5, 7]\n"
          ],
          "name": "stdout"
        }
      ]
    },
    {
      "cell_type": "code",
      "metadata": {
        "id": "rbZYHeSutPc3",
        "colab_type": "code",
        "outputId": "4bcb42af-de36-4960-83f5-d61d334b8046",
        "colab": {
          "base_uri": "https://localhost:8080/",
          "height": 51
        }
      },
      "source": [
        "numbers = [1,3,5,7]\n",
        "del numbers[1]\n",
        "print(numbers)\n",
        "numbers = [1,3,5,7]\n",
        "del numbers[2:]\n",
        "print(numbers)"
      ],
      "execution_count": 0,
      "outputs": [
        {
          "output_type": "stream",
          "text": [
            "[1, 5, 7]\n",
            "[1, 3]\n"
          ],
          "name": "stdout"
        }
      ]
    },
    {
      "cell_type": "markdown",
      "metadata": {
        "id": "dYUgzjotyTCJ",
        "colab_type": "text"
      },
      "source": [
        "Tuple is an ordered sequence of items, cannot change the values, read only once created.\n",
        "Faster than list, can be used as keys for a dictionary, while list cannot."
      ]
    },
    {
      "cell_type": "code",
      "metadata": {
        "id": "634lTAKgt12e",
        "colab_type": "code",
        "colab": {}
      },
      "source": [
        "tuple = (1,2,3)"
      ],
      "execution_count": 0,
      "outputs": []
    },
    {
      "cell_type": "code",
      "metadata": {
        "id": "6afiJOVx1mDk",
        "colab_type": "code",
        "outputId": "16609e32-1953-4712-87f4-2aa7182a3c23",
        "colab": {
          "base_uri": "https://localhost:8080/",
          "height": 34
        }
      },
      "source": [
        "##empty dictionary\n",
        "## key must be unique\n",
        "pet_age = {}\n",
        "pet_age ['Lyra']=6\n",
        "pet_age ['Scout']=6\n",
        "pet_age['Sheldon']=46\n",
        "\n",
        "pet_age = {'Lyra':6, 'Scout':6, 'Sheldon': 45}\n",
        "pet_age['Sheldon']=46\n",
        "print(pet_age['Sheldon'])"
      ],
      "execution_count": 0,
      "outputs": [
        {
          "output_type": "stream",
          "text": [
            "46\n"
          ],
          "name": "stdout"
        }
      ]
    },
    {
      "cell_type": "markdown",
      "metadata": {
        "id": "g0dDkRslWfVJ",
        "colab_type": "text"
      },
      "source": [
        "Control statements change the order of processing"
      ]
    },
    {
      "cell_type": "code",
      "metadata": {
        "id": "chxOXeJEQPM7",
        "colab_type": "code",
        "outputId": "f5ed96a5-f635-4395-d233-64f44adaaa65",
        "colab": {
          "base_uri": "https://localhost:8080/",
          "height": 34
        }
      },
      "source": [
        "# example of an 'if' statement\n",
        "message = 'Good afternoon'\n",
        "name = 'Dan'\n",
        "\n",
        "if name == 'Dan':\n",
        "  message += ' ' + name\n",
        "\n",
        "\n",
        "print(message)"
      ],
      "execution_count": 0,
      "outputs": [
        {
          "output_type": "stream",
          "text": [
            "Good afternoon Dan\n"
          ],
          "name": "stdout"
        }
      ]
    },
    {
      "cell_type": "code",
      "metadata": {
        "id": "QAnOMOVyRLEl",
        "colab_type": "code",
        "outputId": "0d02a81a-be14-4481-cb6e-192aa1d1223c",
        "colab": {
          "base_uri": "https://localhost:8080/",
          "height": 34
        }
      },
      "source": [
        "# example of if-else\n",
        "age = 26\n",
        "\n",
        "if age < 18:\n",
        "  print('Child')\n",
        "else:\n",
        "  print('Adult')\n",
        "\n"
      ],
      "execution_count": 0,
      "outputs": [
        {
          "output_type": "stream",
          "text": [
            "Adult\n"
          ],
          "name": "stdout"
        }
      ]
    },
    {
      "cell_type": "code",
      "metadata": {
        "id": "FS-SerK4Rwzo",
        "colab_type": "code",
        "outputId": "1c84dd13-3a6b-4302-c1a0-049c0b8d68f9",
        "colab": {
          "base_uri": "https://localhost:8080/",
          "height": 34
        }
      },
      "source": [
        "# example of if-elif\n",
        "age = 18\n",
        "message = 'Adult'\n",
        "\n",
        "if age < 13:\n",
        "  message = 'Child'\n",
        "elif age < 20:\n",
        "  message = 'Teen'\n",
        "\n",
        "print(message)"
      ],
      "execution_count": 0,
      "outputs": [
        {
          "output_type": "stream",
          "text": [
            "Teen\n"
          ],
          "name": "stdout"
        }
      ]
    },
    {
      "cell_type": "code",
      "metadata": {
        "id": "MuK8pLdvTSoQ",
        "colab_type": "code",
        "outputId": "faa559fc-d4bb-45ee-c5a9-37d05d915444",
        "colab": {
          "base_uri": "https://localhost:8080/",
          "height": 34
        }
      },
      "source": [
        "# example of if-elif-else\n",
        "age = 7\n",
        "\n",
        "if age < 13:\n",
        "  print('Child')\n",
        "elif age < 20:\n",
        "  print('Teen')\n",
        "elif age < 30:\n",
        "  print('Young Adult')\n",
        "else:\n",
        "  print('Adult')"
      ],
      "execution_count": 0,
      "outputs": [
        {
          "output_type": "stream",
          "text": [
            "Child\n"
          ],
          "name": "stdout"
        }
      ]
    },
    {
      "cell_type": "code",
      "metadata": {
        "id": "16mfYEyFT5Jk",
        "colab_type": "code",
        "outputId": "2e6234f6-0158-4cbb-dea2-5db824abc228",
        "colab": {
          "base_uri": "https://localhost:8080/",
          "height": 34
        }
      },
      "source": [
        "# example of a nested if statement\n",
        "age = 14\n",
        "gender = 'female'\n",
        "\n",
        "if age < 18:\n",
        "  if gender == 'female':\n",
        "    print('Girl')\n",
        "  else:\n",
        "    print('Boy')\n",
        "else: \n",
        "  if gender == 'female':\n",
        "    print('Woman')\n",
        "  else:\n",
        "    print('Man')"
      ],
      "execution_count": 0,
      "outputs": [
        {
          "output_type": "stream",
          "text": [
            "Girl\n"
          ],
          "name": "stdout"
        }
      ]
    },
    {
      "cell_type": "markdown",
      "metadata": {
        "id": "jMDuwoW7Wu4x",
        "colab_type": "text"
      },
      "source": [
        "Control statements, loop repeat a segment of code multiple times, need to control how to stop"
      ]
    },
    {
      "cell_type": "code",
      "metadata": {
        "id": "eSuOjnO-Vbnr",
        "colab_type": "code",
        "outputId": "2611cb66-faf4-46e1-d378-f0ff7850417b",
        "colab": {
          "base_uri": "https://localhost:8080/",
          "height": 68
        }
      },
      "source": [
        "# example of a for loop iterating through a list\n",
        "names = ['Sheldon','Amy','Rajesh','Leonard','Penny']\n",
        "\n",
        "for name in names:\n",
        "  print('Hello', name)"
      ],
      "execution_count": 0,
      "outputs": [
        {
          "output_type": "stream",
          "text": [
            "Hello Sheldon\n",
            "Hello Amy\n",
            "Hello Rajesh\n"
          ],
          "name": "stdout"
        }
      ]
    },
    {
      "cell_type": "code",
      "metadata": {
        "id": "FiwOFFJtVhuD",
        "colab_type": "code",
        "outputId": "8aa6b4b6-e2cf-49a4-bbb7-5c66255a3767",
        "colab": {
          "base_uri": "https://localhost:8080/",
          "height": 34
        }
      },
      "source": [
        "# example of a for loop useing the range() function\n",
        "total = 0\n",
        "for i in range(0, 10):\n",
        "  total += i\n",
        "\n",
        "print(total)\n"
      ],
      "execution_count": 0,
      "outputs": [
        {
          "output_type": "stream",
          "text": [
            "45\n"
          ],
          "name": "stdout"
        }
      ]
    },
    {
      "cell_type": "code",
      "metadata": {
        "id": "ni5s0vivVm9C",
        "colab_type": "code",
        "colab": {}
      },
      "source": [
        "# example of a for loop iterating through a list using the range() function\n",
        "item_prices = [12.99, 0.35, 2.49, 22.87, 6.99]\n",
        "subtotal = 0\n",
        "tax_rate = 1.1\n",
        "total = 0\n",
        "\n",
        "for index in range(len(item_prices)):\n",
        "  subtotal += item_prices[index]\n",
        "\n",
        "total = subtotal * tax_rate\n",
        "print('Total:', total)"
      ],
      "execution_count": 0,
      "outputs": []
    },
    {
      "cell_type": "code",
      "metadata": {
        "id": "SK84c-syWLHm",
        "colab_type": "code",
        "outputId": "232d6e5a-0061-4b7f-d466-fdcccd6736c2",
        "colab": {
          "base_uri": "https://localhost:8080/",
          "height": 204
        }
      },
      "source": [
        "# example of a for loop iterating backwords using the range() function\n",
        "for i in range(10, 0, -1):\n",
        "  print(i)\n",
        "\n",
        "print('liftoff!')"
      ],
      "execution_count": 0,
      "outputs": [
        {
          "output_type": "stream",
          "text": [
            "10\n",
            "9\n",
            "8\n",
            "7\n",
            "6\n",
            "5\n",
            "4\n",
            "3\n",
            "2\n",
            "1\n",
            "liftoff!\n"
          ],
          "name": "stdout"
        }
      ]
    },
    {
      "cell_type": "code",
      "metadata": {
        "id": "ZY-edPP8WLdc",
        "colab_type": "code",
        "outputId": "65db965b-5bdd-45f6-aff5-b619c21a0789",
        "colab": {
          "base_uri": "https://localhost:8080/",
          "height": 34
        }
      },
      "source": [
        "# example of a while loop\n",
        "import numpy as np\n",
        "\n",
        "total = 0. # total=0.0 floating point\n",
        "counter = 0\n",
        "while total < 1000:\n",
        "  total += np.random.random()\n",
        "  counter += 1\n",
        "\n",
        "print('The loop ran {} times. The total was {}'.format(counter, total))"
      ],
      "execution_count": 0,
      "outputs": [
        {
          "output_type": "stream",
          "text": [
            "The loop ran 2016 times. The total was 1000.5601231578241\n"
          ],
          "name": "stdout"
        }
      ]
    },
    {
      "cell_type": "code",
      "metadata": {
        "id": "pzBkMFpAWLqc",
        "colab_type": "code",
        "outputId": "a11ff175-c12f-4056-9119-e16fc189796a",
        "colab": {
          "base_uri": "https://localhost:8080/",
          "height": 357
        }
      },
      "source": [
        "# example of a for loop with a break statement\n",
        "total = 1\n",
        "for i in range(1000):\n",
        "  total *= 2\n",
        "  print(total)\n",
        "  if total > 1000000:\n",
        "    break"
      ],
      "execution_count": 0,
      "outputs": [
        {
          "output_type": "stream",
          "text": [
            "2\n",
            "4\n",
            "8\n",
            "16\n",
            "32\n",
            "64\n",
            "128\n",
            "256\n",
            "512\n",
            "1024\n",
            "2048\n",
            "4096\n",
            "8192\n",
            "16384\n",
            "32768\n",
            "65536\n",
            "131072\n",
            "262144\n",
            "524288\n",
            "1048576\n"
          ],
          "name": "stdout"
        }
      ]
    },
    {
      "cell_type": "code",
      "metadata": {
        "id": "D0DlO0OIWL3c",
        "colab_type": "code",
        "outputId": "b9a9bf73-b903-48b8-f625-0be6e64b46c2",
        "colab": {
          "base_uri": "https://localhost:8080/",
          "height": 85
        }
      },
      "source": [
        "# example of nested loop iterating through nested lists\n",
        "shoppers = ['Howard','Stuart','Penny','Bernadette']\n",
        "item_prices = [[12,3.40],[65,12],[34.56, 23.12, 99.88],[0.45, 45.67]]\n",
        "\n",
        "# for each shopper\n",
        "for shopper_index in range(len(shoppers)):\n",
        "  shopper = shoppers[shopper_index] # get the shopper's name\n",
        "  shopper_item_prices = item_prices[shopper_index] # get the list of prices for the items that the shopper purchased \n",
        "  item_count = len(shopper_item_prices) # get the number of items that the shopper purchased\n",
        "  total = 0 # compute the total amount that this shopper spent\n",
        "  for item_price in shopper_item_prices:\n",
        "    total += item_price\n",
        "\n",
        "  print('{} bought {} item(s) totaling {}'.format(shopper, item_count, total))\n",
        "\n"
      ],
      "execution_count": 0,
      "outputs": [
        {
          "output_type": "stream",
          "text": [
            "Howard bought 2 item(s) totaling 15.4\n",
            "Stuart bought 2 item(s) totaling 77\n",
            "Penny bought 3 item(s) totaling 157.56\n",
            "Bernadette bought 2 item(s) totaling 46.120000000000005\n"
          ],
          "name": "stdout"
        }
      ]
    },
    {
      "cell_type": "code",
      "metadata": {
        "id": "iMj4EO3fjd8s",
        "colab_type": "code",
        "outputId": "bfae5cfc-12d2-4109-97f0-23d25df6fc67",
        "colab": {
          "base_uri": "https://localhost:8080/",
          "height": 34
        }
      },
      "source": [
        "# example of defining and calling a 'crazy_name()' function\n",
        "def crazy_name(name):\n",
        "  names = ['Silly ', 'Wacky ', 'Drooling ', 'Dull ']\n",
        "  random_index = np.random.randint(len(names))\n",
        "  return names[random_index] + name\n",
        "\n",
        "print(crazy_name('Dan'))"
      ],
      "execution_count": 0,
      "outputs": [
        {
          "output_type": "stream",
          "text": [
            "Silly Dan\n"
          ],
          "name": "stdout"
        }
      ]
    },
    {
      "cell_type": "code",
      "metadata": {
        "id": "oqZucbVroRtn",
        "colab_type": "code",
        "outputId": "b0e108d8-9f24-4448-c886-534f0c6d3a1a",
        "colab": {
          "base_uri": "https://localhost:8080/",
          "height": 85
        }
      },
      "source": [
        "# example of defining a greeting() function and then call the function from a for loop with a lsit\n",
        "def greeting(name):\n",
        "  return 'Greetings ' + name + '!'\n",
        "\n",
        "names = ['Howard','Stuart','Penny','Bernadette']\n",
        "for name in names:\n",
        "  print(greeting(name))"
      ],
      "execution_count": 0,
      "outputs": [
        {
          "output_type": "stream",
          "text": [
            "Greetings Howard!\n",
            "Greetings Stuart!\n",
            "Greetings Penny!\n",
            "Greetings Bernadette!\n"
          ],
          "name": "stdout"
        }
      ]
    },
    {
      "cell_type": "code",
      "metadata": {
        "id": "mmjj0ZFPohE-",
        "colab_type": "code",
        "outputId": "613c5753-aea6-4f78-fa01-a286ddc41d67",
        "colab": {
          "base_uri": "https://localhost:8080/",
          "height": 68
        }
      },
      "source": [
        "# example of defining a function that uses conditional logic, and then call from a for loop with a dictionary\n",
        "def  get_age_label(age):\n",
        "  if age < 18:\n",
        "    return 'Child'\n",
        "  else:\n",
        "    return 'Adult'\n",
        "\n",
        "names = {'Sheldon': 45, 'Amy': 17, 'Rajesh': 37}\n",
        "\n",
        "for name in names:\n",
        "  age_label = get_age_label(names[name])\n",
        "  print('{} is a(n) {}'.format(name, age_label))\n"
      ],
      "execution_count": 0,
      "outputs": [
        {
          "output_type": "stream",
          "text": [
            "Sheldon is a(n) Adult\n",
            "Amy is a(n) Child\n",
            "Rajesh is a(n) Adult\n"
          ],
          "name": "stdout"
        }
      ]
    },
    {
      "cell_type": "code",
      "metadata": {
        "id": "OcIGTTCfqNZ2",
        "colab_type": "code",
        "outputId": "b0b155ee-d134-4710-f292-49c9907dd9b8",
        "colab": {
          "base_uri": "https://localhost:8080/",
          "height": 34
        }
      },
      "source": [
        "# example of a recursive function that computers the factorial of a number\n",
        "def factorial(x):\n",
        "  if x == 1:\n",
        "    return 1\n",
        "  else:\n",
        "    return (x*factorial(x-1))\n",
        "\n",
        "print(factorial(5))"
      ],
      "execution_count": 0,
      "outputs": [
        {
          "output_type": "stream",
          "text": [
            "120\n"
          ],
          "name": "stdout"
        }
      ]
    }
  ]
}