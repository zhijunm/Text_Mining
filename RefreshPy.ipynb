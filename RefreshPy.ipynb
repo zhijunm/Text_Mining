{
  "nbformat": 4,
  "nbformat_minor": 0,
  "metadata": {
    "colab": {
      "name": "IntroToPython.ipynb",
      "provenance": [],
      "authorship_tag": "ABX9TyPgrRR9RG09ewU8dvfuvov6",
      "include_colab_link": true
    },
    "kernelspec": {
      "name": "python3",
      "display_name": "Python 3"
    }
  },
  "cells": [
    {
      "cell_type": "markdown",
      "metadata": {
        "id": "view-in-github",
        "colab_type": "text"
      },
      "source": [
        "<a href=\"https://colab.research.google.com/github/zhijunm/Text_Mining/blob/master/RefreshPy.ipynb\" target=\"_parent\"><img src=\"https://colab.research.google.com/assets/colab-badge.svg\" alt=\"Open In Colab\"/></a>"
      ]
    },
    {
      "cell_type": "code",
      "metadata": {
        "id": "6szlmtt5RgKV",
        "colab_type": "code",
        "outputId": "7230c538-24ba-4d77-9cf4-4c8e48c74684",
        "colab": {
          "base_uri": "https://localhost:8080/",
          "height": 34
        }
      },
      "source": [
        "#strings\n",
        "s1 = 'this is my favorite text'\n",
        "s2 = 'I love typing it'\n",
        "print(s1, s2)"
      ],
      "execution_count": 0,
      "outputs": [
        {
          "output_type": "stream",
          "text": [
            "this is my favorite text I love typing it\n"
          ],
          "name": "stdout"
        }
      ]
    },
    {
      "cell_type": "markdown",
      "metadata": {
        "id": "6Xp1U_luSE2V",
        "colab_type": "text"
      },
      "source": [
        "Lists follow a sequence staring by 0, similar to arrays"
      ]
    },
    {
      "cell_type": "code",
      "metadata": {
        "id": "BKTegKkKSclq",
        "colab_type": "code",
        "outputId": "56ec6e65-26aa-42f6-8571-a4b779e01fee",
        "colab": {
          "base_uri": "https://localhost:8080/",
          "height": 51
        }
      },
      "source": [
        "l1 = ['egg', 'flour','butter']\n",
        "print (l1)\n",
        "l1[2]\n",
        "l1[0]"
      ],
      "execution_count": 0,
      "outputs": [
        {
          "output_type": "stream",
          "text": [
            "['egg', 'flour', 'butter']\n"
          ],
          "name": "stdout"
        },
        {
          "output_type": "execute_result",
          "data": {
            "text/plain": [
              "'egg'"
            ]
          },
          "metadata": {
            "tags": []
          },
          "execution_count": 3
        }
      ]
    },
    {
      "cell_type": "markdown",
      "metadata": {
        "id": "ehZZupqBSyIe",
        "colab_type": "text"
      },
      "source": [
        "Controlling code flow: if-else-if loop, for loop, while loop"
      ]
    },
    {
      "cell_type": "code",
      "metadata": {
        "id": "_RmJ6nPBS6As",
        "colab_type": "code",
        "outputId": "659877fc-787e-46d6-952a-5a3f06870355",
        "colab": {
          "base_uri": "https://localhost:8080/",
          "height": 51
        }
      },
      "source": [
        "var = 'fly'\n",
        "if var == 'fly':\n",
        "  print(var)\n",
        "\n",
        "var = \"high\"\n",
        "if var == \"fly\":\n",
        "  print(var)\n",
        "elif var == 'high':\n",
        "  print(var)"
      ],
      "execution_count": 0,
      "outputs": [
        {
          "output_type": "stream",
          "text": [
            "fly\n",
            "high\n"
          ],
          "name": "stdout"
        }
      ]
    },
    {
      "cell_type": "code",
      "metadata": {
        "id": "4AMNek7DTVrC",
        "colab_type": "code",
        "outputId": "0bcbfdbd-98b4-4fa2-b95e-292254430420",
        "colab": {
          "base_uri": "https://localhost:8080/",
          "height": 34
        }
      },
      "source": [
        "var = 'foo'\n",
        "if var == 'spam':\n",
        "  print('spam')\n",
        "elif var == 'ham':\n",
        "  print('ham')\n",
        "else:\n",
        "  print('Neith spam or ham')"
      ],
      "execution_count": 0,
      "outputs": [
        {
          "output_type": "stream",
          "text": [
            "Neith spam or ham\n"
          ],
          "name": "stdout"
        }
      ]
    },
    {
      "cell_type": "markdown",
      "metadata": {
        "id": "YKB6MDzsT5oU",
        "colab_type": "text"
      },
      "source": [
        "Working with text: basic operations, like concatenation, checking for substrings, characters and lengths."
      ]
    },
    {
      "cell_type": "code",
      "metadata": {
        "id": "JAKHeUJiURnc",
        "colab_type": "code",
        "outputId": "c33def51-d21a-4cba-c65d-aa3e6e58dde5",
        "colab": {
          "base_uri": "https://localhost:8080/",
          "height": 34
        }
      },
      "source": [
        "# concatenation\n",
        "'Hello' + ' and welcome ' + 'to Text Mining with Python!'\n",
        "# concatenation of variables and literals\n",
        "s1 = 'Python!'\n",
        "'Hello ' + s1\n",
        "# concatenating several strings together in parentheses\n",
        "s3 = ('This '\n",
        "      'is '\n",
        "      'another way to '\n",
        "      'concatenate string')\n",
        "s3"
      ],
      "execution_count": 0,
      "outputs": [
        {
          "output_type": "execute_result",
          "data": {
            "text/plain": [
              "'This is another way to concatenate string'"
            ]
          },
          "metadata": {
            "tags": []
          },
          "execution_count": 9
        }
      ]
    },
    {
      "cell_type": "markdown",
      "metadata": {
        "id": "nHZ51Y5iFpAL",
        "colab_type": "text"
      },
      "source": [
        "Indexing and Slicing: Accessing a single character using a specific position or index in the string is called indexing, and accessing a part of a string, for example, a substring using a start and end index, is called slicing."
      ]
    },
    {
      "cell_type": "code",
      "metadata": {
        "id": "pZ0hRt5XFsks",
        "colab_type": "code",
        "outputId": "4b09df13-45d8-4a6e-a918-1fc091d69ed2",
        "colab": {
          "base_uri": "https://localhost:8080/",
          "height": 187
        }
      },
      "source": [
        "s = 'washington'\n",
        "for index, charater in enumerate(s):\n",
        "  print('Charater -' + charater+':','has index:', index)"
      ],
      "execution_count": 0,
      "outputs": [
        {
          "output_type": "stream",
          "text": [
            "Charater -w: has index: 0\n",
            "Charater -a: has index: 1\n",
            "Charater -s: has index: 2\n",
            "Charater -h: has index: 3\n",
            "Charater -i: has index: 4\n",
            "Charater -n: has index: 5\n",
            "Charater -g: has index: 6\n",
            "Charater -t: has index: 7\n",
            "Charater -o: has index: 8\n",
            "Charater -n: has index: 9\n"
          ],
          "name": "stdout"
        }
      ]
    },
    {
      "cell_type": "code",
      "metadata": {
        "id": "gbMTRq-oGG-N",
        "colab_type": "code",
        "outputId": "4cb8b1ef-0c04-4b71-a0ea-f217f6ccccae",
        "colab": {
          "base_uri": "https://localhost:8080/",
          "height": 51
        }
      },
      "source": [
        "# string indexing\n",
        "str = \"Washington\"\n",
        "print(str[0])\n",
        "print(str[5])"
      ],
      "execution_count": 0,
      "outputs": [
        {
          "output_type": "stream",
          "text": [
            "W\n",
            "n\n"
          ],
          "name": "stdout"
        }
      ]
    },
    {
      "cell_type": "code",
      "metadata": {
        "id": "v7_na7pKGTHC",
        "colab_type": "code",
        "outputId": "05c13df9-d68a-4eed-af03-324356c79acb",
        "colab": {
          "base_uri": "https://localhost:8080/",
          "height": 34
        }
      },
      "source": [
        "# string slicing\n",
        "s = 'PYTHON'\n",
        "s[2:5]\n"
      ],
      "execution_count": 0,
      "outputs": [
        {
          "output_type": "execute_result",
          "data": {
            "text/plain": [
              "'THO'"
            ]
          },
          "metadata": {
            "tags": []
          },
          "execution_count": 5
        }
      ]
    },
    {
      "cell_type": "markdown",
      "metadata": {
        "id": "wfAMcvSJGvhH",
        "colab_type": "text"
      },
      "source": [
        "Working with text: Methods: there are several built-in methods in python at your disposal, which you can use for performing various transformations, manipulations, and operations on strings."
      ]
    },
    {
      "cell_type": "code",
      "metadata": {
        "id": "vH5K0meXHdCm",
        "colab_type": "code",
        "outputId": "96ce081f-dc67-426f-e978-6e58f3733b64",
        "colab": {
          "base_uri": "https://localhost:8080/",
          "height": 34
        }
      },
      "source": [
        "# case conversions\n",
        "s= 'text analytics is very useful'\n",
        "s.upper()"
      ],
      "execution_count": 0,
      "outputs": [
        {
          "output_type": "execute_result",
          "data": {
            "text/plain": [
              "'TEXT ANALYTICS IS VERY USEFUL'"
            ]
          },
          "metadata": {
            "tags": []
          },
          "execution_count": 6
        }
      ]
    },
    {
      "cell_type": "code",
      "metadata": {
        "id": "U-nx_jQQHoOu",
        "colab_type": "code",
        "outputId": "7b65c003-36e9-464f-f79c-8ec5c7c019f9",
        "colab": {
          "base_uri": "https://localhost:8080/",
          "height": 34
        }
      },
      "source": [
        "# string repalcement\n",
        "s = 'python is great'\n",
        "s.replace('python', 'analytics')"
      ],
      "execution_count": 0,
      "outputs": [
        {
          "output_type": "execute_result",
          "data": {
            "text/plain": [
              "'analytics is great'"
            ]
          },
          "metadata": {
            "tags": []
          },
          "execution_count": 7
        }
      ]
    },
    {
      "cell_type": "code",
      "metadata": {
        "id": "KSDDbBQrHySn",
        "colab_type": "code",
        "outputId": "3d2159b9-dcf8-45f1-d9ce-6b0bf4245a4d",
        "colab": {
          "base_uri": "https://localhost:8080/",
          "height": 34
        }
      },
      "source": [
        "# string splitting and joining\n",
        "s = 'I,am,comma,separated,string'\n",
        "s.split(',')"
      ],
      "execution_count": 0,
      "outputs": [
        {
          "output_type": "execute_result",
          "data": {
            "text/plain": [
              "['I', 'am', 'comma', 'separated', 'string']"
            ]
          },
          "metadata": {
            "tags": []
          },
          "execution_count": 8
        }
      ]
    },
    {
      "cell_type": "code",
      "metadata": {
        "colab_type": "code",
        "outputId": "aadaf957-6fa4-4630-8c04-2d726f4d85e7",
        "id": "4kwAVyGPIXO2",
        "colab": {
          "base_uri": "https://localhost:8080/",
          "height": 51
        }
      },
      "source": [
        "# stripping whitespace charaters\n",
        "s = '    I am surrounded by spaces    '\n",
        "print(s)\n",
        "s.strip()\n"
      ],
      "execution_count": 0,
      "outputs": [
        {
          "output_type": "stream",
          "text": [
            "    I am surrounded by spaces    \n"
          ],
          "name": "stdout"
        },
        {
          "output_type": "execute_result",
          "data": {
            "text/plain": [
              "'I am surrounded by spaces'"
            ]
          },
          "metadata": {
            "tags": []
          },
          "execution_count": 11
        }
      ]
    },
    {
      "cell_type": "code",
      "metadata": {
        "id": "NDQtrNQKIa1f",
        "colab_type": "code",
        "outputId": "9509d2f4-a1af-4ac0-c0e4-3a2d2bb58e6e",
        "colab": {
          "base_uri": "https://localhost:8080/",
          "height": 34
        }
      },
      "source": [
        "# convert to title case\n",
        "s = 'this is in lower case'\n",
        "s.title()"
      ],
      "execution_count": 0,
      "outputs": [
        {
          "output_type": "execute_result",
          "data": {
            "text/plain": [
              "'This Is In Lower Case'"
            ]
          },
          "metadata": {
            "tags": []
          },
          "execution_count": 12
        }
      ]
    }
  ]
}