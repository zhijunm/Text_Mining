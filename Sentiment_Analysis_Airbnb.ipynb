{
  "nbformat": 4,
  "nbformat_minor": 0,
  "metadata": {
    "colab": {
      "name": "Sentiment_Analysis_Airbnb.ipynb",
      "provenance": [],
      "include_colab_link": true
    },
    "kernelspec": {
      "name": "python3",
      "display_name": "Python 3"
    }
  },
  "cells": [
    {
      "cell_type": "markdown",
      "metadata": {
        "id": "view-in-github",
        "colab_type": "text"
      },
      "source": [
        "<a href=\"https://colab.research.google.com/github/zhijunm/Text_Mining/blob/master/Sentiment_Analysis_Airbnb.ipynb\" target=\"_parent\"><img src=\"https://colab.research.google.com/assets/colab-badge.svg\" alt=\"Open In Colab\"/></a>"
      ]
    },
    {
      "cell_type": "code",
      "metadata": {
        "id": "zI0srU2NdUrC",
        "colab_type": "code",
        "colab": {
          "base_uri": "https://localhost:8080/",
          "height": 193
        },
        "outputId": "b18fb44a-d902-40af-a3b6-1870a3350cd7"
      },
      "source": [
        "## import NLTK libraries\n",
        "import nltk\n",
        "nltk.download('stopwords')\n",
        "nltk.download('wordnet')\n",
        "nltk.download('punkt')\n",
        "nltk.download('averaged_perceptron_tagger') \n",
        "\n",
        "!pip install -q wordcloud\n",
        "from pprint import pprint\n",
        "import csv\n",
        "from typing import List\n",
        "import re\n",
        "import pandas as pd\n",
        "import numpy as np\n",
        "import matplotlib.pyplot as plt\n"
      ],
      "execution_count": null,
      "outputs": [
        {
          "output_type": "stream",
          "text": [
            "[nltk_data] Downloading package stopwords to /root/nltk_data...\n",
            "[nltk_data]   Package stopwords is already up-to-date!\n",
            "[nltk_data] Downloading package wordnet to /root/nltk_data...\n",
            "[nltk_data]   Package wordnet is already up-to-date!\n",
            "[nltk_data] Downloading package punkt to /root/nltk_data...\n",
            "[nltk_data]   Package punkt is already up-to-date!\n",
            "[nltk_data] Downloading package averaged_perceptron_tagger to\n",
            "[nltk_data]     /root/nltk_data...\n",
            "[nltk_data]   Package averaged_perceptron_tagger is already up-to-\n",
            "[nltk_data]       date!\n"
          ],
          "name": "stdout"
        }
      ]
    },
    {
      "cell_type": "code",
      "metadata": {
        "id": "jPWO8xemdUji",
        "colab_type": "code",
        "colab": {
          "resources": {
            "http://localhost:8080/nbextensions/google.colab/files.js": {
              "data": "Ly8gQ29weXJpZ2h0IDIwMTcgR29vZ2xlIExMQwovLwovLyBMaWNlbnNlZCB1bmRlciB0aGUgQXBhY2hlIExpY2Vuc2UsIFZlcnNpb24gMi4wICh0aGUgIkxpY2Vuc2UiKTsKLy8geW91IG1heSBub3QgdXNlIHRoaXMgZmlsZSBleGNlcHQgaW4gY29tcGxpYW5jZSB3aXRoIHRoZSBMaWNlbnNlLgovLyBZb3UgbWF5IG9idGFpbiBhIGNvcHkgb2YgdGhlIExpY2Vuc2UgYXQKLy8KLy8gICAgICBodHRwOi8vd3d3LmFwYWNoZS5vcmcvbGljZW5zZXMvTElDRU5TRS0yLjAKLy8KLy8gVW5sZXNzIHJlcXVpcmVkIGJ5IGFwcGxpY2FibGUgbGF3IG9yIGFncmVlZCB0byBpbiB3cml0aW5nLCBzb2Z0d2FyZQovLyBkaXN0cmlidXRlZCB1bmRlciB0aGUgTGljZW5zZSBpcyBkaXN0cmlidXRlZCBvbiBhbiAiQVMgSVMiIEJBU0lTLAovLyBXSVRIT1VUIFdBUlJBTlRJRVMgT1IgQ09ORElUSU9OUyBPRiBBTlkgS0lORCwgZWl0aGVyIGV4cHJlc3Mgb3IgaW1wbGllZC4KLy8gU2VlIHRoZSBMaWNlbnNlIGZvciB0aGUgc3BlY2lmaWMgbGFuZ3VhZ2UgZ292ZXJuaW5nIHBlcm1pc3Npb25zIGFuZAovLyBsaW1pdGF0aW9ucyB1bmRlciB0aGUgTGljZW5zZS4KCi8qKgogKiBAZmlsZW92ZXJ2aWV3IEhlbHBlcnMgZm9yIGdvb2dsZS5jb2xhYiBQeXRob24gbW9kdWxlLgogKi8KKGZ1bmN0aW9uKHNjb3BlKSB7CmZ1bmN0aW9uIHNwYW4odGV4dCwgc3R5bGVBdHRyaWJ1dGVzID0ge30pIHsKICBjb25zdCBlbGVtZW50ID0gZG9jdW1lbnQuY3JlYXRlRWxlbWVudCgnc3BhbicpOwogIGVsZW1lbnQudGV4dENvbnRlbnQgPSB0ZXh0OwogIGZvciAoY29uc3Qga2V5IG9mIE9iamVjdC5rZXlzKHN0eWxlQXR0cmlidXRlcykpIHsKICAgIGVsZW1lbnQuc3R5bGVba2V5XSA9IHN0eWxlQXR0cmlidXRlc1trZXldOwogIH0KICByZXR1cm4gZWxlbWVudDsKfQoKLy8gTWF4IG51bWJlciBvZiBieXRlcyB3aGljaCB3aWxsIGJlIHVwbG9hZGVkIGF0IGEgdGltZS4KY29uc3QgTUFYX1BBWUxPQURfU0laRSA9IDEwMCAqIDEwMjQ7Ci8vIE1heCBhbW91bnQgb2YgdGltZSB0byBibG9jayB3YWl0aW5nIGZvciB0aGUgdXNlci4KY29uc3QgRklMRV9DSEFOR0VfVElNRU9VVF9NUyA9IDMwICogMTAwMDsKCmZ1bmN0aW9uIF91cGxvYWRGaWxlcyhpbnB1dElkLCBvdXRwdXRJZCkgewogIGNvbnN0IHN0ZXBzID0gdXBsb2FkRmlsZXNTdGVwKGlucHV0SWQsIG91dHB1dElkKTsKICBjb25zdCBvdXRwdXRFbGVtZW50ID0gZG9jdW1lbnQuZ2V0RWxlbWVudEJ5SWQob3V0cHV0SWQpOwogIC8vIENhY2hlIHN0ZXBzIG9uIHRoZSBvdXRwdXRFbGVtZW50IHRvIG1ha2UgaXQgYXZhaWxhYmxlIGZvciB0aGUgbmV4dCBjYWxsCiAgLy8gdG8gdXBsb2FkRmlsZXNDb250aW51ZSBmcm9tIFB5dGhvbi4KICBvdXRwdXRFbGVtZW50LnN0ZXBzID0gc3RlcHM7CgogIHJldHVybiBfdXBsb2FkRmlsZXNDb250aW51ZShvdXRwdXRJZCk7Cn0KCi8vIFRoaXMgaXMgcm91Z2hseSBhbiBhc3luYyBnZW5lcmF0b3IgKG5vdCBzdXBwb3J0ZWQgaW4gdGhlIGJyb3dzZXIgeWV0KSwKLy8gd2hlcmUgdGhlcmUgYXJlIG11bHRpcGxlIGFzeW5jaHJvbm91cyBzdGVwcyBhbmQgdGhlIFB5dGhvbiBzaWRlIGlzIGdvaW5nCi8vIHRvIHBvbGwgZm9yIGNvbXBsZXRpb24gb2YgZWFjaCBzdGVwLgovLyBUaGlzIHVzZXMgYSBQcm9taXNlIHRvIGJsb2NrIHRoZSBweXRob24gc2lkZSBvbiBjb21wbGV0aW9uIG9mIGVhY2ggc3RlcCwKLy8gdGhlbiBwYXNzZXMgdGhlIHJlc3VsdCBvZiB0aGUgcHJldmlvdXMgc3RlcCBhcyB0aGUgaW5wdXQgdG8gdGhlIG5leHQgc3RlcC4KZnVuY3Rpb24gX3VwbG9hZEZpbGVzQ29udGludWUob3V0cHV0SWQpIHsKICBjb25zdCBvdXRwdXRFbGVtZW50ID0gZG9jdW1lbnQuZ2V0RWxlbWVudEJ5SWQob3V0cHV0SWQpOwogIGNvbnN0IHN0ZXBzID0gb3V0cHV0RWxlbWVudC5zdGVwczsKCiAgY29uc3QgbmV4dCA9IHN0ZXBzLm5leHQob3V0cHV0RWxlbWVudC5sYXN0UHJvbWlzZVZhbHVlKTsKICByZXR1cm4gUHJvbWlzZS5yZXNvbHZlKG5leHQudmFsdWUucHJvbWlzZSkudGhlbigodmFsdWUpID0+IHsKICAgIC8vIENhY2hlIHRoZSBsYXN0IHByb21pc2UgdmFsdWUgdG8gbWFrZSBpdCBhdmFpbGFibGUgdG8gdGhlIG5leHQKICAgIC8vIHN0ZXAgb2YgdGhlIGdlbmVyYXRvci4KICAgIG91dHB1dEVsZW1lbnQubGFzdFByb21pc2VWYWx1ZSA9IHZhbHVlOwogICAgcmV0dXJuIG5leHQudmFsdWUucmVzcG9uc2U7CiAgfSk7Cn0KCi8qKgogKiBHZW5lcmF0b3IgZnVuY3Rpb24gd2hpY2ggaXMgY2FsbGVkIGJldHdlZW4gZWFjaCBhc3luYyBzdGVwIG9mIHRoZSB1cGxvYWQKICogcHJvY2Vzcy4KICogQHBhcmFtIHtzdHJpbmd9IGlucHV0SWQgRWxlbWVudCBJRCBvZiB0aGUgaW5wdXQgZmlsZSBwaWNrZXIgZWxlbWVudC4KICogQHBhcmFtIHtzdHJpbmd9IG91dHB1dElkIEVsZW1lbnQgSUQgb2YgdGhlIG91dHB1dCBkaXNwbGF5LgogKiBAcmV0dXJuIHshSXRlcmFibGU8IU9iamVjdD59IEl0ZXJhYmxlIG9mIG5leHQgc3RlcHMuCiAqLwpmdW5jdGlvbiogdXBsb2FkRmlsZXNTdGVwKGlucHV0SWQsIG91dHB1dElkKSB7CiAgY29uc3QgaW5wdXRFbGVtZW50ID0gZG9jdW1lbnQuZ2V0RWxlbWVudEJ5SWQoaW5wdXRJZCk7CiAgaW5wdXRFbGVtZW50LmRpc2FibGVkID0gZmFsc2U7CgogIGNvbnN0IG91dHB1dEVsZW1lbnQgPSBkb2N1bWVudC5nZXRFbGVtZW50QnlJZChvdXRwdXRJZCk7CiAgb3V0cHV0RWxlbWVudC5pbm5lckhUTUwgPSAnJzsKCiAgY29uc3QgcGlja2VkUHJvbWlzZSA9IG5ldyBQcm9taXNlKChyZXNvbHZlKSA9PiB7CiAgICBpbnB1dEVsZW1lbnQuYWRkRXZlbnRMaXN0ZW5lcignY2hhbmdlJywgKGUpID0+IHsKICAgICAgcmVzb2x2ZShlLnRhcmdldC5maWxlcyk7CiAgICB9KTsKICB9KTsKCiAgY29uc3QgY2FuY2VsID0gZG9jdW1lbnQuY3JlYXRlRWxlbWVudCgnYnV0dG9uJyk7CiAgaW5wdXRFbGVtZW50LnBhcmVudEVsZW1lbnQuYXBwZW5kQ2hpbGQoY2FuY2VsKTsKICBjYW5jZWwudGV4dENvbnRlbnQgPSAnQ2FuY2VsIHVwbG9hZCc7CiAgY29uc3QgY2FuY2VsUHJvbWlzZSA9IG5ldyBQcm9taXNlKChyZXNvbHZlKSA9PiB7CiAgICBjYW5jZWwub25jbGljayA9ICgpID0+IHsKICAgICAgcmVzb2x2ZShudWxsKTsKICAgIH07CiAgfSk7CgogIC8vIENhbmNlbCB1cGxvYWQgaWYgdXNlciBoYXNuJ3QgcGlja2VkIGFueXRoaW5nIGluIHRpbWVvdXQuCiAgY29uc3QgdGltZW91dFByb21pc2UgPSBuZXcgUHJvbWlzZSgocmVzb2x2ZSkgPT4gewogICAgc2V0VGltZW91dCgoKSA9PiB7CiAgICAgIHJlc29sdmUobnVsbCk7CiAgICB9LCBGSUxFX0NIQU5HRV9USU1FT1VUX01TKTsKICB9KTsKCiAgLy8gV2FpdCBmb3IgdGhlIHVzZXIgdG8gcGljayB0aGUgZmlsZXMuCiAgY29uc3QgZmlsZXMgPSB5aWVsZCB7CiAgICBwcm9taXNlOiBQcm9taXNlLnJhY2UoW3BpY2tlZFByb21pc2UsIHRpbWVvdXRQcm9taXNlLCBjYW5jZWxQcm9taXNlXSksCiAgICByZXNwb25zZTogewogICAgICBhY3Rpb246ICdzdGFydGluZycsCiAgICB9CiAgfTsKCiAgaWYgKCFmaWxlcykgewogICAgcmV0dXJuIHsKICAgICAgcmVzcG9uc2U6IHsKICAgICAgICBhY3Rpb246ICdjb21wbGV0ZScsCiAgICAgIH0KICAgIH07CiAgfQoKICBjYW5jZWwucmVtb3ZlKCk7CgogIC8vIERpc2FibGUgdGhlIGlucHV0IGVsZW1lbnQgc2luY2UgZnVydGhlciBwaWNrcyBhcmUgbm90IGFsbG93ZWQuCiAgaW5wdXRFbGVtZW50LmRpc2FibGVkID0gdHJ1ZTsKCiAgZm9yIChjb25zdCBmaWxlIG9mIGZpbGVzKSB7CiAgICBjb25zdCBsaSA9IGRvY3VtZW50LmNyZWF0ZUVsZW1lbnQoJ2xpJyk7CiAgICBsaS5hcHBlbmQoc3BhbihmaWxlLm5hbWUsIHtmb250V2VpZ2h0OiAnYm9sZCd9KSk7CiAgICBsaS5hcHBlbmQoc3BhbigKICAgICAgICBgKCR7ZmlsZS50eXBlIHx8ICduL2EnfSkgLSAke2ZpbGUuc2l6ZX0gYnl0ZXMsIGAgKwogICAgICAgIGBsYXN0IG1vZGlmaWVkOiAkewogICAgICAgICAgICBmaWxlLmxhc3RNb2RpZmllZERhdGUgPyBmaWxlLmxhc3RNb2RpZmllZERhdGUudG9Mb2NhbGVEYXRlU3RyaW5nKCkgOgogICAgICAgICAgICAgICAgICAgICAgICAgICAgICAgICAgICAnbi9hJ30gLSBgKSk7CiAgICBjb25zdCBwZXJjZW50ID0gc3BhbignMCUgZG9uZScpOwogICAgbGkuYXBwZW5kQ2hpbGQocGVyY2VudCk7CgogICAgb3V0cHV0RWxlbWVudC5hcHBlbmRDaGlsZChsaSk7CgogICAgY29uc3QgZmlsZURhdGFQcm9taXNlID0gbmV3IFByb21pc2UoKHJlc29sdmUpID0+IHsKICAgICAgY29uc3QgcmVhZGVyID0gbmV3IEZpbGVSZWFkZXIoKTsKICAgICAgcmVhZGVyLm9ubG9hZCA9IChlKSA9PiB7CiAgICAgICAgcmVzb2x2ZShlLnRhcmdldC5yZXN1bHQpOwogICAgICB9OwogICAgICByZWFkZXIucmVhZEFzQXJyYXlCdWZmZXIoZmlsZSk7CiAgICB9KTsKICAgIC8vIFdhaXQgZm9yIHRoZSBkYXRhIHRvIGJlIHJlYWR5LgogICAgbGV0IGZpbGVEYXRhID0geWllbGQgewogICAgICBwcm9taXNlOiBmaWxlRGF0YVByb21pc2UsCiAgICAgIHJlc3BvbnNlOiB7CiAgICAgICAgYWN0aW9uOiAnY29udGludWUnLAogICAgICB9CiAgICB9OwoKICAgIC8vIFVzZSBhIGNodW5rZWQgc2VuZGluZyB0byBhdm9pZCBtZXNzYWdlIHNpemUgbGltaXRzLiBTZWUgYi82MjExNTY2MC4KICAgIGxldCBwb3NpdGlvbiA9IDA7CiAgICB3aGlsZSAocG9zaXRpb24gPCBmaWxlRGF0YS5ieXRlTGVuZ3RoKSB7CiAgICAgIGNvbnN0IGxlbmd0aCA9IE1hdGgubWluKGZpbGVEYXRhLmJ5dGVMZW5ndGggLSBwb3NpdGlvbiwgTUFYX1BBWUxPQURfU0laRSk7CiAgICAgIGNvbnN0IGNodW5rID0gbmV3IFVpbnQ4QXJyYXkoZmlsZURhdGEsIHBvc2l0aW9uLCBsZW5ndGgpOwogICAgICBwb3NpdGlvbiArPSBsZW5ndGg7CgogICAgICBjb25zdCBiYXNlNjQgPSBidG9hKFN0cmluZy5mcm9tQ2hhckNvZGUuYXBwbHkobnVsbCwgY2h1bmspKTsKICAgICAgeWllbGQgewogICAgICAgIHJlc3BvbnNlOiB7CiAgICAgICAgICBhY3Rpb246ICdhcHBlbmQnLAogICAgICAgICAgZmlsZTogZmlsZS5uYW1lLAogICAgICAgICAgZGF0YTogYmFzZTY0LAogICAgICAgIH0sCiAgICAgIH07CiAgICAgIHBlcmNlbnQudGV4dENvbnRlbnQgPQogICAgICAgICAgYCR7TWF0aC5yb3VuZCgocG9zaXRpb24gLyBmaWxlRGF0YS5ieXRlTGVuZ3RoKSAqIDEwMCl9JSBkb25lYDsKICAgIH0KICB9CgogIC8vIEFsbCBkb25lLgogIHlpZWxkIHsKICAgIHJlc3BvbnNlOiB7CiAgICAgIGFjdGlvbjogJ2NvbXBsZXRlJywKICAgIH0KICB9Owp9CgpzY29wZS5nb29nbGUgPSBzY29wZS5nb29nbGUgfHwge307CnNjb3BlLmdvb2dsZS5jb2xhYiA9IHNjb3BlLmdvb2dsZS5jb2xhYiB8fCB7fTsKc2NvcGUuZ29vZ2xlLmNvbGFiLl9maWxlcyA9IHsKICBfdXBsb2FkRmlsZXMsCiAgX3VwbG9hZEZpbGVzQ29udGludWUsCn07Cn0pKHNlbGYpOwo=",
              "ok": true,
              "headers": [
                [
                  "content-type",
                  "application/javascript"
                ]
              ],
              "status": 200,
              "status_text": ""
            }
          },
          "base_uri": "https://localhost:8080/",
          "height": 92
        },
        "outputId": "06fa5169-363a-4ab0-fca5-c1339351979b"
      },
      "source": [
        "# Load dataset\n",
        "from google.colab import files\n",
        "uploaded = files.upload()"
      ],
      "execution_count": null,
      "outputs": [
        {
          "output_type": "display_data",
          "data": {
            "text/html": [
              "\n",
              "     <input type=\"file\" id=\"files-1b55eb1f-95e5-4870-9e6b-622951fb3b18\" name=\"files[]\" multiple disabled />\n",
              "     <output id=\"result-1b55eb1f-95e5-4870-9e6b-622951fb3b18\">\n",
              "      Upload widget is only available when the cell has been executed in the\n",
              "      current browser session. Please rerun this cell to enable.\n",
              "      </output>\n",
              "      <script src=\"/nbextensions/google.colab/files.js\"></script> "
            ],
            "text/plain": [
              "<IPython.core.display.HTML object>"
            ]
          },
          "metadata": {
            "tags": []
          }
        },
        {
          "output_type": "stream",
          "text": [
            "Saving ReviewUpdated.xlsx to ReviewUpdated.xlsx\n"
          ],
          "name": "stdout"
        }
      ]
    },
    {
      "cell_type": "code",
      "metadata": {
        "id": "YvwiQadxw4x3",
        "colab_type": "code",
        "colab": {
          "base_uri": "https://localhost:8080/",
          "height": 1000
        },
        "outputId": "62ae4292-5787-4c06-9eec-1b43f4154458"
      },
      "source": [
        "import io\n",
        "review=pd.read_excel(io.BytesIO(uploaded['ReviewUpdated.xlsx']))\n",
        "review"
      ],
      "execution_count": null,
      "outputs": [
        {
          "output_type": "execute_result",
          "data": {
            "text/html": [
              "<div>\n",
              "<style scoped>\n",
              "    .dataframe tbody tr th:only-of-type {\n",
              "        vertical-align: middle;\n",
              "    }\n",
              "\n",
              "    .dataframe tbody tr th {\n",
              "        vertical-align: top;\n",
              "    }\n",
              "\n",
              "    .dataframe thead th {\n",
              "        text-align: right;\n",
              "    }\n",
              "</style>\n",
              "<table border=\"1\" class=\"dataframe\">\n",
              "  <thead>\n",
              "    <tr style=\"text-align: right;\">\n",
              "      <th></th>\n",
              "      <th>listing_id</th>\n",
              "      <th>id</th>\n",
              "      <th>date</th>\n",
              "      <th>reviewer_id</th>\n",
              "      <th>reviewer_name</th>\n",
              "      <th>comments</th>\n",
              "      <th>name_of_property</th>\n",
              "      <th>summary</th>\n",
              "      <th>neighborhood_overview</th>\n",
              "      <th>transit</th>\n",
              "      <th>host_name</th>\n",
              "      <th>host_response_time</th>\n",
              "      <th>neighbourhood_group_cleansed</th>\n",
              "      <th>zipcode</th>\n",
              "      <th>property_type</th>\n",
              "      <th>room_type</th>\n",
              "      <th>bathrooms</th>\n",
              "      <th>bedrooms</th>\n",
              "      <th>beds</th>\n",
              "      <th>bed_type</th>\n",
              "      <th>amenities</th>\n",
              "      <th>price</th>\n",
              "      <th>number_of_reviews</th>\n",
              "      <th>cancellation_policy</th>\n",
              "      <th>review_scores_rating</th>\n",
              "      <th>review_scores_value</th>\n",
              "    </tr>\n",
              "  </thead>\n",
              "  <tbody>\n",
              "    <tr>\n",
              "      <th>0</th>\n",
              "      <td>7202016</td>\n",
              "      <td>38917982</td>\n",
              "      <td>2015-07-19</td>\n",
              "      <td>28943674</td>\n",
              "      <td>Bianca</td>\n",
              "      <td>Cute and cozy place. Perfect location to every...</td>\n",
              "      <td>Cute Mid Century near Downtown</td>\n",
              "      <td>Cute mid century condo within walking distance...</td>\n",
              "      <td>Neighborhood has everything.  Coffee, restaura...</td>\n",
              "      <td>Free on street parking (you are close to all m...</td>\n",
              "      <td>Kelly</td>\n",
              "      <td>within an hour</td>\n",
              "      <td>Queen Anne</td>\n",
              "      <td>98119.0</td>\n",
              "      <td>Apartment</td>\n",
              "      <td>Private room</td>\n",
              "      <td>1.0</td>\n",
              "      <td>1.0</td>\n",
              "      <td>1</td>\n",
              "      <td>Pull-out Sofa</td>\n",
              "      <td>{Internet,\"Wireless Internet\",Kitchen,Heating,...</td>\n",
              "      <td>75</td>\n",
              "      <td>16</td>\n",
              "      <td>flexible</td>\n",
              "      <td>95.0</td>\n",
              "      <td>10.0</td>\n",
              "    </tr>\n",
              "    <tr>\n",
              "      <th>1</th>\n",
              "      <td>7202016</td>\n",
              "      <td>39087409</td>\n",
              "      <td>2015-07-20</td>\n",
              "      <td>32440555</td>\n",
              "      <td>Frank</td>\n",
              "      <td>Kelly has a great room in a very central locat...</td>\n",
              "      <td>Cute Mid Century near Downtown</td>\n",
              "      <td>Cute mid century condo within walking distance...</td>\n",
              "      <td>Neighborhood has everything.  Coffee, restaura...</td>\n",
              "      <td>Free on street parking (you are close to all m...</td>\n",
              "      <td>Kelly</td>\n",
              "      <td>within an hour</td>\n",
              "      <td>Queen Anne</td>\n",
              "      <td>98119.0</td>\n",
              "      <td>Apartment</td>\n",
              "      <td>Private room</td>\n",
              "      <td>1.0</td>\n",
              "      <td>1.0</td>\n",
              "      <td>1</td>\n",
              "      <td>Pull-out Sofa</td>\n",
              "      <td>{Internet,\"Wireless Internet\",Kitchen,Heating,...</td>\n",
              "      <td>75</td>\n",
              "      <td>16</td>\n",
              "      <td>flexible</td>\n",
              "      <td>95.0</td>\n",
              "      <td>10.0</td>\n",
              "    </tr>\n",
              "    <tr>\n",
              "      <th>2</th>\n",
              "      <td>7202016</td>\n",
              "      <td>39820030</td>\n",
              "      <td>2015-07-26</td>\n",
              "      <td>37722850</td>\n",
              "      <td>Ian</td>\n",
              "      <td>Very spacious apartment, and in a great neighb...</td>\n",
              "      <td>Cute Mid Century near Downtown</td>\n",
              "      <td>Cute mid century condo within walking distance...</td>\n",
              "      <td>Neighborhood has everything.  Coffee, restaura...</td>\n",
              "      <td>Free on street parking (you are close to all m...</td>\n",
              "      <td>Kelly</td>\n",
              "      <td>within an hour</td>\n",
              "      <td>Queen Anne</td>\n",
              "      <td>98119.0</td>\n",
              "      <td>Apartment</td>\n",
              "      <td>Private room</td>\n",
              "      <td>1.0</td>\n",
              "      <td>1.0</td>\n",
              "      <td>1</td>\n",
              "      <td>Pull-out Sofa</td>\n",
              "      <td>{Internet,\"Wireless Internet\",Kitchen,Heating,...</td>\n",
              "      <td>75</td>\n",
              "      <td>16</td>\n",
              "      <td>flexible</td>\n",
              "      <td>95.0</td>\n",
              "      <td>10.0</td>\n",
              "    </tr>\n",
              "    <tr>\n",
              "      <th>3</th>\n",
              "      <td>7202016</td>\n",
              "      <td>40813543</td>\n",
              "      <td>2015-08-02</td>\n",
              "      <td>33671805</td>\n",
              "      <td>George</td>\n",
              "      <td>Close to Seattle Center and all it has to offe...</td>\n",
              "      <td>Cute Mid Century near Downtown</td>\n",
              "      <td>Cute mid century condo within walking distance...</td>\n",
              "      <td>Neighborhood has everything.  Coffee, restaura...</td>\n",
              "      <td>Free on street parking (you are close to all m...</td>\n",
              "      <td>Kelly</td>\n",
              "      <td>within an hour</td>\n",
              "      <td>Queen Anne</td>\n",
              "      <td>98119.0</td>\n",
              "      <td>Apartment</td>\n",
              "      <td>Private room</td>\n",
              "      <td>1.0</td>\n",
              "      <td>1.0</td>\n",
              "      <td>1</td>\n",
              "      <td>Pull-out Sofa</td>\n",
              "      <td>{Internet,\"Wireless Internet\",Kitchen,Heating,...</td>\n",
              "      <td>75</td>\n",
              "      <td>16</td>\n",
              "      <td>flexible</td>\n",
              "      <td>95.0</td>\n",
              "      <td>10.0</td>\n",
              "    </tr>\n",
              "    <tr>\n",
              "      <th>4</th>\n",
              "      <td>7202016</td>\n",
              "      <td>41986501</td>\n",
              "      <td>2015-08-10</td>\n",
              "      <td>34959538</td>\n",
              "      <td>Ming</td>\n",
              "      <td>Kelly was a great host and very accommodating ...</td>\n",
              "      <td>Cute Mid Century near Downtown</td>\n",
              "      <td>Cute mid century condo within walking distance...</td>\n",
              "      <td>Neighborhood has everything.  Coffee, restaura...</td>\n",
              "      <td>Free on street parking (you are close to all m...</td>\n",
              "      <td>Kelly</td>\n",
              "      <td>within an hour</td>\n",
              "      <td>Queen Anne</td>\n",
              "      <td>98119.0</td>\n",
              "      <td>Apartment</td>\n",
              "      <td>Private room</td>\n",
              "      <td>1.0</td>\n",
              "      <td>1.0</td>\n",
              "      <td>1</td>\n",
              "      <td>Pull-out Sofa</td>\n",
              "      <td>{Internet,\"Wireless Internet\",Kitchen,Heating,...</td>\n",
              "      <td>75</td>\n",
              "      <td>16</td>\n",
              "      <td>flexible</td>\n",
              "      <td>95.0</td>\n",
              "      <td>10.0</td>\n",
              "    </tr>\n",
              "    <tr>\n",
              "      <th>...</th>\n",
              "      <td>...</td>\n",
              "      <td>...</td>\n",
              "      <td>...</td>\n",
              "      <td>...</td>\n",
              "      <td>...</td>\n",
              "      <td>...</td>\n",
              "      <td>...</td>\n",
              "      <td>...</td>\n",
              "      <td>...</td>\n",
              "      <td>...</td>\n",
              "      <td>...</td>\n",
              "      <td>...</td>\n",
              "      <td>...</td>\n",
              "      <td>...</td>\n",
              "      <td>...</td>\n",
              "      <td>...</td>\n",
              "      <td>...</td>\n",
              "      <td>...</td>\n",
              "      <td>...</td>\n",
              "      <td>...</td>\n",
              "      <td>...</td>\n",
              "      <td>...</td>\n",
              "      <td>...</td>\n",
              "      <td>...</td>\n",
              "      <td>...</td>\n",
              "      <td>...</td>\n",
              "    </tr>\n",
              "    <tr>\n",
              "      <th>84844</th>\n",
              "      <td>3624990</td>\n",
              "      <td>50436321</td>\n",
              "      <td>2015-10-12</td>\n",
              "      <td>37419458</td>\n",
              "      <td>Ryan</td>\n",
              "      <td>The description and pictures of the apartment ...</td>\n",
              "      <td>Large Downtown 2 Bedroom Condo</td>\n",
              "      <td>Seattle Suites, LLC manages privately owned fu...</td>\n",
              "      <td>The Pike/Pine Corridor, recently call \"Sesame ...</td>\n",
              "      <td>Getting around downtown is a breeze. Most thin...</td>\n",
              "      <td>Rebecca</td>\n",
              "      <td>within an hour</td>\n",
              "      <td>Downtown</td>\n",
              "      <td>98101.0</td>\n",
              "      <td>Apartment</td>\n",
              "      <td>Entire home/apt</td>\n",
              "      <td>1.0</td>\n",
              "      <td>2.0</td>\n",
              "      <td>4</td>\n",
              "      <td>Real Bed</td>\n",
              "      <td>{TV,\"Cable TV\",Internet,\"Wireless Internet\",\"A...</td>\n",
              "      <td>175</td>\n",
              "      <td>18</td>\n",
              "      <td>moderate</td>\n",
              "      <td>90.0</td>\n",
              "      <td>9.0</td>\n",
              "    </tr>\n",
              "    <tr>\n",
              "      <th>84845</th>\n",
              "      <td>3624990</td>\n",
              "      <td>51024875</td>\n",
              "      <td>2015-10-17</td>\n",
              "      <td>6933252</td>\n",
              "      <td>Linda</td>\n",
              "      <td>We had an excellent stay. It was clean and com...</td>\n",
              "      <td>Large Downtown 2 Bedroom Condo</td>\n",
              "      <td>Seattle Suites, LLC manages privately owned fu...</td>\n",
              "      <td>The Pike/Pine Corridor, recently call \"Sesame ...</td>\n",
              "      <td>Getting around downtown is a breeze. Most thin...</td>\n",
              "      <td>Rebecca</td>\n",
              "      <td>within an hour</td>\n",
              "      <td>Downtown</td>\n",
              "      <td>98101.0</td>\n",
              "      <td>Apartment</td>\n",
              "      <td>Entire home/apt</td>\n",
              "      <td>1.0</td>\n",
              "      <td>2.0</td>\n",
              "      <td>4</td>\n",
              "      <td>Real Bed</td>\n",
              "      <td>{TV,\"Cable TV\",Internet,\"Wireless Internet\",\"A...</td>\n",
              "      <td>175</td>\n",
              "      <td>18</td>\n",
              "      <td>moderate</td>\n",
              "      <td>90.0</td>\n",
              "      <td>9.0</td>\n",
              "    </tr>\n",
              "    <tr>\n",
              "      <th>84846</th>\n",
              "      <td>3624990</td>\n",
              "      <td>51511988</td>\n",
              "      <td>2015-10-20</td>\n",
              "      <td>19543701</td>\n",
              "      <td>Jaime</td>\n",
              "      <td>Gran ubicaci√≥n, cerca de todo lo atractivo de...</td>\n",
              "      <td>Large Downtown 2 Bedroom Condo</td>\n",
              "      <td>Seattle Suites, LLC manages privately owned fu...</td>\n",
              "      <td>The Pike/Pine Corridor, recently call \"Sesame ...</td>\n",
              "      <td>Getting around downtown is a breeze. Most thin...</td>\n",
              "      <td>Rebecca</td>\n",
              "      <td>within an hour</td>\n",
              "      <td>Downtown</td>\n",
              "      <td>98101.0</td>\n",
              "      <td>Apartment</td>\n",
              "      <td>Entire home/apt</td>\n",
              "      <td>1.0</td>\n",
              "      <td>2.0</td>\n",
              "      <td>4</td>\n",
              "      <td>Real Bed</td>\n",
              "      <td>{TV,\"Cable TV\",Internet,\"Wireless Internet\",\"A...</td>\n",
              "      <td>175</td>\n",
              "      <td>18</td>\n",
              "      <td>moderate</td>\n",
              "      <td>90.0</td>\n",
              "      <td>9.0</td>\n",
              "    </tr>\n",
              "    <tr>\n",
              "      <th>84847</th>\n",
              "      <td>3624990</td>\n",
              "      <td>52814482</td>\n",
              "      <td>2015-11-02</td>\n",
              "      <td>24445024</td>\n",
              "      <td>J√∏rgen</td>\n",
              "      <td>Very good apartement, clean and well sized. Si...</td>\n",
              "      <td>Large Downtown 2 Bedroom Condo</td>\n",
              "      <td>Seattle Suites, LLC manages privately owned fu...</td>\n",
              "      <td>The Pike/Pine Corridor, recently call \"Sesame ...</td>\n",
              "      <td>Getting around downtown is a breeze. Most thin...</td>\n",
              "      <td>Rebecca</td>\n",
              "      <td>within an hour</td>\n",
              "      <td>Downtown</td>\n",
              "      <td>98101.0</td>\n",
              "      <td>Apartment</td>\n",
              "      <td>Entire home/apt</td>\n",
              "      <td>1.0</td>\n",
              "      <td>2.0</td>\n",
              "      <td>4</td>\n",
              "      <td>Real Bed</td>\n",
              "      <td>{TV,\"Cable TV\",Internet,\"Wireless Internet\",\"A...</td>\n",
              "      <td>175</td>\n",
              "      <td>18</td>\n",
              "      <td>moderate</td>\n",
              "      <td>90.0</td>\n",
              "      <td>9.0</td>\n",
              "    </tr>\n",
              "    <tr>\n",
              "      <th>84848</th>\n",
              "      <td>9727246</td>\n",
              "      <td>56429621</td>\n",
              "      <td>2015-12-13</td>\n",
              "      <td>30860360</td>\n",
              "      <td>Stephanie</td>\n",
              "      <td>Breanne was a great host. Check in was easy, s...</td>\n",
              "      <td>Sunny, clean Capitol Hill studio</td>\n",
              "      <td>Vintage studio with cozy sleeping nook. Great ...</td>\n",
              "      <td>Capitol Hill is a vibrant neighborhood, home t...</td>\n",
              "      <td>Steps to the heart of Capitol Hill, 15th ave. ...</td>\n",
              "      <td>Breanne</td>\n",
              "      <td>within a few hours</td>\n",
              "      <td>Capitol Hill</td>\n",
              "      <td>98122.0</td>\n",
              "      <td>Apartment</td>\n",
              "      <td>Entire home/apt</td>\n",
              "      <td>1.0</td>\n",
              "      <td>0.0</td>\n",
              "      <td>3</td>\n",
              "      <td>Real Bed</td>\n",
              "      <td>{TV,\"Cable TV\",Internet,\"Wireless Internet\",\"A...</td>\n",
              "      <td>92</td>\n",
              "      <td>1</td>\n",
              "      <td>moderate</td>\n",
              "      <td>100.0</td>\n",
              "      <td>10.0</td>\n",
              "    </tr>\n",
              "  </tbody>\n",
              "</table>\n",
              "<p>84849 rows × 26 columns</p>\n",
              "</div>"
            ],
            "text/plain": [
              "       listing_id        id  ... review_scores_rating  review_scores_value\n",
              "0         7202016  38917982  ...                 95.0                 10.0\n",
              "1         7202016  39087409  ...                 95.0                 10.0\n",
              "2         7202016  39820030  ...                 95.0                 10.0\n",
              "3         7202016  40813543  ...                 95.0                 10.0\n",
              "4         7202016  41986501  ...                 95.0                 10.0\n",
              "...           ...       ...  ...                  ...                  ...\n",
              "84844     3624990  50436321  ...                 90.0                  9.0\n",
              "84845     3624990  51024875  ...                 90.0                  9.0\n",
              "84846     3624990  51511988  ...                 90.0                  9.0\n",
              "84847     3624990  52814482  ...                 90.0                  9.0\n",
              "84848     9727246  56429621  ...                100.0                 10.0\n",
              "\n",
              "[84849 rows x 26 columns]"
            ]
          },
          "metadata": {
            "tags": []
          },
          "execution_count": 3
        }
      ]
    },
    {
      "cell_type": "code",
      "metadata": {
        "id": "YbdqH2gkdUfk",
        "colab_type": "code",
        "colab": {
          "base_uri": "https://localhost:8080/",
          "height": 1000
        },
        "outputId": "afcfbe39-2027-4d13-e9e4-06ad25505872"
      },
      "source": [
        "# Overview of dataset\n",
        "review = pd.read_excel(\"ReviewUpdated.xlsx\")\n",
        "review"
      ],
      "execution_count": null,
      "outputs": [
        {
          "output_type": "execute_result",
          "data": {
            "text/html": [
              "<div>\n",
              "<style scoped>\n",
              "    .dataframe tbody tr th:only-of-type {\n",
              "        vertical-align: middle;\n",
              "    }\n",
              "\n",
              "    .dataframe tbody tr th {\n",
              "        vertical-align: top;\n",
              "    }\n",
              "\n",
              "    .dataframe thead th {\n",
              "        text-align: right;\n",
              "    }\n",
              "</style>\n",
              "<table border=\"1\" class=\"dataframe\">\n",
              "  <thead>\n",
              "    <tr style=\"text-align: right;\">\n",
              "      <th></th>\n",
              "      <th>listing_id</th>\n",
              "      <th>id</th>\n",
              "      <th>date</th>\n",
              "      <th>reviewer_id</th>\n",
              "      <th>reviewer_name</th>\n",
              "      <th>comments</th>\n",
              "      <th>name_of_property</th>\n",
              "      <th>summary</th>\n",
              "      <th>neighborhood_overview</th>\n",
              "      <th>transit</th>\n",
              "      <th>host_name</th>\n",
              "      <th>host_response_time</th>\n",
              "      <th>neighbourhood_group_cleansed</th>\n",
              "      <th>zipcode</th>\n",
              "      <th>property_type</th>\n",
              "      <th>room_type</th>\n",
              "      <th>bathrooms</th>\n",
              "      <th>bedrooms</th>\n",
              "      <th>beds</th>\n",
              "      <th>bed_type</th>\n",
              "      <th>amenities</th>\n",
              "      <th>price</th>\n",
              "      <th>number_of_reviews</th>\n",
              "      <th>cancellation_policy</th>\n",
              "      <th>review_scores_rating</th>\n",
              "      <th>review_scores_value</th>\n",
              "    </tr>\n",
              "  </thead>\n",
              "  <tbody>\n",
              "    <tr>\n",
              "      <th>0</th>\n",
              "      <td>7202016</td>\n",
              "      <td>38917982</td>\n",
              "      <td>2015-07-19</td>\n",
              "      <td>28943674</td>\n",
              "      <td>Bianca</td>\n",
              "      <td>Cute and cozy place. Perfect location to every...</td>\n",
              "      <td>Cute Mid Century near Downtown</td>\n",
              "      <td>Cute mid century condo within walking distance...</td>\n",
              "      <td>Neighborhood has everything.  Coffee, restaura...</td>\n",
              "      <td>Free on street parking (you are close to all m...</td>\n",
              "      <td>Kelly</td>\n",
              "      <td>within an hour</td>\n",
              "      <td>Queen Anne</td>\n",
              "      <td>98119.0</td>\n",
              "      <td>Apartment</td>\n",
              "      <td>Private room</td>\n",
              "      <td>1.0</td>\n",
              "      <td>1.0</td>\n",
              "      <td>1</td>\n",
              "      <td>Pull-out Sofa</td>\n",
              "      <td>{Internet,\"Wireless Internet\",Kitchen,Heating,...</td>\n",
              "      <td>75</td>\n",
              "      <td>16</td>\n",
              "      <td>flexible</td>\n",
              "      <td>95.0</td>\n",
              "      <td>10.0</td>\n",
              "    </tr>\n",
              "    <tr>\n",
              "      <th>1</th>\n",
              "      <td>7202016</td>\n",
              "      <td>39087409</td>\n",
              "      <td>2015-07-20</td>\n",
              "      <td>32440555</td>\n",
              "      <td>Frank</td>\n",
              "      <td>Kelly has a great room in a very central locat...</td>\n",
              "      <td>Cute Mid Century near Downtown</td>\n",
              "      <td>Cute mid century condo within walking distance...</td>\n",
              "      <td>Neighborhood has everything.  Coffee, restaura...</td>\n",
              "      <td>Free on street parking (you are close to all m...</td>\n",
              "      <td>Kelly</td>\n",
              "      <td>within an hour</td>\n",
              "      <td>Queen Anne</td>\n",
              "      <td>98119.0</td>\n",
              "      <td>Apartment</td>\n",
              "      <td>Private room</td>\n",
              "      <td>1.0</td>\n",
              "      <td>1.0</td>\n",
              "      <td>1</td>\n",
              "      <td>Pull-out Sofa</td>\n",
              "      <td>{Internet,\"Wireless Internet\",Kitchen,Heating,...</td>\n",
              "      <td>75</td>\n",
              "      <td>16</td>\n",
              "      <td>flexible</td>\n",
              "      <td>95.0</td>\n",
              "      <td>10.0</td>\n",
              "    </tr>\n",
              "    <tr>\n",
              "      <th>2</th>\n",
              "      <td>7202016</td>\n",
              "      <td>39820030</td>\n",
              "      <td>2015-07-26</td>\n",
              "      <td>37722850</td>\n",
              "      <td>Ian</td>\n",
              "      <td>Very spacious apartment, and in a great neighb...</td>\n",
              "      <td>Cute Mid Century near Downtown</td>\n",
              "      <td>Cute mid century condo within walking distance...</td>\n",
              "      <td>Neighborhood has everything.  Coffee, restaura...</td>\n",
              "      <td>Free on street parking (you are close to all m...</td>\n",
              "      <td>Kelly</td>\n",
              "      <td>within an hour</td>\n",
              "      <td>Queen Anne</td>\n",
              "      <td>98119.0</td>\n",
              "      <td>Apartment</td>\n",
              "      <td>Private room</td>\n",
              "      <td>1.0</td>\n",
              "      <td>1.0</td>\n",
              "      <td>1</td>\n",
              "      <td>Pull-out Sofa</td>\n",
              "      <td>{Internet,\"Wireless Internet\",Kitchen,Heating,...</td>\n",
              "      <td>75</td>\n",
              "      <td>16</td>\n",
              "      <td>flexible</td>\n",
              "      <td>95.0</td>\n",
              "      <td>10.0</td>\n",
              "    </tr>\n",
              "    <tr>\n",
              "      <th>3</th>\n",
              "      <td>7202016</td>\n",
              "      <td>40813543</td>\n",
              "      <td>2015-08-02</td>\n",
              "      <td>33671805</td>\n",
              "      <td>George</td>\n",
              "      <td>Close to Seattle Center and all it has to offe...</td>\n",
              "      <td>Cute Mid Century near Downtown</td>\n",
              "      <td>Cute mid century condo within walking distance...</td>\n",
              "      <td>Neighborhood has everything.  Coffee, restaura...</td>\n",
              "      <td>Free on street parking (you are close to all m...</td>\n",
              "      <td>Kelly</td>\n",
              "      <td>within an hour</td>\n",
              "      <td>Queen Anne</td>\n",
              "      <td>98119.0</td>\n",
              "      <td>Apartment</td>\n",
              "      <td>Private room</td>\n",
              "      <td>1.0</td>\n",
              "      <td>1.0</td>\n",
              "      <td>1</td>\n",
              "      <td>Pull-out Sofa</td>\n",
              "      <td>{Internet,\"Wireless Internet\",Kitchen,Heating,...</td>\n",
              "      <td>75</td>\n",
              "      <td>16</td>\n",
              "      <td>flexible</td>\n",
              "      <td>95.0</td>\n",
              "      <td>10.0</td>\n",
              "    </tr>\n",
              "    <tr>\n",
              "      <th>4</th>\n",
              "      <td>7202016</td>\n",
              "      <td>41986501</td>\n",
              "      <td>2015-08-10</td>\n",
              "      <td>34959538</td>\n",
              "      <td>Ming</td>\n",
              "      <td>Kelly was a great host and very accommodating ...</td>\n",
              "      <td>Cute Mid Century near Downtown</td>\n",
              "      <td>Cute mid century condo within walking distance...</td>\n",
              "      <td>Neighborhood has everything.  Coffee, restaura...</td>\n",
              "      <td>Free on street parking (you are close to all m...</td>\n",
              "      <td>Kelly</td>\n",
              "      <td>within an hour</td>\n",
              "      <td>Queen Anne</td>\n",
              "      <td>98119.0</td>\n",
              "      <td>Apartment</td>\n",
              "      <td>Private room</td>\n",
              "      <td>1.0</td>\n",
              "      <td>1.0</td>\n",
              "      <td>1</td>\n",
              "      <td>Pull-out Sofa</td>\n",
              "      <td>{Internet,\"Wireless Internet\",Kitchen,Heating,...</td>\n",
              "      <td>75</td>\n",
              "      <td>16</td>\n",
              "      <td>flexible</td>\n",
              "      <td>95.0</td>\n",
              "      <td>10.0</td>\n",
              "    </tr>\n",
              "    <tr>\n",
              "      <th>...</th>\n",
              "      <td>...</td>\n",
              "      <td>...</td>\n",
              "      <td>...</td>\n",
              "      <td>...</td>\n",
              "      <td>...</td>\n",
              "      <td>...</td>\n",
              "      <td>...</td>\n",
              "      <td>...</td>\n",
              "      <td>...</td>\n",
              "      <td>...</td>\n",
              "      <td>...</td>\n",
              "      <td>...</td>\n",
              "      <td>...</td>\n",
              "      <td>...</td>\n",
              "      <td>...</td>\n",
              "      <td>...</td>\n",
              "      <td>...</td>\n",
              "      <td>...</td>\n",
              "      <td>...</td>\n",
              "      <td>...</td>\n",
              "      <td>...</td>\n",
              "      <td>...</td>\n",
              "      <td>...</td>\n",
              "      <td>...</td>\n",
              "      <td>...</td>\n",
              "      <td>...</td>\n",
              "    </tr>\n",
              "    <tr>\n",
              "      <th>84844</th>\n",
              "      <td>3624990</td>\n",
              "      <td>50436321</td>\n",
              "      <td>2015-10-12</td>\n",
              "      <td>37419458</td>\n",
              "      <td>Ryan</td>\n",
              "      <td>The description and pictures of the apartment ...</td>\n",
              "      <td>Large Downtown 2 Bedroom Condo</td>\n",
              "      <td>Seattle Suites, LLC manages privately owned fu...</td>\n",
              "      <td>The Pike/Pine Corridor, recently call \"Sesame ...</td>\n",
              "      <td>Getting around downtown is a breeze. Most thin...</td>\n",
              "      <td>Rebecca</td>\n",
              "      <td>within an hour</td>\n",
              "      <td>Downtown</td>\n",
              "      <td>98101.0</td>\n",
              "      <td>Apartment</td>\n",
              "      <td>Entire home/apt</td>\n",
              "      <td>1.0</td>\n",
              "      <td>2.0</td>\n",
              "      <td>4</td>\n",
              "      <td>Real Bed</td>\n",
              "      <td>{TV,\"Cable TV\",Internet,\"Wireless Internet\",\"A...</td>\n",
              "      <td>175</td>\n",
              "      <td>18</td>\n",
              "      <td>moderate</td>\n",
              "      <td>90.0</td>\n",
              "      <td>9.0</td>\n",
              "    </tr>\n",
              "    <tr>\n",
              "      <th>84845</th>\n",
              "      <td>3624990</td>\n",
              "      <td>51024875</td>\n",
              "      <td>2015-10-17</td>\n",
              "      <td>6933252</td>\n",
              "      <td>Linda</td>\n",
              "      <td>We had an excellent stay. It was clean and com...</td>\n",
              "      <td>Large Downtown 2 Bedroom Condo</td>\n",
              "      <td>Seattle Suites, LLC manages privately owned fu...</td>\n",
              "      <td>The Pike/Pine Corridor, recently call \"Sesame ...</td>\n",
              "      <td>Getting around downtown is a breeze. Most thin...</td>\n",
              "      <td>Rebecca</td>\n",
              "      <td>within an hour</td>\n",
              "      <td>Downtown</td>\n",
              "      <td>98101.0</td>\n",
              "      <td>Apartment</td>\n",
              "      <td>Entire home/apt</td>\n",
              "      <td>1.0</td>\n",
              "      <td>2.0</td>\n",
              "      <td>4</td>\n",
              "      <td>Real Bed</td>\n",
              "      <td>{TV,\"Cable TV\",Internet,\"Wireless Internet\",\"A...</td>\n",
              "      <td>175</td>\n",
              "      <td>18</td>\n",
              "      <td>moderate</td>\n",
              "      <td>90.0</td>\n",
              "      <td>9.0</td>\n",
              "    </tr>\n",
              "    <tr>\n",
              "      <th>84846</th>\n",
              "      <td>3624990</td>\n",
              "      <td>51511988</td>\n",
              "      <td>2015-10-20</td>\n",
              "      <td>19543701</td>\n",
              "      <td>Jaime</td>\n",
              "      <td>Gran ubicaci√≥n, cerca de todo lo atractivo de...</td>\n",
              "      <td>Large Downtown 2 Bedroom Condo</td>\n",
              "      <td>Seattle Suites, LLC manages privately owned fu...</td>\n",
              "      <td>The Pike/Pine Corridor, recently call \"Sesame ...</td>\n",
              "      <td>Getting around downtown is a breeze. Most thin...</td>\n",
              "      <td>Rebecca</td>\n",
              "      <td>within an hour</td>\n",
              "      <td>Downtown</td>\n",
              "      <td>98101.0</td>\n",
              "      <td>Apartment</td>\n",
              "      <td>Entire home/apt</td>\n",
              "      <td>1.0</td>\n",
              "      <td>2.0</td>\n",
              "      <td>4</td>\n",
              "      <td>Real Bed</td>\n",
              "      <td>{TV,\"Cable TV\",Internet,\"Wireless Internet\",\"A...</td>\n",
              "      <td>175</td>\n",
              "      <td>18</td>\n",
              "      <td>moderate</td>\n",
              "      <td>90.0</td>\n",
              "      <td>9.0</td>\n",
              "    </tr>\n",
              "    <tr>\n",
              "      <th>84847</th>\n",
              "      <td>3624990</td>\n",
              "      <td>52814482</td>\n",
              "      <td>2015-11-02</td>\n",
              "      <td>24445024</td>\n",
              "      <td>J√∏rgen</td>\n",
              "      <td>Very good apartement, clean and well sized. Si...</td>\n",
              "      <td>Large Downtown 2 Bedroom Condo</td>\n",
              "      <td>Seattle Suites, LLC manages privately owned fu...</td>\n",
              "      <td>The Pike/Pine Corridor, recently call \"Sesame ...</td>\n",
              "      <td>Getting around downtown is a breeze. Most thin...</td>\n",
              "      <td>Rebecca</td>\n",
              "      <td>within an hour</td>\n",
              "      <td>Downtown</td>\n",
              "      <td>98101.0</td>\n",
              "      <td>Apartment</td>\n",
              "      <td>Entire home/apt</td>\n",
              "      <td>1.0</td>\n",
              "      <td>2.0</td>\n",
              "      <td>4</td>\n",
              "      <td>Real Bed</td>\n",
              "      <td>{TV,\"Cable TV\",Internet,\"Wireless Internet\",\"A...</td>\n",
              "      <td>175</td>\n",
              "      <td>18</td>\n",
              "      <td>moderate</td>\n",
              "      <td>90.0</td>\n",
              "      <td>9.0</td>\n",
              "    </tr>\n",
              "    <tr>\n",
              "      <th>84848</th>\n",
              "      <td>9727246</td>\n",
              "      <td>56429621</td>\n",
              "      <td>2015-12-13</td>\n",
              "      <td>30860360</td>\n",
              "      <td>Stephanie</td>\n",
              "      <td>Breanne was a great host. Check in was easy, s...</td>\n",
              "      <td>Sunny, clean Capitol Hill studio</td>\n",
              "      <td>Vintage studio with cozy sleeping nook. Great ...</td>\n",
              "      <td>Capitol Hill is a vibrant neighborhood, home t...</td>\n",
              "      <td>Steps to the heart of Capitol Hill, 15th ave. ...</td>\n",
              "      <td>Breanne</td>\n",
              "      <td>within a few hours</td>\n",
              "      <td>Capitol Hill</td>\n",
              "      <td>98122.0</td>\n",
              "      <td>Apartment</td>\n",
              "      <td>Entire home/apt</td>\n",
              "      <td>1.0</td>\n",
              "      <td>0.0</td>\n",
              "      <td>3</td>\n",
              "      <td>Real Bed</td>\n",
              "      <td>{TV,\"Cable TV\",Internet,\"Wireless Internet\",\"A...</td>\n",
              "      <td>92</td>\n",
              "      <td>1</td>\n",
              "      <td>moderate</td>\n",
              "      <td>100.0</td>\n",
              "      <td>10.0</td>\n",
              "    </tr>\n",
              "  </tbody>\n",
              "</table>\n",
              "<p>84849 rows × 26 columns</p>\n",
              "</div>"
            ],
            "text/plain": [
              "       listing_id        id  ... review_scores_rating  review_scores_value\n",
              "0         7202016  38917982  ...                 95.0                 10.0\n",
              "1         7202016  39087409  ...                 95.0                 10.0\n",
              "2         7202016  39820030  ...                 95.0                 10.0\n",
              "3         7202016  40813543  ...                 95.0                 10.0\n",
              "4         7202016  41986501  ...                 95.0                 10.0\n",
              "...           ...       ...  ...                  ...                  ...\n",
              "84844     3624990  50436321  ...                 90.0                  9.0\n",
              "84845     3624990  51024875  ...                 90.0                  9.0\n",
              "84846     3624990  51511988  ...                 90.0                  9.0\n",
              "84847     3624990  52814482  ...                 90.0                  9.0\n",
              "84848     9727246  56429621  ...                100.0                 10.0\n",
              "\n",
              "[84849 rows x 26 columns]"
            ]
          },
          "metadata": {
            "tags": []
          },
          "execution_count": 4
        }
      ]
    },
    {
      "cell_type": "code",
      "metadata": {
        "id": "5-KNq-Z6iLM_",
        "colab_type": "code",
        "colab": {
          "base_uri": "https://localhost:8080/",
          "height": 34
        },
        "outputId": "d7a9683f-d01b-4063-a4df-859436b7e8c9"
      },
      "source": [
        "# Total characters in Review \n",
        "review.shape"
      ],
      "execution_count": null,
      "outputs": [
        {
          "output_type": "execute_result",
          "data": {
            "text/plain": [
              "(84849, 26)"
            ]
          },
          "metadata": {
            "tags": []
          },
          "execution_count": 5
        }
      ]
    },
    {
      "cell_type": "code",
      "metadata": {
        "id": "hcg4LQY0iLJF",
        "colab_type": "code",
        "colab": {
          "base_uri": "https://localhost:8080/",
          "height": 680
        },
        "outputId": "a84213d6-1e96-442a-df62-b23a33102a6e"
      },
      "source": [
        "# Check missing values in 'comments' (Pandas will recognize both empty cells and NA types as missing values)\n",
        "print(review['comments'].isnull())\n",
        "sum(review['comments'].isnull())\n",
        "# Check missing values in all\n",
        "print(review.isnull().sum())"
      ],
      "execution_count": null,
      "outputs": [
        {
          "output_type": "stream",
          "text": [
            "0        False\n",
            "1        False\n",
            "2        False\n",
            "3        False\n",
            "4        False\n",
            "         ...  \n",
            "84844    False\n",
            "84845    False\n",
            "84846    False\n",
            "84847    False\n",
            "84848    False\n",
            "Name: comments, Length: 84849, dtype: bool\n",
            "listing_id                          0\n",
            "id                                  0\n",
            "date                                0\n",
            "reviewer_id                         0\n",
            "reviewer_name                       0\n",
            "comments                           19\n",
            "name_of_property                    0\n",
            "summary                          9014\n",
            "neighborhood_overview           18415\n",
            "transit                         14729\n",
            "host_name                           0\n",
            "host_response_time               3639\n",
            "neighbourhood_group_cleansed        0\n",
            "zipcode                           213\n",
            "property_type                       0\n",
            "room_type                           0\n",
            "bathrooms                         609\n",
            "bedrooms                          290\n",
            "beds                                0\n",
            "bed_type                            0\n",
            "amenities                           0\n",
            "price                               0\n",
            "number_of_reviews                   0\n",
            "cancellation_policy                 0\n",
            "review_scores_rating               20\n",
            "review_scores_value                32\n",
            "dtype: int64\n"
          ],
          "name": "stdout"
        }
      ]
    },
    {
      "cell_type": "code",
      "metadata": {
        "id": "Zseb_v0KiLE-",
        "colab_type": "code",
        "colab": {
          "base_uri": "https://localhost:8080/",
          "height": 476
        },
        "outputId": "21603bc7-ee93-49c5-f15f-36e690649bc9"
      },
      "source": [
        "# replace bathrooms and bedrooms with median\n",
        "median1 = review['bathrooms'].median()\n",
        "review['bathrooms'].fillna(median1, inplace=True)\n",
        "median2 = review['bedrooms'].median()\n",
        "review['bedrooms'].fillna(median2, inplace=True)\n",
        "print(review.isnull().sum())"
      ],
      "execution_count": null,
      "outputs": [
        {
          "output_type": "stream",
          "text": [
            "listing_id                          0\n",
            "id                                  0\n",
            "date                                0\n",
            "reviewer_id                         0\n",
            "reviewer_name                       0\n",
            "comments                           19\n",
            "name_of_property                    0\n",
            "summary                          9014\n",
            "neighborhood_overview           18415\n",
            "transit                         14729\n",
            "host_name                           0\n",
            "host_response_time               3639\n",
            "neighbourhood_group_cleansed        0\n",
            "zipcode                           213\n",
            "property_type                       0\n",
            "room_type                           0\n",
            "bathrooms                           0\n",
            "bedrooms                            0\n",
            "beds                                0\n",
            "bed_type                            0\n",
            "amenities                           0\n",
            "price                               0\n",
            "number_of_reviews                   0\n",
            "cancellation_policy                 0\n",
            "review_scores_rating               20\n",
            "review_scores_value                32\n",
            "dtype: int64\n"
          ],
          "name": "stdout"
        }
      ]
    },
    {
      "cell_type": "code",
      "metadata": {
        "id": "W4uKUxVviLBZ",
        "colab_type": "code",
        "colab": {
          "base_uri": "https://localhost:8080/",
          "height": 306
        },
        "outputId": "a391ff56-3c69-49eb-f384-c48864c7f50d"
      },
      "source": [
        "# Subset review (drop nerighborhood_overview,transit, host_response_time and zipcode + review_scores_rating)\n",
        "review = review[[\"listing_id\",\"id\",\"date\",\"reviewer_id\",\"comments\",\"neighbourhood_group_cleansed\",\"property_type\",\"bathrooms\",\"bedrooms\",\"beds\",\"bed_type\",\"amenities\",\"price\",\"number_of_reviews\",\"cancellation_policy\",\"review_scores_rating\"]]\n",
        "review\n",
        "print(review.isnull().sum())"
      ],
      "execution_count": null,
      "outputs": [
        {
          "output_type": "stream",
          "text": [
            "listing_id                       0\n",
            "id                               0\n",
            "date                             0\n",
            "reviewer_id                      0\n",
            "comments                        19\n",
            "neighbourhood_group_cleansed     0\n",
            "property_type                    0\n",
            "bathrooms                        0\n",
            "bedrooms                         0\n",
            "beds                             0\n",
            "bed_type                         0\n",
            "amenities                        0\n",
            "price                            0\n",
            "number_of_reviews                0\n",
            "cancellation_policy              0\n",
            "review_scores_rating            20\n",
            "dtype: int64\n"
          ],
          "name": "stdout"
        }
      ]
    },
    {
      "cell_type": "code",
      "metadata": {
        "id": "bt7WPa5qiK9G",
        "colab_type": "code",
        "colab": {
          "base_uri": "https://localhost:8080/",
          "height": 34
        },
        "outputId": "aa09d59b-c335-43df-9e13-7bece55ae767"
      },
      "source": [
        "# Remove NAs \n",
        "review = review.dropna()\n",
        "review.shape"
      ],
      "execution_count": null,
      "outputs": [
        {
          "output_type": "execute_result",
          "data": {
            "text/plain": [
              "(84810, 16)"
            ]
          },
          "metadata": {
            "tags": []
          },
          "execution_count": 9
        }
      ]
    },
    {
      "cell_type": "code",
      "metadata": {
        "id": "SOM8Sr1ZAx8Y",
        "colab_type": "code",
        "colab": {
          "base_uri": "https://localhost:8080/",
          "height": 306
        },
        "outputId": "389d1e9a-c3db-418c-cdc1-df94cc627c5b"
      },
      "source": [
        "print(review.isnull().sum())"
      ],
      "execution_count": null,
      "outputs": [
        {
          "output_type": "stream",
          "text": [
            "listing_id                      0\n",
            "id                              0\n",
            "date                            0\n",
            "reviewer_id                     0\n",
            "comments                        0\n",
            "neighbourhood_group_cleansed    0\n",
            "property_type                   0\n",
            "bathrooms                       0\n",
            "bedrooms                        0\n",
            "beds                            0\n",
            "bed_type                        0\n",
            "amenities                       0\n",
            "price                           0\n",
            "number_of_reviews               0\n",
            "cancellation_policy             0\n",
            "review_scores_rating            0\n",
            "dtype: int64\n"
          ],
          "name": "stdout"
        }
      ]
    },
    {
      "cell_type": "code",
      "metadata": {
        "id": "zUiyZAUwiK2k",
        "colab_type": "code",
        "colab": {
          "base_uri": "https://localhost:8080/",
          "height": 119
        },
        "outputId": "9a6fda26-802c-487d-e75d-46865522849d"
      },
      "source": [
        "print(review['comments'].head())"
      ],
      "execution_count": null,
      "outputs": [
        {
          "output_type": "stream",
          "text": [
            "0    Cute and cozy place. Perfect location to every...\n",
            "1    Kelly has a great room in a very central locat...\n",
            "2    Very spacious apartment, and in a great neighb...\n",
            "3    Close to Seattle Center and all it has to offe...\n",
            "4    Kelly was a great host and very accommodating ...\n",
            "Name: comments, dtype: object\n"
          ],
          "name": "stdout"
        }
      ]
    },
    {
      "cell_type": "markdown",
      "metadata": {
        "id": "tvTSSR2FQ5c2",
        "colab_type": "text"
      },
      "source": [
        "TOKENIZATION + REMOVE STOPWORDS"
      ]
    },
    {
      "cell_type": "code",
      "metadata": {
        "id": "0IhC3lbFBCxP",
        "colab_type": "code",
        "colab": {}
      },
      "source": [
        "#Tokenization of text\n",
        "from nltk.tokenize import word_tokenize,sent_tokenize\n",
        "\n",
        "from typing import List"
      ],
      "execution_count": null,
      "outputs": []
    },
    {
      "cell_type": "code",
      "metadata": {
        "id": "Dz2PCaDdBCsf",
        "colab_type": "code",
        "colab": {
          "base_uri": "https://localhost:8080/",
          "height": 51
        },
        "outputId": "19c6d0ce-ea97-459b-a202-022d2e447500"
      },
      "source": [
        "#remove stop-words\n",
        "from nltk.corpus import stopwords # library \n",
        "nltk.download('stopwords')\n",
        "# set the language \n",
        "all_stopwords = set(stopwords.words('english')) "
      ],
      "execution_count": null,
      "outputs": [
        {
          "output_type": "stream",
          "text": [
            "[nltk_data] Downloading package stopwords to /root/nltk_data...\n",
            "[nltk_data]   Package stopwords is already up-to-date!\n"
          ],
          "name": "stdout"
        }
      ]
    },
    {
      "cell_type": "code",
      "metadata": {
        "id": "mRvMX5zLB4_I",
        "colab_type": "code",
        "colab": {}
      },
      "source": [
        "def preprocess_text(text: str) -> List[str]:\n",
        "    # Looking at the text we see that almost no special HTML tags.\n",
        "    # A sentence (atleast well structured) often has a full spot at the end. We use these two for word breaks\n",
        "    pattern1 = re.compile(\"\\!|\\.\")\n",
        "    lines = re.split(pattern1, text)\n",
        "    # you can break a sentence into words using whitespace based split\n",
        "    tokens = []\n",
        "    for line in lines:\n",
        "        tokens += line.split(\" \")\n",
        "\n",
        "    # lowercase and remove any non-alphanumeric characters from tokens for normalize\n",
        "    normalized_tokens = [re.sub(r\"\\W+\", \"\", token.lower()) for token in tokens]\n",
        "    return  \" \".join([\n",
        "            token\n",
        "            for token in normalized_tokens\n",
        "            if token and token not in all_stopwords and len(tokens) > 1 \n",
        "        ])\n",
        "    "
      ],
      "execution_count": null,
      "outputs": []
    },
    {
      "cell_type": "code",
      "metadata": {
        "id": "3NnULDTWCz6k",
        "colab_type": "code",
        "colab": {
          "base_uri": "https://localhost:8080/",
          "height": 34
        },
        "outputId": "a0eac28f-7791-4813-a91d-6d739c0f1d93"
      },
      "source": [
        "# Test a sentence for preprocess_text function\n",
        "custom_review = \"I hated the film. It was a disaster. Poor direction, bad acting.\"\n",
        "custom_review_tokens = preprocess_text(custom_review)\n",
        "print(custom_review_tokens)"
      ],
      "execution_count": null,
      "outputs": [
        {
          "output_type": "stream",
          "text": [
            "hated film disaster poor direction bad acting\n"
          ],
          "name": "stdout"
        }
      ]
    },
    {
      "cell_type": "code",
      "metadata": {
        "id": "a2Ac5XqlC_uD",
        "colab_type": "code",
        "colab": {
          "base_uri": "https://localhost:8080/",
          "height": 221
        },
        "outputId": "c9062b64-8972-48b9-9cdf-4a7ecd379423"
      },
      "source": [
        "#apply preprocessing to review data\n",
        "review[\"comments\"] = review[\"comments\"].apply(preprocess_text)\n",
        "print(review[\"comments\"])"
      ],
      "execution_count": null,
      "outputs": [
        {
          "output_type": "stream",
          "text": [
            "0              cute cozy place perfect location everything\n",
            "1        kelly great room central location beautiful bu...\n",
            "2        spacious apartment great neighborhood kind apa...\n",
            "3        close seattle center offer ballet theater muse...\n",
            "4        kelly great host accommodating great neighborh...\n",
            "                               ...                        \n",
            "84844    description pictures apartment exactly receive...\n",
            "84845    excellent stay clean comfortable convenient co...\n",
            "84846    gran ubicacin cerca de todo lo atractivo del c...\n",
            "84847    good apartement clean well sized situated next...\n",
            "84848    breanne great host check easy let right schedu...\n",
            "Name: comments, Length: 84810, dtype: object\n"
          ],
          "name": "stdout"
        }
      ]
    },
    {
      "cell_type": "markdown",
      "metadata": {
        "id": "r78Kv3tdRDA1",
        "colab_type": "text"
      },
      "source": [
        "STEMMING"
      ]
    },
    {
      "cell_type": "code",
      "metadata": {
        "id": "ydVHLt_yRCv8",
        "colab_type": "code",
        "colab": {}
      },
      "source": [
        "## stemming\n",
        "from nltk.stem import PorterStemmer\n",
        "ps = PorterStemmer()\n",
        "from nltk.stem import LancasterStemmer\n",
        "ls = LancasterStemmer()\n",
        "# Snowball Stemmer is an improved version of the Porter stemmer. This method is highly precise over large data-sets.\n",
        "from nltk.stem.snowball import SnowballStemmer\n",
        "sn = SnowballStemmer(\"english\")"
      ],
      "execution_count": null,
      "outputs": []
    },
    {
      "cell_type": "code",
      "metadata": {
        "id": "Ux9R2b_-d3t8",
        "colab_type": "code",
        "colab": {
          "base_uri": "https://localhost:8080/",
          "height": 1000
        },
        "outputId": "0830dd24-61f3-48ab-8d6e-91e65d60603d"
      },
      "source": [
        "# stem function with porter stemmer\n",
        "def stem_ps(sentence):\n",
        "    tokens = sentence.split()\n",
        "    stemmed_tokens = [ps.stem(token) for token in tokens]\n",
        "    return ' '.join(stemmed_tokens)\n",
        "\n",
        "# stem function with snowball stemmer\n",
        "def stem_sn(sentence):\n",
        "    tokens = sentence.split()\n",
        "    stemmed_tokens = [sn.stem(token) for token in tokens]\n",
        "    return ' '.join(stemmed_tokens)\n",
        "\n",
        "review['stem_ps'] = review['comments'].apply(stem_ps)\n",
        "review['stem_sn'] = review['comments'].apply(stem_sn)\n",
        "review\n",
        "\n",
        "# df['stemmed_sn'] = df['comments'].apply(sn.stem) \n",
        "# df[\"stemmed_pt\"] = df['comments'].apply(ps.stem)"
      ],
      "execution_count": null,
      "outputs": [
        {
          "output_type": "execute_result",
          "data": {
            "text/html": [
              "<div>\n",
              "<style scoped>\n",
              "    .dataframe tbody tr th:only-of-type {\n",
              "        vertical-align: middle;\n",
              "    }\n",
              "\n",
              "    .dataframe tbody tr th {\n",
              "        vertical-align: top;\n",
              "    }\n",
              "\n",
              "    .dataframe thead th {\n",
              "        text-align: right;\n",
              "    }\n",
              "</style>\n",
              "<table border=\"1\" class=\"dataframe\">\n",
              "  <thead>\n",
              "    <tr style=\"text-align: right;\">\n",
              "      <th></th>\n",
              "      <th>listing_id</th>\n",
              "      <th>id</th>\n",
              "      <th>date</th>\n",
              "      <th>reviewer_id</th>\n",
              "      <th>comments</th>\n",
              "      <th>neighbourhood_group_cleansed</th>\n",
              "      <th>property_type</th>\n",
              "      <th>bathrooms</th>\n",
              "      <th>bedrooms</th>\n",
              "      <th>beds</th>\n",
              "      <th>bed_type</th>\n",
              "      <th>amenities</th>\n",
              "      <th>price</th>\n",
              "      <th>number_of_reviews</th>\n",
              "      <th>cancellation_policy</th>\n",
              "      <th>review_scores_rating</th>\n",
              "      <th>stem_ps</th>\n",
              "      <th>stem_sn</th>\n",
              "    </tr>\n",
              "  </thead>\n",
              "  <tbody>\n",
              "    <tr>\n",
              "      <th>0</th>\n",
              "      <td>7202016</td>\n",
              "      <td>38917982</td>\n",
              "      <td>2015-07-19</td>\n",
              "      <td>28943674</td>\n",
              "      <td>cute cozy place perfect location everything</td>\n",
              "      <td>Queen Anne</td>\n",
              "      <td>Apartment</td>\n",
              "      <td>1.0</td>\n",
              "      <td>1.0</td>\n",
              "      <td>1</td>\n",
              "      <td>Pull-out Sofa</td>\n",
              "      <td>{Internet,\"Wireless Internet\",Kitchen,Heating,...</td>\n",
              "      <td>75</td>\n",
              "      <td>16</td>\n",
              "      <td>flexible</td>\n",
              "      <td>95.0</td>\n",
              "      <td>cute cozi place perfect locat everyth</td>\n",
              "      <td>cute cozi place perfect locat everyth</td>\n",
              "    </tr>\n",
              "    <tr>\n",
              "      <th>1</th>\n",
              "      <td>7202016</td>\n",
              "      <td>39087409</td>\n",
              "      <td>2015-07-20</td>\n",
              "      <td>32440555</td>\n",
              "      <td>kelly great room central location beautiful bu...</td>\n",
              "      <td>Queen Anne</td>\n",
              "      <td>Apartment</td>\n",
              "      <td>1.0</td>\n",
              "      <td>1.0</td>\n",
              "      <td>1</td>\n",
              "      <td>Pull-out Sofa</td>\n",
              "      <td>{Internet,\"Wireless Internet\",Kitchen,Heating,...</td>\n",
              "      <td>75</td>\n",
              "      <td>16</td>\n",
              "      <td>flexible</td>\n",
              "      <td>95.0</td>\n",
              "      <td>kelli great room central locat beauti build ar...</td>\n",
              "      <td>kelli great room central locat beauti build ar...</td>\n",
              "    </tr>\n",
              "    <tr>\n",
              "      <th>2</th>\n",
              "      <td>7202016</td>\n",
              "      <td>39820030</td>\n",
              "      <td>2015-07-26</td>\n",
              "      <td>37722850</td>\n",
              "      <td>spacious apartment great neighborhood kind apa...</td>\n",
              "      <td>Queen Anne</td>\n",
              "      <td>Apartment</td>\n",
              "      <td>1.0</td>\n",
              "      <td>1.0</td>\n",
              "      <td>1</td>\n",
              "      <td>Pull-out Sofa</td>\n",
              "      <td>{Internet,\"Wireless Internet\",Kitchen,Heating,...</td>\n",
              "      <td>75</td>\n",
              "      <td>16</td>\n",
              "      <td>flexible</td>\n",
              "      <td>95.0</td>\n",
              "      <td>spaciou apart great neighborhood kind apart wi...</td>\n",
              "      <td>spacious apart great neighborhood kind apart w...</td>\n",
              "    </tr>\n",
              "    <tr>\n",
              "      <th>3</th>\n",
              "      <td>7202016</td>\n",
              "      <td>40813543</td>\n",
              "      <td>2015-08-02</td>\n",
              "      <td>33671805</td>\n",
              "      <td>close seattle center offer ballet theater muse...</td>\n",
              "      <td>Queen Anne</td>\n",
              "      <td>Apartment</td>\n",
              "      <td>1.0</td>\n",
              "      <td>1.0</td>\n",
              "      <td>1</td>\n",
              "      <td>Pull-out Sofa</td>\n",
              "      <td>{Internet,\"Wireless Internet\",Kitchen,Heating,...</td>\n",
              "      <td>75</td>\n",
              "      <td>16</td>\n",
              "      <td>flexible</td>\n",
              "      <td>95.0</td>\n",
              "      <td>close seattl center offer ballet theater museu...</td>\n",
              "      <td>close seattl center offer ballet theater museu...</td>\n",
              "    </tr>\n",
              "    <tr>\n",
              "      <th>4</th>\n",
              "      <td>7202016</td>\n",
              "      <td>41986501</td>\n",
              "      <td>2015-08-10</td>\n",
              "      <td>34959538</td>\n",
              "      <td>kelly great host accommodating great neighborh...</td>\n",
              "      <td>Queen Anne</td>\n",
              "      <td>Apartment</td>\n",
              "      <td>1.0</td>\n",
              "      <td>1.0</td>\n",
              "      <td>1</td>\n",
              "      <td>Pull-out Sofa</td>\n",
              "      <td>{Internet,\"Wireless Internet\",Kitchen,Heating,...</td>\n",
              "      <td>75</td>\n",
              "      <td>16</td>\n",
              "      <td>flexible</td>\n",
              "      <td>95.0</td>\n",
              "      <td>kelli great host accommod great neighborhood g...</td>\n",
              "      <td>kelli great host accommod great neighborhood g...</td>\n",
              "    </tr>\n",
              "    <tr>\n",
              "      <th>...</th>\n",
              "      <td>...</td>\n",
              "      <td>...</td>\n",
              "      <td>...</td>\n",
              "      <td>...</td>\n",
              "      <td>...</td>\n",
              "      <td>...</td>\n",
              "      <td>...</td>\n",
              "      <td>...</td>\n",
              "      <td>...</td>\n",
              "      <td>...</td>\n",
              "      <td>...</td>\n",
              "      <td>...</td>\n",
              "      <td>...</td>\n",
              "      <td>...</td>\n",
              "      <td>...</td>\n",
              "      <td>...</td>\n",
              "      <td>...</td>\n",
              "      <td>...</td>\n",
              "    </tr>\n",
              "    <tr>\n",
              "      <th>84844</th>\n",
              "      <td>3624990</td>\n",
              "      <td>50436321</td>\n",
              "      <td>2015-10-12</td>\n",
              "      <td>37419458</td>\n",
              "      <td>description pictures apartment exactly receive...</td>\n",
              "      <td>Downtown</td>\n",
              "      <td>Apartment</td>\n",
              "      <td>1.0</td>\n",
              "      <td>2.0</td>\n",
              "      <td>4</td>\n",
              "      <td>Real Bed</td>\n",
              "      <td>{TV,\"Cable TV\",Internet,\"Wireless Internet\",\"A...</td>\n",
              "      <td>175</td>\n",
              "      <td>18</td>\n",
              "      <td>moderate</td>\n",
              "      <td>90.0</td>\n",
              "      <td>descript pictur apart exactli receiv moreov pl...</td>\n",
              "      <td>descript pictur apart exact receiv moreov plac...</td>\n",
              "    </tr>\n",
              "    <tr>\n",
              "      <th>84845</th>\n",
              "      <td>3624990</td>\n",
              "      <td>51024875</td>\n",
              "      <td>2015-10-17</td>\n",
              "      <td>6933252</td>\n",
              "      <td>excellent stay clean comfortable convenient co...</td>\n",
              "      <td>Downtown</td>\n",
              "      <td>Apartment</td>\n",
              "      <td>1.0</td>\n",
              "      <td>2.0</td>\n",
              "      <td>4</td>\n",
              "      <td>Real Bed</td>\n",
              "      <td>{TV,\"Cable TV\",Internet,\"Wireless Internet\",\"A...</td>\n",
              "      <td>175</td>\n",
              "      <td>18</td>\n",
              "      <td>moderate</td>\n",
              "      <td>90.0</td>\n",
              "      <td>excel stay clean comfort conveni convent cente...</td>\n",
              "      <td>excel stay clean comfort conveni convent cente...</td>\n",
              "    </tr>\n",
              "    <tr>\n",
              "      <th>84846</th>\n",
              "      <td>3624990</td>\n",
              "      <td>51511988</td>\n",
              "      <td>2015-10-20</td>\n",
              "      <td>19543701</td>\n",
              "      <td>gran ubicacin cerca de todo lo atractivo del c...</td>\n",
              "      <td>Downtown</td>\n",
              "      <td>Apartment</td>\n",
              "      <td>1.0</td>\n",
              "      <td>2.0</td>\n",
              "      <td>4</td>\n",
              "      <td>Real Bed</td>\n",
              "      <td>{TV,\"Cable TV\",Internet,\"Wireless Internet\",\"A...</td>\n",
              "      <td>175</td>\n",
              "      <td>18</td>\n",
              "      <td>moderate</td>\n",
              "      <td>90.0</td>\n",
              "      <td>gran ubicacin cerca de todo lo atractivo del c...</td>\n",
              "      <td>gran ubicacin cerca de todo lo atractivo del c...</td>\n",
              "    </tr>\n",
              "    <tr>\n",
              "      <th>84847</th>\n",
              "      <td>3624990</td>\n",
              "      <td>52814482</td>\n",
              "      <td>2015-11-02</td>\n",
              "      <td>24445024</td>\n",
              "      <td>good apartement clean well sized situated next...</td>\n",
              "      <td>Downtown</td>\n",
              "      <td>Apartment</td>\n",
              "      <td>1.0</td>\n",
              "      <td>2.0</td>\n",
              "      <td>4</td>\n",
              "      <td>Real Bed</td>\n",
              "      <td>{TV,\"Cable TV\",Internet,\"Wireless Internet\",\"A...</td>\n",
              "      <td>175</td>\n",
              "      <td>18</td>\n",
              "      <td>moderate</td>\n",
              "      <td>90.0</td>\n",
              "      <td>good apart clean well size situat next convens...</td>\n",
              "      <td>good apart clean well size situat next convens...</td>\n",
              "    </tr>\n",
              "    <tr>\n",
              "      <th>84848</th>\n",
              "      <td>9727246</td>\n",
              "      <td>56429621</td>\n",
              "      <td>2015-12-13</td>\n",
              "      <td>30860360</td>\n",
              "      <td>breanne great host check easy let right schedu...</td>\n",
              "      <td>Capitol Hill</td>\n",
              "      <td>Apartment</td>\n",
              "      <td>1.0</td>\n",
              "      <td>0.0</td>\n",
              "      <td>3</td>\n",
              "      <td>Real Bed</td>\n",
              "      <td>{TV,\"Cable TV\",Internet,\"Wireless Internet\",\"A...</td>\n",
              "      <td>92</td>\n",
              "      <td>1</td>\n",
              "      <td>moderate</td>\n",
              "      <td>100.0</td>\n",
              "      <td>breann great host check easi let right schedul...</td>\n",
              "      <td>breann great host check easi let right schedul...</td>\n",
              "    </tr>\n",
              "  </tbody>\n",
              "</table>\n",
              "<p>84810 rows × 18 columns</p>\n",
              "</div>"
            ],
            "text/plain": [
              "       listing_id  ...                                            stem_sn\n",
              "0         7202016  ...              cute cozi place perfect locat everyth\n",
              "1         7202016  ...  kelli great room central locat beauti build ar...\n",
              "2         7202016  ...  spacious apart great neighborhood kind apart w...\n",
              "3         7202016  ...  close seattl center offer ballet theater museu...\n",
              "4         7202016  ...  kelli great host accommod great neighborhood g...\n",
              "...           ...  ...                                                ...\n",
              "84844     3624990  ...  descript pictur apart exact receiv moreov plac...\n",
              "84845     3624990  ...  excel stay clean comfort conveni convent cente...\n",
              "84846     3624990  ...  gran ubicacin cerca de todo lo atractivo del c...\n",
              "84847     3624990  ...  good apart clean well size situat next convens...\n",
              "84848     9727246  ...  breann great host check easi let right schedul...\n",
              "\n",
              "[84810 rows x 18 columns]"
            ]
          },
          "metadata": {
            "tags": []
          },
          "execution_count": 18
        }
      ]
    },
    {
      "cell_type": "code",
      "metadata": {
        "id": "qA5BQS81Oo_a",
        "colab_type": "code",
        "colab": {
          "base_uri": "https://localhost:8080/",
          "height": 221
        },
        "outputId": "f52cebb2-374e-4130-bc91-4101806175fa"
      },
      "source": [
        "print(review['stem_sn'])"
      ],
      "execution_count": null,
      "outputs": [
        {
          "output_type": "stream",
          "text": [
            "0                    cute cozi place perfect locat everyth\n",
            "1        kelli great room central locat beauti build ar...\n",
            "2        spacious apart great neighborhood kind apart w...\n",
            "3        close seattl center offer ballet theater museu...\n",
            "4        kelli great host accommod great neighborhood g...\n",
            "                               ...                        \n",
            "84844    descript pictur apart exact receiv moreov plac...\n",
            "84845    excel stay clean comfort conveni convent cente...\n",
            "84846    gran ubicacin cerca de todo lo atractivo del c...\n",
            "84847    good apart clean well size situat next convens...\n",
            "84848    breann great host check easi let right schedul...\n",
            "Name: stem_sn, Length: 84810, dtype: object\n"
          ],
          "name": "stdout"
        }
      ]
    },
    {
      "cell_type": "markdown",
      "metadata": {
        "id": "iDUhzJk2aFoA",
        "colab_type": "text"
      },
      "source": [
        "CREATE A SENTIMENT COLUMN FOR 'COMMENTS' based on review scores"
      ]
    },
    {
      "cell_type": "code",
      "metadata": {
        "id": "bUGMxOH-DVbS",
        "colab_type": "code",
        "colab": {
          "base_uri": "https://localhost:8080/",
          "height": 51
        },
        "outputId": "4733c93f-db46-400c-f077-8e939bfd3329"
      },
      "source": [
        "import numpy as np\n",
        "print(np.mean(review['review_scores_rating']))\n",
        "print(np.median(review['review_scores_rating']))"
      ],
      "execution_count": null,
      "outputs": [
        {
          "output_type": "stream",
          "text": [
            "94.89656880084895\n",
            "96.0\n"
          ],
          "name": "stdout"
        }
      ]
    },
    {
      "cell_type": "code",
      "metadata": {
        "id": "gvLf6xX4DhKI",
        "colab_type": "code",
        "colab": {}
      },
      "source": [
        "\n",
        "def sentiments(r : float) -> List[str]:\n",
        "    #r=float(rating)\n",
        "    if (r  > 95):\n",
        "        return \"Amazing\"\n",
        "    elif (r>90 and r<=95):\n",
        "        return \"Regular\"\n",
        "    elif (r <= 90):\n",
        "        return \"Below Average\""
      ],
      "execution_count": null,
      "outputs": []
    },
    {
      "cell_type": "code",
      "metadata": {
        "id": "r-R8F5DnN6s0",
        "colab_type": "code",
        "colab": {}
      },
      "source": [
        "def sentiments(r : float) -> List[str]:\n",
        "    #r=float(rating)\n",
        "    if (r  > 95):\n",
        "        return \"Amazing\"\n",
        "    elif (r <= 95):\n",
        "        return \"Regular\""
      ],
      "execution_count": null,
      "outputs": []
    },
    {
      "cell_type": "code",
      "metadata": {
        "id": "R7zhouE5DhBP",
        "colab_type": "code",
        "colab": {
          "base_uri": "https://localhost:8080/",
          "height": 85
        },
        "outputId": "62be1185-427b-4f42-e1fc-746ce5744840"
      },
      "source": [
        "review['senti_classify'] = review['review_scores_rating'].apply(sentiments)\n",
        "review['senti_classify'].value_counts()"
      ],
      "execution_count": null,
      "outputs": [
        {
          "output_type": "execute_result",
          "data": {
            "text/plain": [
              "Amazing          44820\n",
              "Regular          30458\n",
              "Below Average     9532\n",
              "Name: senti_classify, dtype: int64"
            ]
          },
          "metadata": {
            "tags": []
          },
          "execution_count": 21
        }
      ]
    },
    {
      "cell_type": "code",
      "metadata": {
        "id": "3Y-9DLiJDg3o",
        "colab_type": "code",
        "colab": {
          "base_uri": "https://localhost:8080/",
          "height": 221
        },
        "outputId": "61899181-e2dc-4345-b6b4-b8c9ac32dc2c"
      },
      "source": [
        "review['senti_classify']"
      ],
      "execution_count": null,
      "outputs": [
        {
          "output_type": "execute_result",
          "data": {
            "text/plain": [
              "0              Regular\n",
              "1              Regular\n",
              "2              Regular\n",
              "3              Regular\n",
              "4              Regular\n",
              "             ...      \n",
              "84844    Below Average\n",
              "84845    Below Average\n",
              "84846    Below Average\n",
              "84847    Below Average\n",
              "84848          Amazing\n",
              "Name: senti_classify, Length: 84810, dtype: object"
            ]
          },
          "metadata": {
            "tags": []
          },
          "execution_count": 22
        }
      ]
    },
    {
      "cell_type": "code",
      "metadata": {
        "id": "zKwh3cwxEM-9",
        "colab_type": "code",
        "colab": {
          "base_uri": "https://localhost:8080/",
          "height": 34
        },
        "outputId": "a95ce0d4-9657-4086-89bc-5894820f81bc"
      },
      "source": [
        "len(review)"
      ],
      "execution_count": null,
      "outputs": [
        {
          "output_type": "execute_result",
          "data": {
            "text/plain": [
              "84810"
            ]
          },
          "metadata": {
            "tags": []
          },
          "execution_count": 28
        }
      ]
    },
    {
      "cell_type": "code",
      "metadata": {
        "id": "olCG10DYpdvA",
        "colab_type": "code",
        "colab": {}
      },
      "source": [
        "# make sure comments as the correct type\n",
        "review.comments=review.comments.astype(str)"
      ],
      "execution_count": null,
      "outputs": []
    },
    {
      "cell_type": "code",
      "metadata": {
        "id": "jXnfbr4tK5By",
        "colab_type": "code",
        "colab": {
          "base_uri": "https://localhost:8080/",
          "height": 493
        },
        "outputId": "00779dd7-256e-4bca-f92d-4d45261e704f"
      },
      "source": [
        "# Split dataset in 2 sets\n",
        "from sklearn.model_selection import train_test_split\n",
        "Train, Test = train_test_split(review, test_size = 0.2, random_state = 1)\n",
        "print(Train)\n",
        "print(Test)"
      ],
      "execution_count": null,
      "outputs": [
        {
          "output_type": "stream",
          "text": [
            "       listing_id  ...  senti_classify\n",
            "69744     1090449  ...         Regular\n",
            "23844     6674408  ...         Amazing\n",
            "47532     2605975  ...   Below Average\n",
            "50222      258571  ...   Below Average\n",
            "6609      5308875  ...         Regular\n",
            "...           ...  ...             ...\n",
            "21450     3884851  ...         Amazing\n",
            "73382     7718139  ...         Amazing\n",
            "50078      258571  ...   Below Average\n",
            "5192      5272327  ...         Amazing\n",
            "77744     5873892  ...   Below Average\n",
            "\n",
            "[67848 rows x 19 columns]\n",
            "       listing_id  ...  senti_classify\n",
            "14966     7872980  ...         Amazing\n",
            "69612      430610  ...         Amazing\n",
            "20056      902609  ...         Regular\n",
            "45207     1009838  ...   Below Average\n",
            "75103      841049  ...         Regular\n",
            "...           ...  ...             ...\n",
            "63503     2525172  ...         Amazing\n",
            "76122     5751177  ...         Regular\n",
            "79598     6278361  ...         Amazing\n",
            "28366     2737038  ...         Amazing\n",
            "63475     2525172  ...         Amazing\n",
            "\n",
            "[16962 rows x 19 columns]\n"
          ],
          "name": "stdout"
        }
      ]
    },
    {
      "cell_type": "code",
      "metadata": {
        "id": "aKB0Ug3ZEM7Z",
        "colab_type": "code",
        "colab": {
          "base_uri": "https://localhost:8080/",
          "height": 680
        },
        "outputId": "8c55dcba-9904-47a0-fe6a-c7c2b5e34715"
      },
      "source": [
        "# Split dataset into 3 sets, comments column\n",
        "np.random.seed(121)\n",
        "train, validate, test = np.split(review['comments'].sample(frac=1), [int(.6*len(review)), int(.8*len(review))])\n",
        "print(train)\n",
        "print(validate)\n",
        "print(test)\n",
        "print(train.shape)\n",
        "print(validate.shape)\n",
        "print(test.shape)"
      ],
      "execution_count": null,
      "outputs": [
        {
          "output_type": "stream",
          "text": [
            "40285    view even better photos frank welcomed us warm...\n",
            "47200    angelas cozy place wonderful view perfect need...\n",
            "76734    z genuine accommodating thoughtful host everyt...\n",
            "9264     wish could first review lisas delightful place...\n",
            "28197    mapple creek house ideally located quiet frien...\n",
            "                               ...                        \n",
            "9445     katrina awesome host made feel welcome wonderf...\n",
            "57027    j great host place wonderful private clean ide...\n",
            "29551    beth extremely nice gathered wise brief conver...\n",
            "72314    pleasant trip seattle staying amy joeys place ...\n",
            "18309    apartment really cool yes ceilings low really ...\n",
            "Name: comments, Length: 50886, dtype: object\n",
            "13998    annas place everything needed location perfect...\n",
            "62593    great place stay seattle location super conven...\n",
            "72712    terrys home beautiful everything needed comfor...\n",
            "66863    last minute booking zacharys place due sudden ...\n",
            "79420    davids home extremely clean comfortable left s...\n",
            "                               ...                        \n",
            "58880    accommodations described exceeded expectations...\n",
            "17649    completely loved staying laura rexs apartment ...\n",
            "43238    place exactly advertised clean comfortable sto...\n",
            "54581    want privacy central location apartment withou...\n",
            "81801    lovely stay gabes place first impression much ...\n",
            "Name: comments, Length: 16962, dtype: object\n",
            "13811    experience carriage house wonderful jon wife e...\n",
            "79576    host canceled reservation 14 days arrival auto...\n",
            "46894    host exceptionally welcoming great place neigh...\n",
            "53211    nice location good space host graham welcome e...\n",
            "11974    daisy everything stay 1st first airbnb stay re...\n",
            "                               ...                        \n",
            "30768    rebeccas studio apartment exactly billed exact...\n",
            "36367           safe place stay downtown seattle host nice\n",
            "51286    six adults 3 couples used home functioned well...\n",
            "56608    tayyab great host place disappoint host recomm...\n",
            "11589    loft awesome couldnt closer centurylink safeco...\n",
            "Name: comments, Length: 16962, dtype: object\n",
            "(50886,)\n",
            "(16962,)\n",
            "(16962,)\n"
          ],
          "name": "stdout"
        }
      ]
    },
    {
      "cell_type": "code",
      "metadata": {
        "id": "tLmN3TESvAIi",
        "colab_type": "code",
        "colab": {
          "base_uri": "https://localhost:8080/",
          "height": 680
        },
        "outputId": "081ca544-bd02-4bf8-8dd0-74f777984c9c"
      },
      "source": [
        "# Split 'stem_sn' column into 3 sets\n",
        "np.random.seed(121)\n",
        "train_sn, validate_sn, test_sn = np.split(review['stem_sn'].sample(frac=1), [int(.6*len(review)), int(.8*len(review))])\n",
        "print(train_sn)\n",
        "print(validate_sn)\n",
        "print(test_sn)\n",
        "print(train_sn.shape)\n",
        "print(validate_sn.shape)\n",
        "print(test_sn.shape)"
      ],
      "execution_count": null,
      "outputs": [
        {
          "output_type": "stream",
          "text": [
            "40285    view even better photo frank welcom us warm pl...\n",
            "47200    angela cozi place wonder view perfect need pla...\n",
            "76734    z genuin accommod thought host everyth great a...\n",
            "9264     wish could first review lisa delight place rav...\n",
            "28197    mappl creek hous ideal locat quiet friend neig...\n",
            "                               ...                        \n",
            "9445     katrina awesom host made feel welcom wonder cl...\n",
            "57027    j great host place wonder privat clean ideal l...\n",
            "29551    beth extrem nice gather wise brief convers pla...\n",
            "72314    pleasant trip seattl stay ami joey place made ...\n",
            "18309    apart realli cool yes ceil low realli wasnt bi...\n",
            "Name: stem_sn, Length: 50886, dtype: object\n",
            "13998    anna place everyth need locat perfect commut d...\n",
            "62593    great place stay seattl locat super conveni ca...\n",
            "72712    terri home beauti everyth need comfort stay lo...\n",
            "66863    last minut book zachari place due sudden trave...\n",
            "79420    david home extrem clean comfort left sticki no...\n",
            "                               ...                        \n",
            "58880    accommod describ exceed expect found free stre...\n",
            "17649    complet love stay laura rex apart fabul pictur...\n",
            "43238    place exact advertis clean comfort stone throw...\n",
            "54581    want privaci central locat apart without car 2...\n",
            "81801    love stay gabe place first impress much bigger...\n",
            "Name: stem_sn, Length: 16962, dtype: object\n",
            "13811    experi carriag hous wonder jon wife extrem acc...\n",
            "79576           host cancel reserv 14 day arriv autom post\n",
            "46894    host except welcom great place neighbourhood b...\n",
            "53211    nice locat good space host graham welcom even ...\n",
            "11974    daisi everyth stay 1st first airbnb stay reall...\n",
            "                               ...                        \n",
            "30768    rebecca studio apart exact bill exact need reb...\n",
            "36367            safe place stay downtown seattl host nice\n",
            "51286    six adult 3 coupl use home function well group...\n",
            "56608    tayyab great host place disappoint host recomm...\n",
            "11589    loft awesom couldnt closer centurylink safeco ...\n",
            "Name: stem_sn, Length: 16962, dtype: object\n",
            "(50886,)\n",
            "(16962,)\n",
            "(16962,)\n"
          ],
          "name": "stdout"
        }
      ]
    },
    {
      "cell_type": "code",
      "metadata": {
        "id": "_ytVQHjtOKFv",
        "colab_type": "code",
        "colab": {
          "base_uri": "https://localhost:8080/",
          "height": 680
        },
        "outputId": "e357425a-069c-4a70-8c7e-ba1ee5abf728"
      },
      "source": [
        "# Split sentiment_data into 3 sets\n",
        "np.random.seed(121)\n",
        "train_s, validate_s, test_s = np.split(review['senti_classify'].sample(frac=1), [int(.6*len(review)), int(.8*len(review))])\n",
        "print(train_s)\n",
        "print(validate_s)\n",
        "print(test_s)\n",
        "print(train_s.shape)\n",
        "print(validate_s.shape)\n",
        "print(test_s.shape)"
      ],
      "execution_count": null,
      "outputs": [
        {
          "output_type": "stream",
          "text": [
            "40285    Amazing\n",
            "47200    Amazing\n",
            "76734    Regular\n",
            "9264     Amazing\n",
            "28197    Regular\n",
            "          ...   \n",
            "9445     Amazing\n",
            "57027    Amazing\n",
            "29551    Amazing\n",
            "72314    Regular\n",
            "18309    Regular\n",
            "Name: senti_classify, Length: 50886, dtype: object\n",
            "13998    Regular\n",
            "62593    Regular\n",
            "72712    Regular\n",
            "66863    Regular\n",
            "79420    Regular\n",
            "          ...   \n",
            "58880    Amazing\n",
            "17649    Amazing\n",
            "43238    Regular\n",
            "54581    Amazing\n",
            "81801    Regular\n",
            "Name: senti_classify, Length: 16962, dtype: object\n",
            "13811    Amazing\n",
            "79576    Amazing\n",
            "46894    Amazing\n",
            "53211    Amazing\n",
            "11974    Regular\n",
            "          ...   \n",
            "30768    Amazing\n",
            "36367    Regular\n",
            "51286    Amazing\n",
            "56608    Amazing\n",
            "11589    Regular\n",
            "Name: senti_classify, Length: 16962, dtype: object\n",
            "(50886,)\n",
            "(16962,)\n",
            "(16962,)\n"
          ],
          "name": "stdout"
        }
      ]
    },
    {
      "cell_type": "code",
      "metadata": {
        "id": "VusOmMc4EM3a",
        "colab_type": "code",
        "colab": {
          "base_uri": "https://localhost:8080/",
          "height": 935
        },
        "outputId": "c51038b2-ab5a-44c1-cf58-1fbb3489686a"
      },
      "source": [
        "# CountVectorizer implements both tokenization and occurrence counting in a single class. Read more here https://scikit-learn.org/stable/modules/generated/sklearn.feature_extraction.text.CountVectorizer.html\n",
        "# You can also reuse the from scratch code we learnt in previous class\n",
        "# TfidfVectorizer Convert a collection of raw documents to a matrix of TF-IDF features. \n",
        "# Unlike Tfidfvectorizer, with Tfidftransformer you will systematically compute word counts using CountVectorizer and then compute the IDF values and only then compute the Tf-idf scores.\n",
        "# If you need the term frequency (term count) vectors for different tasks, use Tfidftransformer. If you need to compute tf-idf scores on documents within your “training” dataset, use Tfidfvectorizer\n",
        "from sklearn.feature_extraction.text import TfidfVectorizer\n",
        "#Count vectorizer with \n",
        "#lower_count_thr = 100 # rare words/tokens\n",
        "#upper_count_thr = 5000 # frequent/common tokens\n",
        "\n",
        "tv=TfidfVectorizer(binary=False,ngram_range=(1,1))\n",
        "#transformed train reviews\n",
        "tv_train=tv.fit_transform(train)\n",
        "#transformed test reviews\n",
        "tv_test=tv.transform(test)\n",
        "#transformed validation reviews\n",
        "tv_validate=tv.transform(validate)\n",
        "\n",
        "print('BOW_cv_train:',tv_train.shape)\n",
        "print('BOW_cv_test:',tv_test.shape)\n",
        "print('BOW_cv_blind:',tv_validate.shape)\n",
        "print(tv_train)"
      ],
      "execution_count": null,
      "outputs": [
        {
          "output_type": "stream",
          "text": [
            "BOW_cv_train: (50886, 39089)\n",
            "BOW_cv_test: (16962, 39089)\n",
            "BOW_cv_blind: (16962, 39089)\n",
            "  (0, 29516)\t0.07263063483901905\n",
            "  (0, 12346)\t0.177887421649669\n",
            "  (0, 3912)\t0.1994805502315625\n",
            "  (0, 4102)\t0.11675025876088017\n",
            "  (0, 11594)\t0.14763554791356387\n",
            "  (0, 28651)\t0.09509145418731012\n",
            "  (0, 12591)\t0.209542309753826\n",
            "  (0, 20024)\t0.1245673473184624\n",
            "  (0, 31789)\t0.06363831674517974\n",
            "  (0, 16535)\t0.17269602455706845\n",
            "  (0, 26260)\t0.16125273512246166\n",
            "  (0, 30284)\t0.1651594470770235\n",
            "  (0, 14724)\t0.11361922364944117\n",
            "  (0, 4147)\t0.11116879966079835\n",
            "  (0, 7561)\t0.15050344364136395\n",
            "  (0, 34231)\t0.2120725775812984\n",
            "  (0, 7152)\t0.10958130180934453\n",
            "  (0, 21936)\t0.2490507986974485\n",
            "  (0, 37234)\t0.08305782249867691\n",
            "  (0, 24175)\t0.2193050534202302\n",
            "  (0, 34406)\t0.13662665758816492\n",
            "  (0, 34314)\t0.3402127073321578\n",
            "  (0, 1455)\t0.21449237975768273\n",
            "  (0, 14787)\t0.15202777139883997\n",
            "  (0, 1595)\t0.20034906249326362\n",
            "  :\t:\n",
            "  (50885, 20483)\t0.23564943303936445\n",
            "  (50885, 9214)\t0.20604787675265016\n",
            "  (50885, 25527)\t0.2545877881580544\n",
            "  (50885, 33416)\t0.19238885580811493\n",
            "  (50885, 8263)\t0.1671259353369048\n",
            "  (50885, 4599)\t0.17306490981075473\n",
            "  (50885, 2619)\t0.20738409024714816\n",
            "  (50885, 36346)\t0.18610300433713325\n",
            "  (50885, 25711)\t0.15331841958229364\n",
            "  (50885, 28509)\t0.21919574935519529\n",
            "  (50885, 1195)\t0.1466618643344726\n",
            "  (50885, 16995)\t0.17434051793604943\n",
            "  (50885, 12619)\t0.14505052888300018\n",
            "  (50885, 24638)\t0.13334934384649405\n",
            "  (50885, 26918)\t0.1510518303561751\n",
            "  (50885, 26931)\t0.11194383510823412\n",
            "  (50885, 27291)\t0.2167836606846843\n",
            "  (50885, 22866)\t0.09830275607755813\n",
            "  (50885, 2641)\t0.09640140619744401\n",
            "  (50885, 14925)\t0.12705858719071544\n",
            "  (50885, 16442)\t0.09258616338726361\n",
            "  (50885, 29516)\t0.0756577004641276\n",
            "  (50885, 20024)\t0.12975900695236806\n",
            "  (50885, 31789)\t0.06629060474302076\n",
            "  (50885, 25543)\t0.0731149988477566\n"
          ],
          "name": "stdout"
        }
      ]
    },
    {
      "cell_type": "code",
      "metadata": {
        "id": "XkwhICj7fnzI",
        "colab_type": "code",
        "colab": {
          "base_uri": "https://localhost:8080/",
          "height": 419
        },
        "outputId": "635fc147-2e2c-49d2-daec-2e1fcf2eea02"
      },
      "source": [
        "first_comment = tv_train[0]\n",
        "df = pd.DataFrame(first_comment.T.todense(),index=tv.get_feature_names(), columns = [\"tfidf\"])\n",
        "df.sort_values(by=[\"tfidf\"], ascending=False)"
      ],
      "execution_count": null,
      "outputs": [
        {
          "output_type": "execute_result",
          "data": {
            "text/html": [
              "<div>\n",
              "<style scoped>\n",
              "    .dataframe tbody tr th:only-of-type {\n",
              "        vertical-align: middle;\n",
              "    }\n",
              "\n",
              "    .dataframe tbody tr th {\n",
              "        vertical-align: top;\n",
              "    }\n",
              "\n",
              "    .dataframe thead th {\n",
              "        text-align: right;\n",
              "    }\n",
              "</style>\n",
              "<table border=\"1\" class=\"dataframe\">\n",
              "  <thead>\n",
              "    <tr style=\"text-align: right;\">\n",
              "      <th></th>\n",
              "      <th>tfidf</th>\n",
              "    </tr>\n",
              "  </thead>\n",
              "  <tbody>\n",
              "    <tr>\n",
              "      <th>treasures</th>\n",
              "      <td>0.340213</td>\n",
              "    </tr>\n",
              "    <tr>\n",
              "      <th>frank</th>\n",
              "      <td>0.282867</td>\n",
              "    </tr>\n",
              "    <tr>\n",
              "      <th>missed</th>\n",
              "      <td>0.249051</td>\n",
              "    </tr>\n",
              "    <tr>\n",
              "      <th>warmly</th>\n",
              "      <td>0.235497</td>\n",
              "    </tr>\n",
              "    <tr>\n",
              "      <th>otherwise</th>\n",
              "      <td>0.219305</td>\n",
              "    </tr>\n",
              "    <tr>\n",
              "      <th>...</th>\n",
              "      <td>...</td>\n",
              "    </tr>\n",
              "    <tr>\n",
              "      <th>firmly</th>\n",
              "      <td>0.000000</td>\n",
              "    </tr>\n",
              "    <tr>\n",
              "      <th>firmness</th>\n",
              "      <td>0.000000</td>\n",
              "    </tr>\n",
              "    <tr>\n",
              "      <th>firs</th>\n",
              "      <td>0.000000</td>\n",
              "    </tr>\n",
              "    <tr>\n",
              "      <th>first</th>\n",
              "      <td>0.000000</td>\n",
              "    </tr>\n",
              "    <tr>\n",
              "      <th>ωüêòøçâωâìçêàëáöñáùáúäç</th>\n",
              "      <td>0.000000</td>\n",
              "    </tr>\n",
              "  </tbody>\n",
              "</table>\n",
              "<p>39089 rows × 1 columns</p>\n",
              "</div>"
            ],
            "text/plain": [
              "                            tfidf\n",
              "treasures                0.340213\n",
              "frank                    0.282867\n",
              "missed                   0.249051\n",
              "warmly                   0.235497\n",
              "otherwise                0.219305\n",
              "...                           ...\n",
              "firmly                   0.000000\n",
              "firmness                 0.000000\n",
              "firs                     0.000000\n",
              "first                    0.000000\n",
              "ωüêòøçâωâìçêàëáöñáùáúäç  0.000000\n",
              "\n",
              "[39089 rows x 1 columns]"
            ]
          },
          "metadata": {
            "tags": []
          },
          "execution_count": 34
        }
      ]
    },
    {
      "cell_type": "code",
      "metadata": {
        "id": "IGNRS54cP5Fy",
        "colab_type": "code",
        "colab": {
          "base_uri": "https://localhost:8080/",
          "height": 935
        },
        "outputId": "81d2ec5c-e75c-4b42-e90f-5b2132e7fa30"
      },
      "source": [
        "# Apply CountVectorizer on stem_sn\n",
        "from sklearn.feature_extraction.text import TfidfVectorizer\n",
        "#Count vectorizer with \n",
        "#lower_count_thr = 100 # rare words/tokens\n",
        "#upper_count_thr = 5000 # frequent/common tokens\n",
        "\n",
        "tv=TfidfVectorizer(binary=False,ngram_range=(1,1))\n",
        "#transformed train reviews\n",
        "tv_train_sn=tv.fit_transform(train_sn)\n",
        "#transformed test reviews\n",
        "tv_test_sn=tv.transform(test_sn)\n",
        "#transformed validation reviews\n",
        "tv_validate_sn=tv.transform(validate_sn)\n",
        "\n",
        "print('BOW_cv_train_sn:',tv_train_sn.shape)\n",
        "print('BOW_cv_test_sn:',tv_test_sn.shape)\n",
        "print('BOW_cv_blind_sn:',tv_validate_sn.shape)\n",
        "print(tv_train_sn)"
      ],
      "execution_count": null,
      "outputs": [
        {
          "output_type": "stream",
          "text": [
            "BOW_cv_train_sn: (50886, 29863)\n",
            "BOW_cv_test_sn: (16962, 29863)\n",
            "BOW_cv_blind_sn: (16962, 29863)\n",
            "  (0, 22109)\t0.07906940364119398\n",
            "  (0, 9263)\t0.16818085142465392\n",
            "  (0, 3120)\t0.21051611743013735\n",
            "  (0, 3272)\t0.12376192966118228\n",
            "  (0, 8716)\t0.16164922109780133\n",
            "  (0, 21462)\t0.10221636274193277\n",
            "  (0, 9426)\t0.21283094585295353\n",
            "  (0, 15046)\t0.1363732888114923\n",
            "  (0, 23796)\t0.06202338744311419\n",
            "  (0, 12475)\t0.18901976598368828\n",
            "  (0, 19829)\t0.17655896158354134\n",
            "  (0, 22675)\t0.17795984638948464\n",
            "  (0, 11046)\t0.12383422356372496\n",
            "  (0, 3305)\t0.11459270468169265\n",
            "  (0, 5824)\t0.1647151268475399\n",
            "  (0, 25632)\t0.17540002651697573\n",
            "  (0, 5578)\t0.11887097655147234\n",
            "  (0, 16492)\t0.22260532431572533\n",
            "  (0, 28072)\t0.09094173119370419\n",
            "  (0, 18311)\t0.24012164799867244\n",
            "  (0, 25754)\t0.14673228876880792\n",
            "  (0, 25688)\t0.3246369149919453\n",
            "  (0, 1261)\t0.22613411907685\n",
            "  (0, 11100)\t0.166458357618892\n",
            "  (0, 1352)\t0.21637315694559625\n",
            "  :\t:\n",
            "  (50885, 6985)\t0.20979936558515053\n",
            "  (50885, 19306)\t0.2602959164296792\n",
            "  (50885, 4919)\t0.2356616508306078\n",
            "  (50885, 25002)\t0.19806086278462423\n",
            "  (50885, 6290)\t0.170630043048061\n",
            "  (50885, 3675)\t0.17819551448630222\n",
            "  (50885, 2135)\t0.21359935839961847\n",
            "  (50885, 27336)\t0.19168048173454194\n",
            "  (50885, 19448)\t0.15683323495460338\n",
            "  (50885, 21363)\t0.22167165925633378\n",
            "  (50885, 1119)\t0.13962493586384092\n",
            "  (50885, 12842)\t0.17956547548955207\n",
            "  (50885, 9449)\t0.14922495224482166\n",
            "  (50885, 20326)\t0.1151721803937309\n",
            "  (50885, 20315)\t0.14257900910143603\n",
            "  (50885, 20586)\t0.2232806324659995\n",
            "  (50885, 18637)\t0.12088196344693454\n",
            "  (50885, 17233)\t0.09969717997034781\n",
            "  (50885, 2147)\t0.0988701054726731\n",
            "  (50885, 11200)\t0.13055740433319757\n",
            "  (50885, 12390)\t0.08270289190210144\n",
            "  (50885, 22109)\t0.07747892603451667\n",
            "  (50885, 15046)\t0.13363014605316478\n",
            "  (50885, 23796)\t0.06077578970902491\n",
            "  (50885, 19320)\t0.07273780055867216\n"
          ],
          "name": "stdout"
        }
      ]
    },
    {
      "cell_type": "markdown",
      "metadata": {
        "id": "WDNMn0QHhWDx",
        "colab_type": "text"
      },
      "source": [
        "LOGISTIC REGRESSION (comments) -not perfect for multiclasses, so we will skip this model "
      ]
    },
    {
      "cell_type": "code",
      "metadata": {
        "id": "ZL5P4cLGdUN4",
        "colab_type": "code",
        "colab": {
          "base_uri": "https://localhost:8080/",
          "height": 102
        },
        "outputId": "a545c3a3-d4f5-4feb-d393-9cbb502ff2d5"
      },
      "source": [
        "from sklearn.linear_model import LogisticRegression,SGDClassifier\n",
        "#training Logistic model\n",
        "lr=LogisticRegression(penalty='l2',max_iter=500,C=1,random_state=42)\n",
        "#Fitting the model for tfidf features\n",
        "lr_tfidf=lr.fit(tv_train,train_s)\n",
        "print(lr_tfidf)"
      ],
      "execution_count": null,
      "outputs": [
        {
          "output_type": "stream",
          "text": [
            "LogisticRegression(C=1, class_weight=None, dual=False, fit_intercept=True,\n",
            "                   intercept_scaling=1, l1_ratio=None, max_iter=500,\n",
            "                   multi_class='auto', n_jobs=None, penalty='l2',\n",
            "                   random_state=42, solver='lbfgs', tol=0.0001, verbose=0,\n",
            "                   warm_start=False)\n"
          ],
          "name": "stdout"
        }
      ]
    },
    {
      "cell_type": "code",
      "metadata": {
        "id": "Ig0jG-Dma3Zq",
        "colab_type": "code",
        "colab": {
          "base_uri": "https://localhost:8080/",
          "height": 34
        },
        "outputId": "14565087-6f28-400e-d296-a06ffe1a6243"
      },
      "source": [
        "# Predicting the model for test set\n",
        "lr_tfidf_predict_test=lr.predict(tv_test)\n",
        "print(lr_tfidf_predict_test)"
      ],
      "execution_count": null,
      "outputs": [
        {
          "output_type": "stream",
          "text": [
            "['Amazing' 'Regular' 'Amazing' ... 'Regular' 'Amazing' 'Regular']\n"
          ],
          "name": "stdout"
        }
      ]
    },
    {
      "cell_type": "code",
      "metadata": {
        "id": "NFLWS3CSdbLk",
        "colab_type": "code",
        "colab": {
          "base_uri": "https://localhost:8080/",
          "height": 187
        },
        "outputId": "a945fb02-0ca5-47b7-ea53-e87534d30037"
      },
      "source": [
        "from sklearn.metrics import classification_report,confusion_matrix,accuracy_score\n",
        "lr_tfidf_score=accuracy_score(test_s,lr_tfidf_predict_test)\n",
        "print(\"lr_tfidf_score :\",lr_tfidf_score)\n",
        "\n",
        "#Classification report for tfidf features\n",
        "lr_tfidf_report_test=classification_report(test_s,lr_tfidf_predict_test,target_names=['Positive','Negative'])\n",
        "print(lr_tfidf_report_test)"
      ],
      "execution_count": null,
      "outputs": [
        {
          "output_type": "stream",
          "text": [
            "lr_tfidf_score : 0.7587548638132295\n",
            "              precision    recall  f1-score   support\n",
            "\n",
            "    Positive       0.77      0.78      0.77      9001\n",
            "    Negative       0.75      0.73      0.74      7961\n",
            "\n",
            "    accuracy                           0.76     16962\n",
            "   macro avg       0.76      0.76      0.76     16962\n",
            "weighted avg       0.76      0.76      0.76     16962\n",
            "\n"
          ],
          "name": "stdout"
        }
      ]
    },
    {
      "cell_type": "markdown",
      "metadata": {
        "id": "zVzaZhyruch6",
        "colab_type": "text"
      },
      "source": [
        "LOGISTIC REGRESSION (stem_sn) -not perfect for multiclasses, so we will skip this model \n",
        "\n"
      ]
    },
    {
      "cell_type": "code",
      "metadata": {
        "id": "GLzK1cEmucPo",
        "colab_type": "code",
        "colab": {
          "base_uri": "https://localhost:8080/",
          "height": 102
        },
        "outputId": "eb6d204a-f3b6-4f8c-f7f2-3e8ce4da9ced"
      },
      "source": [
        "from sklearn.linear_model import LogisticRegression,SGDClassifier\n",
        "#training Logistic model\n",
        "lr=LogisticRegression(penalty='l2',max_iter=500,C=1,random_state=42)\n",
        "#Fitting the model for tfidf features\n",
        "lr_tfidf_sn=lr.fit(tv_train_sn,train_s)\n",
        "print(lr_tfidf_sn)"
      ],
      "execution_count": null,
      "outputs": [
        {
          "output_type": "stream",
          "text": [
            "LogisticRegression(C=1, class_weight=None, dual=False, fit_intercept=True,\n",
            "                   intercept_scaling=1, l1_ratio=None, max_iter=500,\n",
            "                   multi_class='auto', n_jobs=None, penalty='l2',\n",
            "                   random_state=42, solver='lbfgs', tol=0.0001, verbose=0,\n",
            "                   warm_start=False)\n"
          ],
          "name": "stdout"
        }
      ]
    },
    {
      "cell_type": "code",
      "metadata": {
        "id": "AAYePIzhucFX",
        "colab_type": "code",
        "colab": {
          "base_uri": "https://localhost:8080/",
          "height": 34
        },
        "outputId": "9792a341-63ef-45c5-bb2a-f3dfd4d9e1cf"
      },
      "source": [
        "# Predicting the model for test set\n",
        "lr_tfidf_predict_test_sn=lr.predict(tv_test_sn)\n",
        "print(lr_tfidf_predict_test_sn)"
      ],
      "execution_count": null,
      "outputs": [
        {
          "output_type": "stream",
          "text": [
            "['Amazing' 'Regular' 'Amazing' ... 'Regular' 'Amazing' 'Regular']\n"
          ],
          "name": "stdout"
        }
      ]
    },
    {
      "cell_type": "code",
      "metadata": {
        "id": "EE8eUbrhubzA",
        "colab_type": "code",
        "colab": {
          "base_uri": "https://localhost:8080/",
          "height": 187
        },
        "outputId": "b9a3a54c-35c5-4def-cfce-a689db87eb01"
      },
      "source": [
        "from sklearn.metrics import classification_report,confusion_matrix,accuracy_score\n",
        "lr_tfidf_score_sn=accuracy_score(test_s,lr_tfidf_predict_test_sn)\n",
        "print(\"lr_tfidf_score_sn :\",lr_tfidf_score_sn)\n",
        "\n",
        "#Classification report for tfidf features\n",
        "lr_tfidf_report_test_sn=classification_report(test_s,lr_tfidf_predict_test_sn,target_names=['Positive','Negative'])\n",
        "print(lr_tfidf_report_test_sn)"
      ],
      "execution_count": null,
      "outputs": [
        {
          "output_type": "stream",
          "text": [
            "lr_tfidf_score_sn : 0.7655347246786935\n",
            "              precision    recall  f1-score   support\n",
            "\n",
            "    Positive       0.78      0.78      0.78      9001\n",
            "    Negative       0.75      0.74      0.75      7961\n",
            "\n",
            "    accuracy                           0.77     16962\n",
            "   macro avg       0.76      0.76      0.76     16962\n",
            "weighted avg       0.77      0.77      0.77     16962\n",
            "\n"
          ],
          "name": "stdout"
        }
      ]
    },
    {
      "cell_type": "markdown",
      "metadata": {
        "id": "8_ahZrC6haT-",
        "colab_type": "text"
      },
      "source": [
        "NAIVE BAYES (comments)"
      ]
    },
    {
      "cell_type": "code",
      "metadata": {
        "id": "X5XxiCyEdf3K",
        "colab_type": "code",
        "colab": {}
      },
      "source": [
        "from sklearn.naive_bayes import MultinomialNB\n",
        "model = MultinomialNB()\n",
        "model.fit(tv_train,train_s)\n",
        "labels = model.predict(tv_test)"
      ],
      "execution_count": null,
      "outputs": []
    },
    {
      "cell_type": "code",
      "metadata": {
        "id": "5WSc_VJNhlzm",
        "colab_type": "code",
        "colab": {
          "base_uri": "https://localhost:8080/",
          "height": 51
        },
        "outputId": "bd2b9250-3221-4a34-fd14-2d447e1cbd43"
      },
      "source": [
        "from sklearn.metrics import accuracy_score\n",
        "acc = accuracy_score(test_s,labels, normalize=True) * float(100)\n",
        "print('\\n****Test accuracy is',(acc))"
      ],
      "execution_count": null,
      "outputs": [
        {
          "output_type": "stream",
          "text": [
            "\n",
            "****Test accuracy is 63.60688598042684\n"
          ],
          "name": "stdout"
        }
      ]
    },
    {
      "cell_type": "code",
      "metadata": {
        "id": "cG1zwSoAhpiG",
        "colab_type": "code",
        "colab": {
          "base_uri": "https://localhost:8080/",
          "height": 68
        },
        "outputId": "aeacc2fa-f70b-4f25-b553-145d0bcc9f86"
      },
      "source": [
        "from sklearn.metrics import confusion_matrix\n",
        "cm_test = confusion_matrix(test_s,labels)\n",
        "cm_test"
      ],
      "execution_count": null,
      "outputs": [
        {
          "output_type": "execute_result",
          "data": {
            "text/plain": [
              "array([[8747,   21,  233],\n",
              "       [1483,   27,  389],\n",
              "       [4021,   26, 2015]])"
            ]
          },
          "metadata": {
            "tags": []
          },
          "execution_count": 39
        }
      ]
    },
    {
      "cell_type": "code",
      "metadata": {
        "id": "95pA7j3Dhrjm",
        "colab_type": "code",
        "colab": {
          "base_uri": "https://localhost:8080/",
          "height": 396
        },
        "outputId": "ced215eb-8e59-4f12-86be-2dc4db14c099"
      },
      "source": [
        "import seaborn as sns\n",
        "x_axis_labels = [\"Predicted Amazing\",\"Predicted Regular\",\"Predicted Below Average\"]\n",
        "y_axis_labels = [\"Actual Amazing\",\"Actual Regular\",\"Actual Below Average\"]\n",
        "ax = plt.axes()\n",
        "sns.heatmap(cm_test,xticklabels=x_axis_labels,yticklabels=y_axis_labels,annot=True,fmt='d',ax=ax)\n",
        "ax.set_title('Confusion Matrix (Bayes)')\n",
        "plt.show()"
      ],
      "execution_count": null,
      "outputs": [
        {
          "output_type": "display_data",
          "data": {
            "image/png": "[encoded data removed]",
            "text/plain": [
              "<Figure size 432x288 with 2 Axes>"
            ]
          },
          "metadata": {
            "tags": [],
            "needs_background": "light"
          }
        }
      ]
    },
    {
      "cell_type": "markdown",
      "metadata": {
        "id": "TSrR9Nonxbp0",
        "colab_type": "text"
      },
      "source": [
        "NAIVE BAYES (stem_sn)"
      ]
    },
    {
      "cell_type": "code",
      "metadata": {
        "id": "AcMgCSEIxk2B",
        "colab_type": "code",
        "colab": {
          "base_uri": "https://localhost:8080/",
          "height": 51
        },
        "outputId": "f252d20d-86e7-4354-ba59-94031d7473a9"
      },
      "source": [
        "from sklearn.naive_bayes import MultinomialNB\n",
        "model = MultinomialNB()\n",
        "model.fit(tv_train_sn,train_s)\n",
        "labels_sn = model.predict(tv_test_sn)\n",
        "\n",
        "from sklearn.metrics import accuracy_score\n",
        "acc_sn = accuracy_score(test_s,labels_sn, normalize=True) * float(100)\n",
        "print('\\n****Test accuracy is',(acc_sn))"
      ],
      "execution_count": null,
      "outputs": [
        {
          "output_type": "stream",
          "text": [
            "\n",
            "****Test accuracy is 64.7624100931494\n"
          ],
          "name": "stdout"
        }
      ]
    },
    {
      "cell_type": "code",
      "metadata": {
        "id": "JNMhpJ1xxkx9",
        "colab_type": "code",
        "colab": {
          "base_uri": "https://localhost:8080/",
          "height": 68
        },
        "outputId": "54536881-ed3c-4486-efe2-f0a1bd3dfcfe"
      },
      "source": [
        "from sklearn.metrics import confusion_matrix\n",
        "cm_test_sn = confusion_matrix(test_s,labels_sn)\n",
        "cm_test_sn"
      ],
      "execution_count": null,
      "outputs": [
        {
          "output_type": "execute_result",
          "data": {
            "text/plain": [
              "array([[8715,   29,  257],\n",
              "       [1443,   39,  417],\n",
              "       [3804,   27, 2231]])"
            ]
          },
          "metadata": {
            "tags": []
          },
          "execution_count": 46
        }
      ]
    },
    {
      "cell_type": "code",
      "metadata": {
        "id": "M1aNFd8HxkuD",
        "colab_type": "code",
        "colab": {
          "base_uri": "https://localhost:8080/",
          "height": 396
        },
        "outputId": "a31e78b8-adfe-4e28-f53e-d9f3303434db"
      },
      "source": [
        "import seaborn as sns\n",
        "x_axis_labels = [\"Predicted Amazing\",\"Predicted Regular\",\"Predicted Below Average\"]\n",
        "y_axis_labels = [\"Actual Amazing\",\"Actual Regular\",\"Actual Below Average\"]\n",
        "ax = plt.axes()\n",
        "sns.heatmap(cm_test_sn,xticklabels=x_axis_labels,yticklabels=y_axis_labels,annot=True,fmt='d',ax=ax)\n",
        "ax.set_title('Confusion Matrix (Bayes stemmed)')\n",
        "plt.show()"
      ],
      "execution_count": null,
      "outputs": [
        {
          "output_type": "display_data",
          "data": {
            "image/png": "[encoded data removed]",
            "text/plain": [
              "<Figure size 432x288 with 2 Axes>"
            ]
          },
          "metadata": {
            "tags": [],
            "needs_background": "light"
          }
        }
      ]
    },
    {
      "cell_type": "markdown",
      "metadata": {
        "id": "BlyEUUj3yXzR",
        "colab_type": "text"
      },
      "source": [
        "SVM(comments)"
      ]
    },
    {
      "cell_type": "code",
      "metadata": {
        "id": "Uk44lp8fyYv0",
        "colab_type": "code",
        "colab": {}
      },
      "source": [
        "from sklearn import svm\n",
        "SVM = svm.SVC(C=1.0, kernel='linear', degree=3, gamma='auto')\n",
        "SVM.fit(tv_train,train_s)\n",
        "# predict the labels on test dataset\n",
        "predictions_SVM = SVM.predict(tv_test)"
      ],
      "execution_count": null,
      "outputs": []
    },
    {
      "cell_type": "code",
      "metadata": {
        "id": "meXvvxlqyfwI",
        "colab_type": "code",
        "colab": {
          "base_uri": "https://localhost:8080/",
          "height": 34
        },
        "outputId": "c87ca8a8-6d9c-40a8-ce3e-31ae97a00ee4"
      },
      "source": [
        "# Use accuracy_score function to get the accuracy\n",
        "from sklearn.metrics import accuracy_score\n",
        "print(\"SVM Accuracy Score -> \",accuracy_score(predictions_SVM, test_s)*100)"
      ],
      "execution_count": null,
      "outputs": [
        {
          "output_type": "stream",
          "text": [
            "SVM Accuracy Score ->  70.74637424831978\n"
          ],
          "name": "stdout"
        }
      ]
    },
    {
      "cell_type": "markdown",
      "metadata": {
        "id": "UwoH8Qqph_sV",
        "colab_type": "text"
      },
      "source": [
        "**SVM**(stem_sn)"
      ]
    },
    {
      "cell_type": "code",
      "metadata": {
        "id": "e-ajksCjiBKW",
        "colab_type": "code",
        "colab": {}
      },
      "source": [
        "from sklearn import svm\n",
        "SVM = svm.SVC(C=1.0, kernel='linear', degree=3, gamma='auto')\n",
        "SVM.fit(tv_train_sn,train_s)\n",
        "# predict the labels on validation dataset\n",
        "predictions_SVM_sn = SVM.predict(tv_test_sn)"
      ],
      "execution_count": null,
      "outputs": []
    },
    {
      "cell_type": "code",
      "metadata": {
        "id": "dNO4XkjiiKxM",
        "colab_type": "code",
        "colab": {
          "base_uri": "https://localhost:8080/",
          "height": 34
        },
        "outputId": "2bf75291-aa0f-449f-eaf1-08ebdddc16b3"
      },
      "source": [
        "# Use accuracy_score function to get the accuracy\n",
        "print(\"SVM Accuracy Score_sn -> \",accuracy_score(predictions_SVM_sn, test_s)*100)"
      ],
      "execution_count": null,
      "outputs": [
        {
          "output_type": "stream",
          "text": [
            "SVM Accuracy Score_sn ->  71.2592854616201\n"
          ],
          "name": "stdout"
        }
      ]
    },
    {
      "cell_type": "code",
      "metadata": {
        "id": "Kh429vmAFAuZ",
        "colab_type": "code",
        "colab": {
          "base_uri": "https://localhost:8080/",
          "height": 323
        },
        "outputId": "57c3287f-f215-46b9-b52b-9daafbb1936f"
      },
      "source": [
        "review['neighbourhood_group_cleansed'].value_counts()"
      ],
      "execution_count": null,
      "outputs": [
        {
          "output_type": "execute_result",
          "data": {
            "text/plain": [
              "Other neighborhoods    17199\n",
              "Downtown               12602\n",
              "Capitol Hill           12407\n",
              "Central Area            8437\n",
              "Ballard                 7118\n",
              "Queen Anne              6611\n",
              "Rainier Valley          4084\n",
              "West Seattle            3404\n",
              "Beacon Hill             3355\n",
              "Delridge                2196\n",
              "Cascade                 1419\n",
              "Northgate               1387\n",
              "University District     1313\n",
              "Seward Park             1195\n",
              "Lake City               1027\n",
              "Magnolia                 933\n",
              "Interbay                 123\n",
              "Name: neighbourhood_group_cleansed, dtype: int64"
            ]
          },
          "metadata": {
            "tags": []
          },
          "execution_count": 30
        }
      ]
    },
    {
      "cell_type": "code",
      "metadata": {
        "id": "4eMzpe0AgAFc",
        "colab_type": "code",
        "colab": {
          "base_uri": "https://localhost:8080/",
          "height": 401
        },
        "outputId": "bf5999e1-a94b-4449-fde3-4df85798bee1"
      },
      "source": [
        "plt.hist(review['neighbourhood_group_cleansed'], bins=17, color='#0504aa',alpha=0.7, rwidth=0.85)"
      ],
      "execution_count": null,
      "outputs": [
        {
          "output_type": "execute_result",
          "data": {
            "text/plain": [
              "(array([ 6611.,  8437.,  1419., 17199., 12407.,  7118.,  2196., 12602.,\n",
              "         3404.,  1313.,  1195.,  3355.,  1387.,   123.,  4084.,  1027.,\n",
              "          933.]),\n",
              " array([ 0.        ,  0.94117647,  1.88235294,  2.82352941,  3.76470588,\n",
              "         4.70588235,  5.64705882,  6.58823529,  7.52941176,  8.47058824,\n",
              "         9.41176471, 10.35294118, 11.29411765, 12.23529412, 13.17647059,\n",
              "        14.11764706, 15.05882353, 16.        ]),\n",
              " <a list of 17 Patch objects>)"
            ]
          },
          "metadata": {
            "tags": []
          },
          "execution_count": 36
        },
        {
          "output_type": "display_data",
          "data": {
            "image/png": "[encoded data removed]",
            "text/plain": [
              "<Figure size 432x288 with 1 Axes>"
            ]
          },
          "metadata": {
            "tags": [],
            "needs_background": "light"
          }
        }
      ]
    }
  ]
}