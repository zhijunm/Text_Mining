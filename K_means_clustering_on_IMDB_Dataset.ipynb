{
  "nbformat": 4,
  "nbformat_minor": 0,
  "metadata": {
    "colab": {
      "name": "K mean clustering on IMDB Dataset.ipynb",
      "provenance": [],
      "include_colab_link": true
    },
    "kernelspec": {
      "name": "python3",
      "display_name": "Python 3"
    }
  },
  "cells": [
    {
      "cell_type": "markdown",
      "metadata": {
        "id": "view-in-github",
        "colab_type": "text"
      },
      "source": [
        "<a href=\"https://colab.research.google.com/github/zhijunm/Text_Mining/blob/master/K_means_clustering_on_IMDB_Dataset.ipynb\" target=\"_parent\"><img src=\"https://colab.research.google.com/assets/colab-badge.svg\" alt=\"Open In Colab\"/></a>"
      ]
    },
    {
      "cell_type": "code",
      "metadata": {
        "id": "vuLUHr3_XQO6",
        "colab_type": "code",
        "outputId": "4b60508a-06fd-4488-fdce-df0a5eb22897",
        "colab": {
          "base_uri": "https://localhost:8080/",
          "height": 71
        }
      },
      "source": [
        "import nltk\n",
        "import re\n",
        "import numpy as np\n",
        "import pandas as pd\n",
        "#Tokenization of text\n",
        "from nltk.tokenize import word_tokenize,sent_tokenize\n",
        "#remove stop-words\n",
        "from nltk.corpus import stopwords # library \n",
        "nltk.download('stopwords')\n",
        "all_stopwords = set(stopwords.words('english')) # set the language \n",
        "from typing import List\n",
        "from sklearn.feature_extraction.text import TfidfVectorizer\n",
        "from sklearn.cluster import KMeans\n",
        "from sklearn import metrics\n",
        "from sklearn.cluster import MiniBatchKMeans\n",
        "import matplotlib.pyplot as plt"
      ],
      "execution_count": 0,
      "outputs": [
        {
          "output_type": "stream",
          "text": [
            "[nltk_data] Downloading package stopwords to /root/nltk_data...\n",
            "[nltk_data]   Unzipping corpora/stopwords.zip.\n"
          ],
          "name": "stdout"
        }
      ]
    },
    {
      "cell_type": "code",
      "metadata": {
        "id": "HK_ev_S3XeYk",
        "colab_type": "code",
        "outputId": "5e5d7e27-f133-4b3d-ec31-5155457193ac",
        "colab": {
          "base_uri": "https://localhost:8080/",
          "height": 191
        }
      },
      "source": [
        "# reading review data with panda frames \n",
        "reviews_data=pd.read_csv('IMDB Dataset.csv')\n",
        "reviews_data.describe()"
      ],
      "execution_count": 0,
      "outputs": [
        {
          "output_type": "execute_result",
          "data": {
            "text/html": [
              "<div>\n",
              "<style scoped>\n",
              "    .dataframe tbody tr th:only-of-type {\n",
              "        vertical-align: middle;\n",
              "    }\n",
              "\n",
              "    .dataframe tbody tr th {\n",
              "        vertical-align: top;\n",
              "    }\n",
              "\n",
              "    .dataframe thead th {\n",
              "        text-align: right;\n",
              "    }\n",
              "</style>\n",
              "<table border=\"1\" class=\"dataframe\">\n",
              "  <thead>\n",
              "    <tr style=\"text-align: right;\">\n",
              "      <th></th>\n",
              "      <th>review</th>\n",
              "      <th>sentiment</th>\n",
              "    </tr>\n",
              "  </thead>\n",
              "  <tbody>\n",
              "    <tr>\n",
              "      <th>count</th>\n",
              "      <td>50000</td>\n",
              "      <td>50000</td>\n",
              "    </tr>\n",
              "    <tr>\n",
              "      <th>unique</th>\n",
              "      <td>49582</td>\n",
              "      <td>2</td>\n",
              "    </tr>\n",
              "    <tr>\n",
              "      <th>top</th>\n",
              "      <td>Loved today's show!!! It was a variety and not...</td>\n",
              "      <td>positive</td>\n",
              "    </tr>\n",
              "    <tr>\n",
              "      <th>freq</th>\n",
              "      <td>5</td>\n",
              "      <td>25000</td>\n",
              "    </tr>\n",
              "  </tbody>\n",
              "</table>\n",
              "</div>"
            ],
            "text/plain": [
              "                                                   review sentiment\n",
              "count                                               50000     50000\n",
              "unique                                              49582         2\n",
              "top     Loved today's show!!! It was a variety and not...  positive\n",
              "freq                                                    5     25000"
            ]
          },
          "metadata": {
            "tags": []
          },
          "execution_count": 2
        }
      ]
    },
    {
      "cell_type": "code",
      "metadata": {
        "id": "mhU9a0iJXg0Q",
        "colab_type": "code",
        "outputId": "be969d0e-4f4a-4c4c-e010-46983ae229b8",
        "colab": {
          "base_uri": "https://localhost:8080/",
          "height": 54
        }
      },
      "source": [
        "# The sentiments are either 'positive' or 'negative' and are evenly distributed. Lets preprocess the text using the simple tokenizer we built in last class. We call it preprocess_text now.\n",
        "def preprocess_text(text: str) -> List[str]:\n",
        "    # Looking at the text we see that <br></br> which is HTML tag for line break can be a good splitter\n",
        "    # A sentence (atleast well structured) often has a full spot at the end. We use these two for word breaks\n",
        "    pattern1 = re.compile(\"<br /><br />|\\.\")\n",
        "    lines = re.split(pattern1, text)\n",
        "    # you can break a sentence into words using whitespace based split\n",
        "    tokens = []\n",
        "    for line in lines:\n",
        "        tokens += line.split(\" \")\n",
        "\n",
        "    # lowercase and remove any non-alphanumeric characters from tokens for normalize\n",
        "#     normalized_tokens = [token for token in tokens if re.search() re.sub(r\"^[A-Za-z]\\w*$\", token.lower(), \"\") for token in tokens]\n",
        "    normalized_tokens = [token for token in tokens if re.search(r\"^[A-Za-z]\\w*$\", token) is not None]\n",
        "    return  \" \".join([\n",
        "            token\n",
        "            for token in normalized_tokens\n",
        "            if token and token not in all_stopwords and len(tokens) > 1\n",
        "        ])\n",
        "    \n",
        "\n",
        "  \n",
        "custom_review = \"I hated the film. It was a disaster. Poor direction, bad acting.\"\n",
        "custom_review_tokens = preprocess_text(custom_review)\n",
        "print(custom_review_tokens)"
      ],
      "execution_count": 0,
      "outputs": [
        {
          "output_type": "stream",
          "text": [
            "I hated film It disaster Poor bad acting\n"
          ],
          "name": "stdout"
        }
      ]
    },
    {
      "cell_type": "code",
      "metadata": {
        "id": "W2akq4mHXk5s",
        "colab_type": "code",
        "colab": {}
      },
      "source": [
        "#apply preprocessing to review data\n",
        "reviews_data['review'] = reviews_data['review'].apply(preprocess_text)"
      ],
      "execution_count": 0,
      "outputs": []
    },
    {
      "cell_type": "code",
      "metadata": {
        "id": "M_k0g70NXqrE",
        "colab_type": "code",
        "colab": {}
      },
      "source": [
        "# CountVectorizer implements both tokenization and occurrence counting in a single class. Read more here https://scikit-learn.org/stable/modules/generated/sklearn.feature_extraction.text.CountVectorizer.html\n",
        "# You can also reuse the from scratch code we learnt in previous class\n",
        "# TfidfVectorizer Convert a collection of raw documents to a matrix of TF-IDF features. Equivalent to CountVectorizer followed by TfidfTransformer.\n",
        "# from sklearn.feature_extraction.text import CountVectorizer\n",
        "\n",
        "#Count vectorizer with \n",
        "lower_count_thr = 100 # rare words/tokens\n",
        "upper_count_thr = 5000 # frequent/common tokens\n",
        "\n",
        "vectorizer=TfidfVectorizer(min_df=lower_count_thr,max_df=upper_count_thr,binary=False,ngram_range=(1,1))"
      ],
      "execution_count": 0,
      "outputs": []
    },
    {
      "cell_type": "code",
      "metadata": {
        "id": "msMUd6vIXtKm",
        "colab_type": "code",
        "colab": {}
      },
      "source": [
        "tfidf_vectors = vectorizer.fit_transform(reviews_data['review'] )"
      ],
      "execution_count": 0,
      "outputs": []
    },
    {
      "cell_type": "code",
      "metadata": {
        "id": "wPdyNCypXv-g",
        "colab_type": "code",
        "colab": {}
      },
      "source": [
        "feature_names = vectorizer.get_feature_names()\n",
        "dense = tfidf_vectors.todense()\n",
        "denselist = dense.tolist()\n",
        "df = pd.DataFrame(denselist, columns=feature_names)"
      ],
      "execution_count": 0,
      "outputs": []
    },
    {
      "cell_type": "code",
      "metadata": {
        "id": "3-ubib-nX0IF",
        "colab_type": "code",
        "colab": {}
      },
      "source": [
        "print(len(df))\n",
        "print(df[10:30])"
      ],
      "execution_count": 0,
      "outputs": []
    },
    {
      "cell_type": "code",
      "metadata": {
        "id": "W2Se-XF2X86r",
        "colab_type": "code",
        "colab": {}
      },
      "source": [
        "km = KMeans(n_clusters = 5, max_iter=100, n_init=1)"
      ],
      "execution_count": 0,
      "outputs": []
    },
    {
      "cell_type": "code",
      "metadata": {
        "id": "Q9fcSC1vX_vO",
        "colab_type": "code",
        "colab": {}
      },
      "source": [
        "km.fit(tfidf_vectors)"
      ],
      "execution_count": 0,
      "outputs": []
    },
    {
      "cell_type": "code",
      "metadata": {
        "id": "auDlHdvcYIlJ",
        "colab_type": "code",
        "colab": {}
      },
      "source": [
        "print(\"Top terms per cluster:\")\n",
        "order_centroids = km.cluster_centers_.argsort()[:, ::-1]\n",
        "terms = vectorizer.get_feature_names()\n",
        "for i in range(5):\n",
        "    print(\"Cluster %d:\" % i),\n",
        "    for ind in order_centroids[i, :10]:\n",
        "        print(' %s' % terms[ind]),\n",
        "    print"
      ],
      "execution_count": 0,
      "outputs": []
    }
  ]
}