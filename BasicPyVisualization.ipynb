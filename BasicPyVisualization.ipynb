{
  "nbformat": 4,
  "nbformat_minor": 0,
  "metadata": {
    "kernelspec": {
      "name": "python36",
      "display_name": "Python 3.6",
      "language": "python"
    },
    "language_info": {
      "mimetype": "text/x-python",
      "nbconvert_exporter": "python",
      "name": "python",
      "pygments_lexer": "ipython3",
      "version": "3.6.6",
      "file_extension": ".py",
      "codemirror_mode": {
        "version": 3,
        "name": "ipython"
      }
    },
    "colab": {
      "name": "BasicPyVisualization.ipynb",
      "provenance": [],
      "include_colab_link": true
    }
  },
  "cells": [
    {
      "cell_type": "markdown",
      "metadata": {
        "id": "view-in-github",
        "colab_type": "text"
      },
      "source": [
        "<a href=\"https://colab.research.google.com/github/zhijunm/Text_Mining/blob/master/BasicPyVisualization.ipynb\" target=\"_parent\"><img src=\"https://colab.research.google.com/assets/colab-badge.svg\" alt=\"Open In Colab\"/></a>"
      ]
    },
    {
      "cell_type": "markdown",
      "metadata": {
        "collapsed": true,
        "id": "8vT-CjUdqDKb",
        "colab_type": "text"
      },
      "source": [
        "# Basic Data Visualization in Python!\n",
        "\n",
        "### Introduction\n",
        "\n",
        "In this notebook we'll be learning how to create basic charts in Python. Specifically, we'll be loading the iris data set from the statsmodels library into a Pandas DataFrame, after which we'll use use the pyplot component of the matplotlib library to create some basic charts. "
      ]
    },
    {
      "cell_type": "markdown",
      "metadata": {
        "id": "CkCMQIXsqDKd",
        "colab_type": "text"
      },
      "source": [
        "### Loading the Data\n",
        "\n",
        "The code below imports the statsmodels and pyplot libraries, and loads the iris data set into a pandas DataFrame object:"
      ]
    },
    {
      "cell_type": "code",
      "metadata": {
        "trusted": true,
        "id": "8Emk-0D2qDKe",
        "colab_type": "code",
        "outputId": "ea27822f-7d01-4643-d7e2-091bee811a60",
        "colab": {
          "base_uri": "https://localhost:8080/",
          "height": 51
        }
      },
      "source": [
        "#import  statsmodels library\n",
        "import statsmodels.api as sm\n",
        "\n",
        "#import the pyplot library\n",
        "import matplotlib.pyplot as plt\n",
        "%matplotlib inline\n",
        "\n",
        "#get the iris dataset and assign it to a pandas dataframe\n",
        "df = sm.datasets.get_rdataset('iris').data"
      ],
      "execution_count": 0,
      "outputs": [
        {
          "output_type": "stream",
          "text": [
            "/usr/local/lib/python3.6/dist-packages/statsmodels/tools/_testing.py:19: FutureWarning: pandas.util.testing is deprecated. Use the functions in the public API at pandas.testing instead.\n",
            "  import pandas.util.testing as tm\n"
          ],
          "name": "stderr"
        }
      ]
    },
    {
      "cell_type": "markdown",
      "metadata": {
        "id": "FVBKy0-oqDKk",
        "colab_type": "text"
      },
      "source": [
        " ### Familiarizing Ourselves with the Data\n",
        " \n",
        "Run the code below to view the first few rows of data in the data set. The data are measurements from different species of iris flowers."
      ]
    },
    {
      "cell_type": "code",
      "metadata": {
        "trusted": true,
        "id": "J4b-9LPsqDKl",
        "colab_type": "code",
        "outputId": "748fe977-4d79-479e-e143-2bf44cb30241",
        "colab": {
          "base_uri": "https://localhost:8080/",
          "height": 204
        }
      },
      "source": [
        "#view the first few rows of data in the dataframe\n",
        "df.head()"
      ],
      "execution_count": 0,
      "outputs": [
        {
          "output_type": "execute_result",
          "data": {
            "text/html": [
              "<div>\n",
              "<style scoped>\n",
              "    .dataframe tbody tr th:only-of-type {\n",
              "        vertical-align: middle;\n",
              "    }\n",
              "\n",
              "    .dataframe tbody tr th {\n",
              "        vertical-align: top;\n",
              "    }\n",
              "\n",
              "    .dataframe thead th {\n",
              "        text-align: right;\n",
              "    }\n",
              "</style>\n",
              "<table border=\"1\" class=\"dataframe\">\n",
              "  <thead>\n",
              "    <tr style=\"text-align: right;\">\n",
              "      <th></th>\n",
              "      <th>Sepal.Length</th>\n",
              "      <th>Sepal.Width</th>\n",
              "      <th>Petal.Length</th>\n",
              "      <th>Petal.Width</th>\n",
              "      <th>Species</th>\n",
              "    </tr>\n",
              "  </thead>\n",
              "  <tbody>\n",
              "    <tr>\n",
              "      <th>0</th>\n",
              "      <td>5.1</td>\n",
              "      <td>3.5</td>\n",
              "      <td>1.4</td>\n",
              "      <td>0.2</td>\n",
              "      <td>setosa</td>\n",
              "    </tr>\n",
              "    <tr>\n",
              "      <th>1</th>\n",
              "      <td>4.9</td>\n",
              "      <td>3.0</td>\n",
              "      <td>1.4</td>\n",
              "      <td>0.2</td>\n",
              "      <td>setosa</td>\n",
              "    </tr>\n",
              "    <tr>\n",
              "      <th>2</th>\n",
              "      <td>4.7</td>\n",
              "      <td>3.2</td>\n",
              "      <td>1.3</td>\n",
              "      <td>0.2</td>\n",
              "      <td>setosa</td>\n",
              "    </tr>\n",
              "    <tr>\n",
              "      <th>3</th>\n",
              "      <td>4.6</td>\n",
              "      <td>3.1</td>\n",
              "      <td>1.5</td>\n",
              "      <td>0.2</td>\n",
              "      <td>setosa</td>\n",
              "    </tr>\n",
              "    <tr>\n",
              "      <th>4</th>\n",
              "      <td>5.0</td>\n",
              "      <td>3.6</td>\n",
              "      <td>1.4</td>\n",
              "      <td>0.2</td>\n",
              "      <td>setosa</td>\n",
              "    </tr>\n",
              "  </tbody>\n",
              "</table>\n",
              "</div>"
            ],
            "text/plain": [
              "   Sepal.Length  Sepal.Width  Petal.Length  Petal.Width Species\n",
              "0           5.1          3.5           1.4          0.2  setosa\n",
              "1           4.9          3.0           1.4          0.2  setosa\n",
              "2           4.7          3.2           1.3          0.2  setosa\n",
              "3           4.6          3.1           1.5          0.2  setosa\n",
              "4           5.0          3.6           1.4          0.2  setosa"
            ]
          },
          "metadata": {
            "tags": []
          },
          "execution_count": 2
        }
      ]
    },
    {
      "cell_type": "markdown",
      "metadata": {
        "id": "vEE60mfPqDKr",
        "colab_type": "text"
      },
      "source": [
        "### Pie Charts\n",
        "\n",
        "Let's draw a pie chart that shows the number of records in the data set for each species of iris flower:"
      ]
    },
    {
      "cell_type": "code",
      "metadata": {
        "trusted": true,
        "id": "grOX-OI3qDKs",
        "colab_type": "code",
        "outputId": "056d633b-67d1-4db1-ca8a-adb398710873",
        "colab": {
          "base_uri": "https://localhost:8080/",
          "height": 466
        }
      },
      "source": [
        "#identify each species, and count the number of rows for each species\n",
        "speciesCounts = df['Species'].value_counts()\n",
        "\n",
        "#set the size of the chart\n",
        "plt.figure(figsize=(8,8))\n",
        "\n",
        "#draw a simple pie chart\n",
        "speciesCounts.plot(kind='pie')\n",
        "plt.show()"
      ],
      "execution_count": 0,
      "outputs": [
        {
          "output_type": "display_data",
          "data": {
            "image/png": "[encoded data removed]",
            "text/plain": [
              "<Figure size 576x576 with 1 Axes>"
            ]
          },
          "metadata": {
            "tags": []
          }
        }
      ]
    },
    {
      "cell_type": "markdown",
      "metadata": {
        "id": "0n6inFcwqDKw",
        "colab_type": "text"
      },
      "source": [
        "### Changing the Chart's Properties\n",
        "\n",
        "Each chart has many properties that you can change in order to control the appearance of the chart. Here's a list of properties for the pie chart: https://matplotlib.org/api/_as_gen/matplotlib.pyplot.pie.html\n",
        "\n",
        "Let's see an exploded pie chart with a shadow, for example:"
      ]
    },
    {
      "cell_type": "code",
      "metadata": {
        "trusted": true,
        "id": "M-YRN2TPqDKx",
        "colab_type": "code",
        "outputId": "a851cc37-e1be-41e1-b940-9ea298ff2bbe",
        "colab": {
          "base_uri": "https://localhost:8080/",
          "height": 466
        }
      },
      "source": [
        "#draw an exploded pie chart with a shadow\n",
        "plt.figure(figsize=(8,8))\n",
        "speciesCounts.plot(kind='pie', explode=[0.05,0.05,0.05], shadow=True)\n",
        "plt.show()"
      ],
      "execution_count": 0,
      "outputs": [
        {
          "output_type": "display_data",
          "data": {
            "image/png": "[encoded data removed]",
            "text/plain": [
              "<Figure size 576x576 with 1 Axes>"
            ]
          },
          "metadata": {
            "tags": []
          }
        }
      ]
    },
    {
      "cell_type": "markdown",
      "metadata": {
        "id": "mF9_O3xtqDK2",
        "colab_type": "text"
      },
      "source": [
        "### Bar Charts\n",
        "\n",
        "Let's draw a simple bar chart that compares the average petal lengths of the various iris species:"
      ]
    },
    {
      "cell_type": "code",
      "metadata": {
        "trusted": true,
        "id": "F-a6sn2rqDK3",
        "colab_type": "code",
        "colab": {}
      },
      "source": [
        "#compute the average petal length for each species\n",
        "averagePetalLengths = df[['Species', 'Petal.Length']].groupby('Species').mean()\n",
        "\n",
        "#draw a simple bar chart\n",
        "plt.figure(figsize=(8,8))\n",
        "averagePetalLengths.plot(kind='bar')\n",
        "plt.ylabel('Petal Length (cm)')\n",
        "plt.show()"
      ],
      "execution_count": 0,
      "outputs": []
    },
    {
      "cell_type": "markdown",
      "metadata": {
        "id": "oG2LBwvDqDK8",
        "colab_type": "text"
      },
      "source": [
        "We can also easily draw horizontal bar charts..."
      ]
    },
    {
      "cell_type": "code",
      "metadata": {
        "trusted": true,
        "id": "WGp80NtUqDK9",
        "colab_type": "code",
        "colab": {}
      },
      "source": [
        "#draw a simple horizontal bar chart\n",
        "plt.figure(figsize=(8,8))\n",
        "averagePetalLengths.plot(kind='barh')\n",
        "plt.xlabel('Petal Length (cm)')\n",
        "plt.show()"
      ],
      "execution_count": 0,
      "outputs": []
    },
    {
      "cell_type": "markdown",
      "metadata": {
        "id": "NidgYXo6qDLC",
        "colab_type": "text"
      },
      "source": [
        "### Scatter Plots\n",
        "\n",
        "If we'd like to draw a chart that compares two variables, we can use a scatter plot. The scatter plot below compares petal lengths to sepal lengths for the *setosa* species of iris:"
      ]
    },
    {
      "cell_type": "code",
      "metadata": {
        "trusted": true,
        "id": "LaZ3wwnaqDLD",
        "colab_type": "code",
        "colab": {}
      },
      "source": [
        "#get just the setosa species records\n",
        "setosas = df[df['Species'] == 'setosa']\n",
        "\n",
        "#draw a simple scatter plot\n",
        "plt.figure(figsize=(8,8))\n",
        "plt.scatter(x=setosas['Petal.Length'], y=setosas['Sepal.Length'])\n",
        "plt.xlabel('Petal Length (cm)')\n",
        "plt.ylabel('Sepal Length (cm)')\n",
        "plt.show()"
      ],
      "execution_count": 0,
      "outputs": []
    },
    {
      "cell_type": "markdown",
      "metadata": {
        "id": "fSZtawlIqDLH",
        "colab_type": "text"
      },
      "source": [
        "We can also easily manipulate the appearance of the scatter plot by changing it's properties. For example..."
      ]
    },
    {
      "cell_type": "code",
      "metadata": {
        "trusted": true,
        "id": "vkO6cHFdqDLI",
        "colab_type": "code",
        "colab": {}
      },
      "source": [
        "#define a marker size column\n",
        "df['markerSize'] = 1500\n",
        "setosas = df[df['Species'] == 'setosa']\n",
        "\n",
        "#draw a scatter plot with big, semi-transparent markers\n",
        "plt.figure(figsize=(8,8))\n",
        "plt.scatter(x=setosas['Petal.Length'], y=setosas['Sepal.Length'], s=setosas['markerSize'], c='r', alpha=0.5)\n",
        "plt.xlabel('Petal Length (cm)')\n",
        "plt.ylabel('Sepal Length (cm)')\n",
        "plt.show()"
      ],
      "execution_count": 0,
      "outputs": []
    },
    {
      "cell_type": "code",
      "metadata": {
        "trusted": true,
        "id": "NL-9Fi6fqDLM",
        "colab_type": "code",
        "colab": {}
      },
      "source": [
        ""
      ],
      "execution_count": 0,
      "outputs": []
    }
  ]
}