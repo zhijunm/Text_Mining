{
  "nbformat": 4,
  "nbformat_minor": 0,
  "metadata": {
    "kernelspec": {
      "name": "python36",
      "display_name": "Python 3.6",
      "language": "python"
    },
    "language_info": {
      "mimetype": "text/x-python",
      "nbconvert_exporter": "python",
      "name": "python",
      "pygments_lexer": "ipython3",
      "version": "3.6.6",
      "file_extension": ".py",
      "codemirror_mode": {
        "version": 3,
        "name": "ipython"
      }
    },
    "colab": {
      "name": "BasicPython_KNN.ipynb",
      "provenance": [],
      "include_colab_link": true
    }
  },
  "cells": [
    {
      "cell_type": "markdown",
      "metadata": {
        "id": "view-in-github",
        "colab_type": "text"
      },
      "source": [
        "<a href=\"https://colab.research.google.com/github/zhijunm/Text_Mining/blob/master/BasicPy_KNN.ipynb\" target=\"_parent\"><img src=\"https://colab.research.google.com/assets/colab-badge.svg\" alt=\"Open In Colab\"/></a>"
      ]
    },
    {
      "cell_type": "code",
      "metadata": {
        "trusted": true,
        "id": "Xh4roPnIv9Eu",
        "colab_type": "code",
        "colab": {}
      },
      "source": [
        "#ignore annoying deprecation warnings\n",
        "import warnings\n",
        "warnings.filterwarnings('ignore')"
      ],
      "execution_count": 0,
      "outputs": []
    },
    {
      "cell_type": "code",
      "metadata": {
        "id": "6w9oQQ9wQZHD",
        "colab_type": "code",
        "colab": {}
      },
      "source": [
        ""
      ],
      "execution_count": 0,
      "outputs": []
    },
    {
      "cell_type": "markdown",
      "metadata": {
        "id": "Pmlm_iYov9E1",
        "colab_type": "text"
      },
      "source": [
        "# K-Nearest Neighbor (KNN) Classification in Python!\n",
        "\n",
        "\n",
        "## Introduction\n",
        "\n",
        "**K-Nearest Neighbor (KNN) Classification** is a geometric classification method in which the class to which each case is assigned is based on the classes of the *k* cases in the training set that are geometrically closest to the case being classified. The class to which each case is assigned is determined by a majority vote of its neighbors, with the case being assigned to the class that is most common among its *k* nearest neighbors. The value of *k* must be a positive integer, and is typically small (e.g., 3). The output of KNN classification is thus a predicted class membership for each case being evaluated.\n",
        "\n",
        "The images below show an example of KNN classification in a two-dimensional (i.e., two-feature) space. The stars and triangles represent the locations and classes of the **training data** in this space. At *k* = 3 the new case is assigned to Class B, while at *k* = 7 the new case is assigned to Class A. Note that the KNN method is readily extensible into higher-dimensional spaces."
      ]
    },
    {
      "cell_type": "markdown",
      "metadata": {
        "id": "mlUN7QjUv9E2",
        "colab_type": "text"
      },
      "source": [
        "## Load Libraries and Data\n",
        "\n",
        "In this lesson, we'll be using the *Galton Families* data that we used previously to learn how to perform a KNN classification in Python. We'll be using the `neighbors` package from **scikit-learn** to actually build our KNN classifier."
      ]
    },
    {
      "cell_type": "code",
      "metadata": {
        "trusted": true,
        "id": "LtgvtmUvv9E3",
        "colab_type": "code",
        "colab": {}
      },
      "source": [
        "#import libraries\n",
        "import pandas as pd\n",
        "import sklearn.neighbors as skln\n",
        "import sklearn.metrics as sklm\n",
        "import sklearn.model_selection as ms\n",
        "from sklearn import preprocessing\n",
        "import statsmodels.api as sm\n",
        "import numpy as np\n",
        "\n",
        "#get the Galton Families dataset and assign it to a pandas dataframe\n",
        "df = sm.datasets.get_rdataset('GaltonFamilies', package='HistData').data\n",
        "\n",
        "#view the first 10 rows of data in the dataframe\n",
        "df.head(10)"
      ],
      "execution_count": 0,
      "outputs": []
    },
    {
      "cell_type": "markdown",
      "metadata": {
        "id": "eCRRol0ov9E-",
        "colab_type": "text"
      },
      "source": [
        "Our goal in this lesson will be to classify each child as male or female based on the child's height and the order in which a child was born within a family. These values are recorded in the *childHeight* and *childNum* variables, respectively."
      ]
    },
    {
      "cell_type": "markdown",
      "metadata": {
        "id": "2Tll_4HKv9E_",
        "colab_type": "text"
      },
      "source": [
        "## Data Preparation\n",
        "\n",
        "#### Recoding the 'gender' Variable\n",
        "As shown in the table above, each child's gender is currently recorded using the textual labels *male* and *female*. We will need to convert these values into a binary dummy variable before proceeding with our KNN classification:"
      ]
    },
    {
      "cell_type": "code",
      "metadata": {
        "trusted": true,
        "id": "Mg7w59aiv9FA",
        "colab_type": "code",
        "colab": {}
      },
      "source": [
        "#define a dictionary that specifies current and replacement values\n",
        "genderCodes = {'male': 1, 'female': 0}\n",
        "\n",
        "#use the dictionary to replace the current textual gender labels with a 0 or 1\n",
        "df['gender'].replace(genderCodes, inplace=True)\n",
        "\n",
        "#view the first 10 rows of data in the dataframe\n",
        "df.head(10)"
      ],
      "execution_count": 0,
      "outputs": []
    },
    {
      "cell_type": "markdown",
      "metadata": {
        "id": "TGHNelPnv9FF",
        "colab_type": "text"
      },
      "source": [
        "As shown above, male childern are now coded as *1*, while female children are coded as *0*.\n",
        "\n",
        "#### Checking for Class Imbalance\n",
        "Next, we'll check whether there is an approximately equal number of male and female children in the data set. If the number of children of each gender is imbalanced, then we may need to construct a balanced data set before proceeding:"
      ]
    },
    {
      "cell_type": "code",
      "metadata": {
        "trusted": true,
        "id": "6MDe4XR2v9FG",
        "colab_type": "code",
        "colab": {}
      },
      "source": [
        "#show case counts for each gender\n",
        "print(df.gender.value_counts())\n",
        "\n",
        "#show the mean for the gender variable\n",
        "print(df.gender.mean())"
      ],
      "execution_count": 0,
      "outputs": []
    },
    {
      "cell_type": "markdown",
      "metadata": {
        "id": "LfPx5kjXv9FL",
        "colab_type": "text"
      },
      "source": [
        "The values shown above indicate that our data set contains 481 male children and 453 female children, and that approximately 51.5% of the children are male. There are an approximately equal number of male and female children, so we can proceed with our analysis."
      ]
    },
    {
      "cell_type": "markdown",
      "metadata": {
        "id": "_rYcVVmfv9FM",
        "colab_type": "text"
      },
      "source": [
        "#### Normalizing (Rescaling) the Data\n",
        "The two variables that we'll be using as the basis for our classification (*childHeight* and *childNum*) have vastly different distributions, as revealed by the descriptive statistics below:"
      ]
    },
    {
      "cell_type": "code",
      "metadata": {
        "trusted": true,
        "id": "Qs1jXdZtv9FN",
        "colab_type": "code",
        "colab": {}
      },
      "source": [
        "#show descriptives for the childHeight and childNum variables\n",
        "df[['childHeight', 'childNum']].describe().transpose()"
      ],
      "execution_count": 0,
      "outputs": []
    },
    {
      "cell_type": "markdown",
      "metadata": {
        "id": "AhPrSYIJv9FS",
        "colab_type": "text"
      },
      "source": [
        "Since KNN classification relies on the **distance between points** in order to predict class membership, it is important to normalize (rescale) our data to ensure that the dstributional differences between our two variables do not cause one variable to have excessive influence in the KNN algorithm's distance calculations:"
      ]
    },
    {
      "cell_type": "code",
      "metadata": {
        "trusted": true,
        "id": "7jAfnleyv9FT",
        "colab_type": "code",
        "colab": {}
      },
      "source": [
        "#define a standard (z-score) scaler object\n",
        "scaler = preprocessing.StandardScaler()\n",
        "\n",
        "#perform z-score normalization on all of the numeric variables\n",
        "z_score_scaled = scaler.fit_transform(df[['childHeight', 'childNum']])\n",
        "\n",
        "#convert the numpy ndarray into a pandas dataframe\n",
        "z_score_scaled = pd.DataFrame(z_score_scaled)\n",
        "\n",
        "#name the columns in the new dataframe\n",
        "z_score_scaled.columns = ['childHeight', 'childNum']\n",
        "\n",
        "#construct a data frasme containing all three variables\n",
        "df = pd.concat([df['gender'], z_score_scaled], axis=1)\n",
        "\n",
        "#view descriptive statististics\n",
        "df.describe()"
      ],
      "execution_count": 0,
      "outputs": []
    },
    {
      "cell_type": "markdown",
      "metadata": {
        "trusted": true,
        "id": "SfCkaa4ev9FY",
        "colab_type": "text"
      },
      "source": [
        "Our *childHeight* and *childNum* variables have been successfully rescaled into z-scores, so we can now proceed with splitting our data.\n",
        "\n",
        "#### Training and Testing Data\n",
        "Now that we have verified that we have a balanced data set and have normalized our variables, we can proceed with subdividing our data set into training and testing sets. This step is critically important -- if a classification model is evaluated using only the data that were used to train the model, then the results will be both biased and overly optimistic for real-world scenarios.\n",
        "\n",
        "For our purposes, we will create a training set that contains 70% of our data, while the testing set will contain the remaining 30% of the data:"
      ]
    },
    {
      "cell_type": "code",
      "metadata": {
        "trusted": true,
        "id": "1P8_2NEnv9FZ",
        "colab_type": "code",
        "colab": {}
      },
      "source": [
        "#define a random seed to ensure that the results are consistent\n",
        "np.random.seed(1234)\n",
        "\n",
        "#compute the size of the testing data set\n",
        "test_size = int(df.shape[0] * 0.3) #30% of the data will be used for testing\n",
        "\n",
        "#use Bernoulli sampling to get a two-dimensional array that contains the indexes of the rows that will comprise the training and testing data sets\n",
        "indexes = ms.train_test_split(range(df.shape[0]), test_size = test_size)\n",
        "\n",
        "#define the training data set\n",
        "training = df.iloc[indexes[0],:]\n",
        "\n",
        "#define the testing data set\n",
        "testing = df.iloc[indexes[1],:]"
      ],
      "execution_count": 0,
      "outputs": []
    },
    {
      "cell_type": "markdown",
      "metadata": {
        "id": "2vCU0oORv9Fd",
        "colab_type": "text"
      },
      "source": [
        "Now that we've completed preparing our data, let's build our KNN classifier!"
      ]
    },
    {
      "cell_type": "markdown",
      "metadata": {
        "trusted": true,
        "id": "dF5JilH2v9Fe",
        "colab_type": "text"
      },
      "source": [
        "## Build the KNN Classifier\n",
        "Next, we'll use our **training data** to build our KNN classification model. To build the model, we will:\n",
        "1. Define a KNN classification model object using the `KNeighborsClassifier` method from the scikit-learn `neighbors` package.\n",
        "2. Train the classification model using the predictor and outcome variables from our **training** data set:"
      ]
    },
    {
      "cell_type": "code",
      "metadata": {
        "trusted": true,
        "id": "tiC4zgd6v9Ff",
        "colab_type": "code",
        "colab": {}
      },
      "source": [
        "#define and train the KNN classifier\n",
        "knn_mod = skln.KNeighborsClassifier(n_neighbors=3) \n",
        "knn_mod.fit(training[['childHeight', 'childNum']], training['gender'])"
      ],
      "execution_count": 0,
      "outputs": []
    },
    {
      "cell_type": "markdown",
      "metadata": {
        "trusted": true,
        "id": "A9CdrYd0v9Fj",
        "colab_type": "text"
      },
      "source": [
        "Notice that the configuration of the model object is printed during the estimation process. In our case, all of the values shown are default settings because we didn't specify any custom settings when creating the model object.\n",
        "\n",
        "Next, let's use our trained model to get all of the class predictions for our **testing** data:"
      ]
    },
    {
      "cell_type": "code",
      "metadata": {
        "trusted": true,
        "id": "-rpjboZ2v9Fk",
        "colab_type": "code",
        "colab": {}
      },
      "source": [
        "#calculate class (gender) predictions for the children in the testing data set\n",
        "gender_predictions = knn_mod.predict(testing[['childHeight', 'childNum']])\n",
        "\n",
        "#show the first 10 gender predictions for the testing data\n",
        "print(gender_predictions[:10])"
      ],
      "execution_count": 0,
      "outputs": []
    },
    {
      "cell_type": "markdown",
      "metadata": {
        "id": "7A-pIa7wv9Fs",
        "colab_type": "text"
      },
      "source": [
        "Now that we have our gender predictions for the children in the testing data set, let's see how well our KNN classifier works:"
      ]
    },
    {
      "cell_type": "markdown",
      "metadata": {
        "id": "JQJaRpHmv9Ft",
        "colab_type": "text"
      },
      "source": [
        "## Evaluate the KNN Classifier\n",
        "The most common way to evaluate the performance of a classifier is to use a **confusion matrix**. A confusion matrix displays the number of correctly and incorrectly classified cases in a table. We are predicting genders, so the table would look like this:\n",
        "\n",
        "| | Predicted Male | Predicted Female|  \n",
        "|------|:------:|:------:| \n",
        "|**Actual Male** | ? | ? |\n",
        "|**Actual Female**| ? | ? |   \n",
        "\n",
        "Additional performance metrice include:\n",
        "\n",
        "**Accuracy**: Accuracy is the percentage of cases correctly predicted.\n",
        "\n",
        "**Precision**: Precision is the number of correctly predicted cases for the label value divided by all the cases in the column.\n",
        "\n",
        "**Recall**: Recall is the percentage of cases of a label value correctly predicted out of all cases that actually have that label value.\n",
        "\n",
        "**F1**: The F1 statistic is weighted average of precision and recall. Put differently, F1 is a weighted metric for overall model performance.\n",
        "\n",
        "Let's see how well our KNN classification model is able to predict whether or not a child is male or female based on the child's height and the order in which the chaild was born within a family:"
      ]
    },
    {
      "cell_type": "code",
      "metadata": {
        "trusted": true,
        "id": "kBrFytWwv9Ft",
        "colab_type": "code",
        "colab": {}
      },
      "source": [
        "#define a function that prints a confusion matrix and other performance metrics\n",
        "def print_metrics(actual, predicted):\n",
        "    metrics = sklm.precision_recall_fscore_support(actual, predicted)\n",
        "    conf = sklm.confusion_matrix(actual, predicted)\n",
        "    print('                 CONFUSION MATRIX')\n",
        "    print('                 Predicted male    Predicted female')\n",
        "    print('Actual male      %6d' % conf[0,0] + '             %5d' % conf[0,1])\n",
        "    print('Actual female    %6d' % conf[1,0] + '             %5d' % conf[1,1])\n",
        "    print('')\n",
        "    print('Accuracy  %0.2f' % sklm.accuracy_score(actual, predicted))\n",
        "    print(' ')\n",
        "    print('           Male          Female')\n",
        "    print('Cases      %6d' % metrics[3][0] + '        %6d' % metrics[3][1])\n",
        "    print('Precision  %6.2f' % metrics[0][0] + '        %6.2f' % metrics[0][1])\n",
        "    print('Recall     %6.2f' % metrics[1][0] + '        %6.2f' % metrics[1][1])\n",
        "    print('F1         %6.2f' % metrics[2][0] + '        %6.2f' % metrics[2][1])\n",
        "\n",
        "#show the performance of the KNN classification model on the testing data\n",
        "print_metrics(testing['gender'], gender_predictions)"
      ],
      "execution_count": 0,
      "outputs": []
    },
    {
      "cell_type": "markdown",
      "metadata": {
        "trusted": true,
        "id": "NC2cs-BCv9Fx",
        "colab_type": "text"
      },
      "source": [
        "As you can see, our KNN classification model is about 83% accurate overall in predicting a child's gender. We used *k* = 3 when training our model -- could we improve the accuracy by adjusting this parameter?"
      ]
    }
  ]
}