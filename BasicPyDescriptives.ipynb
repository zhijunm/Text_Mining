{
  "nbformat": 4,
  "nbformat_minor": 0,
  "metadata": {
    "kernelspec": {
      "name": "python36",
      "display_name": "Python 3.6",
      "language": "python"
    },
    "language_info": {
      "mimetype": "text/x-python",
      "nbconvert_exporter": "python",
      "name": "python",
      "pygments_lexer": "ipython3",
      "version": "3.6.6",
      "file_extension": ".py",
      "codemirror_mode": {
        "version": 3,
        "name": "ipython"
      }
    },
    "colab": {
      "name": "BasicPyDescriptives.ipynb",
      "provenance": [],
      "collapsed_sections": [],
      "include_colab_link": true
    }
  },
  "cells": [
    {
      "cell_type": "markdown",
      "metadata": {
        "id": "view-in-github",
        "colab_type": "text"
      },
      "source": [
        "<a href=\"https://colab.research.google.com/github/zhijunm/Text_Mining/blob/master/BasicPyDescriptives.ipynb\" target=\"_parent\"><img src=\"https://colab.research.google.com/assets/colab-badge.svg\" alt=\"Open In Colab\"/></a>"
      ]
    },
    {
      "cell_type": "markdown",
      "metadata": {
        "collapsed": true,
        "id": "zeUfSL9jkMVp",
        "colab_type": "text"
      },
      "source": [
        "# Descriptive Statistics in Python!\n",
        "\n",
        "### Introduction\n",
        "\n",
        "In this notebook we'll be learning how to generate basic descriptive statistics in Python. Specifically, we'll be loading the Galton Families data set from the statsmodels library into a Pandas DataFrame, after which we'll use several of the DataFrame's methods to view statistics that describe the data.\n",
        "\n",
        "These data are height measurements (in inches) for parents and their children gathered by Francis Galton in 1886."
      ]
    },
    {
      "cell_type": "markdown",
      "metadata": {
        "id": "ydyoCueRkMVq",
        "colab_type": "text"
      },
      "source": [
        "### Loading the Data\n",
        "\n",
        "For today's examples, we'll rely on the Galton Families data set. The code below imports the statsmodels library, and loads the Galton Familes data set from the statsmodels library into a pandas DataFrame object:"
      ]
    },
    {
      "cell_type": "code",
      "metadata": {
        "trusted": true,
        "id": "sC_onMWpkMVs",
        "colab_type": "code",
        "colab": {}
      },
      "source": [
        "#import  statsmodels library\n",
        "import statsmodels.api as sm\n",
        "\n",
        "#get the Galton Families dataset and assign it to a pandas dataframe\n",
        "df = sm.datasets.get_rdataset('GaltonFamilies', package='HistData').data"
      ],
      "execution_count": 0,
      "outputs": []
    },
    {
      "cell_type": "markdown",
      "metadata": {
        "id": "Md508k2OkMVz",
        "colab_type": "text"
      },
      "source": [
        " ### Familiarizing Ourselves with the Data\n",
        " \n",
        " Understanding the nature and structure of your data is always an important first step in a data analysis project. To view the first several rows of data, we can use the DataFrame's *head()* function. Run the code below to view the first 20 rows of data in the data set. Notice that there is one record for each child, and that records are grouped into families."
      ]
    },
    {
      "cell_type": "code",
      "metadata": {
        "trusted": true,
        "id": "0XjAR9q8kMV1",
        "colab_type": "code",
        "outputId": "161db092-9044-44ff-c8b0-43c6089ed047",
        "colab": {
          "base_uri": "https://localhost:8080/",
          "height": 669
        }
      },
      "source": [
        "#view the first 20 rows of data in the dataframe\n",
        "df.head(20)"
      ],
      "execution_count": 0,
      "outputs": [
        {
          "output_type": "execute_result",
          "data": {
            "text/html": [
              "<div>\n",
              "<style scoped>\n",
              "    .dataframe tbody tr th:only-of-type {\n",
              "        vertical-align: middle;\n",
              "    }\n",
              "\n",
              "    .dataframe tbody tr th {\n",
              "        vertical-align: top;\n",
              "    }\n",
              "\n",
              "    .dataframe thead th {\n",
              "        text-align: right;\n",
              "    }\n",
              "</style>\n",
              "<table border=\"1\" class=\"dataframe\">\n",
              "  <thead>\n",
              "    <tr style=\"text-align: right;\">\n",
              "      <th></th>\n",
              "      <th>family</th>\n",
              "      <th>father</th>\n",
              "      <th>mother</th>\n",
              "      <th>midparentHeight</th>\n",
              "      <th>children</th>\n",
              "      <th>childNum</th>\n",
              "      <th>gender</th>\n",
              "      <th>childHeight</th>\n",
              "    </tr>\n",
              "  </thead>\n",
              "  <tbody>\n",
              "    <tr>\n",
              "      <th>0</th>\n",
              "      <td>001</td>\n",
              "      <td>78.5</td>\n",
              "      <td>67.0</td>\n",
              "      <td>75.43</td>\n",
              "      <td>4</td>\n",
              "      <td>1</td>\n",
              "      <td>male</td>\n",
              "      <td>73.2</td>\n",
              "    </tr>\n",
              "    <tr>\n",
              "      <th>1</th>\n",
              "      <td>001</td>\n",
              "      <td>78.5</td>\n",
              "      <td>67.0</td>\n",
              "      <td>75.43</td>\n",
              "      <td>4</td>\n",
              "      <td>2</td>\n",
              "      <td>female</td>\n",
              "      <td>69.2</td>\n",
              "    </tr>\n",
              "    <tr>\n",
              "      <th>2</th>\n",
              "      <td>001</td>\n",
              "      <td>78.5</td>\n",
              "      <td>67.0</td>\n",
              "      <td>75.43</td>\n",
              "      <td>4</td>\n",
              "      <td>3</td>\n",
              "      <td>female</td>\n",
              "      <td>69.0</td>\n",
              "    </tr>\n",
              "    <tr>\n",
              "      <th>3</th>\n",
              "      <td>001</td>\n",
              "      <td>78.5</td>\n",
              "      <td>67.0</td>\n",
              "      <td>75.43</td>\n",
              "      <td>4</td>\n",
              "      <td>4</td>\n",
              "      <td>female</td>\n",
              "      <td>69.0</td>\n",
              "    </tr>\n",
              "    <tr>\n",
              "      <th>4</th>\n",
              "      <td>002</td>\n",
              "      <td>75.5</td>\n",
              "      <td>66.5</td>\n",
              "      <td>73.66</td>\n",
              "      <td>4</td>\n",
              "      <td>1</td>\n",
              "      <td>male</td>\n",
              "      <td>73.5</td>\n",
              "    </tr>\n",
              "    <tr>\n",
              "      <th>5</th>\n",
              "      <td>002</td>\n",
              "      <td>75.5</td>\n",
              "      <td>66.5</td>\n",
              "      <td>73.66</td>\n",
              "      <td>4</td>\n",
              "      <td>2</td>\n",
              "      <td>male</td>\n",
              "      <td>72.5</td>\n",
              "    </tr>\n",
              "    <tr>\n",
              "      <th>6</th>\n",
              "      <td>002</td>\n",
              "      <td>75.5</td>\n",
              "      <td>66.5</td>\n",
              "      <td>73.66</td>\n",
              "      <td>4</td>\n",
              "      <td>3</td>\n",
              "      <td>female</td>\n",
              "      <td>65.5</td>\n",
              "    </tr>\n",
              "    <tr>\n",
              "      <th>7</th>\n",
              "      <td>002</td>\n",
              "      <td>75.5</td>\n",
              "      <td>66.5</td>\n",
              "      <td>73.66</td>\n",
              "      <td>4</td>\n",
              "      <td>4</td>\n",
              "      <td>female</td>\n",
              "      <td>65.5</td>\n",
              "    </tr>\n",
              "    <tr>\n",
              "      <th>8</th>\n",
              "      <td>003</td>\n",
              "      <td>75.0</td>\n",
              "      <td>64.0</td>\n",
              "      <td>72.06</td>\n",
              "      <td>2</td>\n",
              "      <td>1</td>\n",
              "      <td>male</td>\n",
              "      <td>71.0</td>\n",
              "    </tr>\n",
              "    <tr>\n",
              "      <th>9</th>\n",
              "      <td>003</td>\n",
              "      <td>75.0</td>\n",
              "      <td>64.0</td>\n",
              "      <td>72.06</td>\n",
              "      <td>2</td>\n",
              "      <td>2</td>\n",
              "      <td>female</td>\n",
              "      <td>68.0</td>\n",
              "    </tr>\n",
              "    <tr>\n",
              "      <th>10</th>\n",
              "      <td>004</td>\n",
              "      <td>75.0</td>\n",
              "      <td>64.0</td>\n",
              "      <td>72.06</td>\n",
              "      <td>5</td>\n",
              "      <td>1</td>\n",
              "      <td>male</td>\n",
              "      <td>70.5</td>\n",
              "    </tr>\n",
              "    <tr>\n",
              "      <th>11</th>\n",
              "      <td>004</td>\n",
              "      <td>75.0</td>\n",
              "      <td>64.0</td>\n",
              "      <td>72.06</td>\n",
              "      <td>5</td>\n",
              "      <td>2</td>\n",
              "      <td>male</td>\n",
              "      <td>68.5</td>\n",
              "    </tr>\n",
              "    <tr>\n",
              "      <th>12</th>\n",
              "      <td>004</td>\n",
              "      <td>75.0</td>\n",
              "      <td>64.0</td>\n",
              "      <td>72.06</td>\n",
              "      <td>5</td>\n",
              "      <td>3</td>\n",
              "      <td>female</td>\n",
              "      <td>67.0</td>\n",
              "    </tr>\n",
              "    <tr>\n",
              "      <th>13</th>\n",
              "      <td>004</td>\n",
              "      <td>75.0</td>\n",
              "      <td>64.0</td>\n",
              "      <td>72.06</td>\n",
              "      <td>5</td>\n",
              "      <td>4</td>\n",
              "      <td>female</td>\n",
              "      <td>64.5</td>\n",
              "    </tr>\n",
              "    <tr>\n",
              "      <th>14</th>\n",
              "      <td>004</td>\n",
              "      <td>75.0</td>\n",
              "      <td>64.0</td>\n",
              "      <td>72.06</td>\n",
              "      <td>5</td>\n",
              "      <td>5</td>\n",
              "      <td>female</td>\n",
              "      <td>63.0</td>\n",
              "    </tr>\n",
              "    <tr>\n",
              "      <th>15</th>\n",
              "      <td>005</td>\n",
              "      <td>75.0</td>\n",
              "      <td>58.5</td>\n",
              "      <td>69.09</td>\n",
              "      <td>6</td>\n",
              "      <td>1</td>\n",
              "      <td>male</td>\n",
              "      <td>72.0</td>\n",
              "    </tr>\n",
              "    <tr>\n",
              "      <th>16</th>\n",
              "      <td>005</td>\n",
              "      <td>75.0</td>\n",
              "      <td>58.5</td>\n",
              "      <td>69.09</td>\n",
              "      <td>6</td>\n",
              "      <td>2</td>\n",
              "      <td>male</td>\n",
              "      <td>69.0</td>\n",
              "    </tr>\n",
              "    <tr>\n",
              "      <th>17</th>\n",
              "      <td>005</td>\n",
              "      <td>75.0</td>\n",
              "      <td>58.5</td>\n",
              "      <td>69.09</td>\n",
              "      <td>6</td>\n",
              "      <td>3</td>\n",
              "      <td>male</td>\n",
              "      <td>68.0</td>\n",
              "    </tr>\n",
              "    <tr>\n",
              "      <th>18</th>\n",
              "      <td>005</td>\n",
              "      <td>75.0</td>\n",
              "      <td>58.5</td>\n",
              "      <td>69.09</td>\n",
              "      <td>6</td>\n",
              "      <td>4</td>\n",
              "      <td>female</td>\n",
              "      <td>66.5</td>\n",
              "    </tr>\n",
              "    <tr>\n",
              "      <th>19</th>\n",
              "      <td>005</td>\n",
              "      <td>75.0</td>\n",
              "      <td>58.5</td>\n",
              "      <td>69.09</td>\n",
              "      <td>6</td>\n",
              "      <td>5</td>\n",
              "      <td>female</td>\n",
              "      <td>62.5</td>\n",
              "    </tr>\n",
              "  </tbody>\n",
              "</table>\n",
              "</div>"
            ],
            "text/plain": [
              "   family  father  mother  ...  childNum  gender  childHeight\n",
              "0     001    78.5    67.0  ...         1    male         73.2\n",
              "1     001    78.5    67.0  ...         2  female         69.2\n",
              "2     001    78.5    67.0  ...         3  female         69.0\n",
              "3     001    78.5    67.0  ...         4  female         69.0\n",
              "4     002    75.5    66.5  ...         1    male         73.5\n",
              "5     002    75.5    66.5  ...         2    male         72.5\n",
              "6     002    75.5    66.5  ...         3  female         65.5\n",
              "7     002    75.5    66.5  ...         4  female         65.5\n",
              "8     003    75.0    64.0  ...         1    male         71.0\n",
              "9     003    75.0    64.0  ...         2  female         68.0\n",
              "10    004    75.0    64.0  ...         1    male         70.5\n",
              "11    004    75.0    64.0  ...         2    male         68.5\n",
              "12    004    75.0    64.0  ...         3  female         67.0\n",
              "13    004    75.0    64.0  ...         4  female         64.5\n",
              "14    004    75.0    64.0  ...         5  female         63.0\n",
              "15    005    75.0    58.5  ...         1    male         72.0\n",
              "16    005    75.0    58.5  ...         2    male         69.0\n",
              "17    005    75.0    58.5  ...         3    male         68.0\n",
              "18    005    75.0    58.5  ...         4  female         66.5\n",
              "19    005    75.0    58.5  ...         5  female         62.5\n",
              "\n",
              "[20 rows x 8 columns]"
            ]
          },
          "metadata": {
            "tags": []
          },
          "execution_count": 4
        }
      ]
    },
    {
      "cell_type": "markdown",
      "metadata": {
        "id": "JWm-iJY2kMV9",
        "colab_type": "text"
      },
      "source": [
        "### Shape of the Data Set\n",
        "\n",
        "What if we wanted to know how many rows and columns our data set contains? All we need to do to get these answers is to examine the DataFrame's *shape* property. The first value returned is the number of rows, while the second value is the number of columns:"
      ]
    },
    {
      "cell_type": "code",
      "metadata": {
        "trusted": true,
        "id": "P6v60oLmkMV-",
        "colab_type": "code",
        "outputId": "3663c29b-0413-4345-c0f0-54afe53d48f5",
        "colab": {
          "base_uri": "https://localhost:8080/",
          "height": 68
        }
      },
      "source": [
        "#print the shape of the dataframe\n",
        "print(df.shape)\n",
        "\n",
        "#we can also identify just the number of rows or columns by specifying an index value:\n",
        "print(df.shape[0])\n",
        "print(df.shape[1])"
      ],
      "execution_count": 0,
      "outputs": [
        {
          "output_type": "stream",
          "text": [
            "(934, 8)\n",
            "934\n",
            "8\n"
          ],
          "name": "stdout"
        }
      ]
    },
    {
      "cell_type": "markdown",
      "metadata": {
        "id": "QjJEMc1nkMWE",
        "colab_type": "text"
      },
      "source": [
        "### Measures of Central Tendency\n",
        "\n",
        "Standard measures of central tendency include the mean (average), the median (middle value), and mode (most common value). Let's find these values for the *childHeight* column in our data set by using the DataFrame's *mean()*, *median()*, and *mode()* functions:"
      ]
    },
    {
      "cell_type": "code",
      "metadata": {
        "trusted": true,
        "id": "Pce2aioNkMWF",
        "colab_type": "code",
        "outputId": "1265f5ee-056b-4f04-c3b1-55ff6eb6cce9",
        "colab": {
          "base_uri": "https://localhost:8080/",
          "height": 102
        }
      },
      "source": [
        "#print the mean, median, and mode for the 'childHeight' column\n",
        "print(df['childHeight'].mean())\n",
        "print(df['childHeight'].median())\n",
        "print(df['childHeight'].mode())\n",
        "\n",
        "#assign the data series to a variable\n",
        "heights = df['childHeight']\n",
        "print(heights.mean())"
      ],
      "execution_count": 0,
      "outputs": [
        {
          "output_type": "stream",
          "text": [
            "66.74593147751597\n",
            "66.5\n",
            "0    65.0\n",
            "dtype: float64\n",
            "66.74593147751597\n"
          ],
          "name": "stdout"
        }
      ]
    },
    {
      "cell_type": "markdown",
      "metadata": {
        "id": "STaUBOTSkMWM",
        "colab_type": "text"
      },
      "source": [
        "### Minimum, Maximum, and Range of Values\n",
        "\n",
        "What if we wanted to know the minimum, maximum, and range of values for our *childHeight* column? We can easily view the minimum and maximum values for the children's heights by using the *min()* and *max()* functions:"
      ]
    },
    {
      "cell_type": "code",
      "metadata": {
        "trusted": true,
        "id": "VRlNOBOzkMWN",
        "colab_type": "code",
        "outputId": "85cc5528-06fc-4071-e678-555723d0ca1a",
        "colab": {
          "base_uri": "https://localhost:8080/",
          "height": 51
        }
      },
      "source": [
        "#print the minimum and maximum values for the 'childHeight' column\n",
        "print(df['childHeight'].min())\n",
        "print(df['childHeight'].max())"
      ],
      "execution_count": 0,
      "outputs": [
        {
          "output_type": "stream",
          "text": [
            "56.0\n",
            "79.0\n"
          ],
          "name": "stdout"
        }
      ]
    },
    {
      "cell_type": "markdown",
      "metadata": {
        "id": "ciFxTfL4kMWU",
        "colab_type": "text"
      },
      "source": [
        "The range is simply the difference between the maximum and the minimum:"
      ]
    },
    {
      "cell_type": "code",
      "metadata": {
        "trusted": true,
        "id": "q3oGgLYUkMWV",
        "colab_type": "code",
        "outputId": "5f856b1a-eef1-4973-b6c0-222510c1f515",
        "colab": {
          "base_uri": "https://localhost:8080/",
          "height": 34
        }
      },
      "source": [
        "#print the range of children's heights -- the str() function converts a number into a string\n",
        "print(df['childHeight'].max() - df['childHeight'].min())"
      ],
      "execution_count": 0,
      "outputs": [
        {
          "output_type": "stream",
          "text": [
            "23.0\n"
          ],
          "name": "stdout"
        }
      ]
    },
    {
      "cell_type": "markdown",
      "metadata": {
        "id": "PWIxWziDkMWd",
        "colab_type": "text"
      },
      "source": [
        "### Quartiles and Percentiles\n",
        "\n",
        "If we'd like to know the 25%, 50%, and 75% quartiles for the children's heights, we simply need to use the DataFrame's *quantile()* function (Note that *quantile* is a generic term for any ranked position, such as a percentile or a quartile). In this example, we will ask Python to give us the three quartiles simultaneously by passing a list of values into the *quantiles()* function:"
      ]
    },
    {
      "cell_type": "code",
      "metadata": {
        "trusted": true,
        "id": "ot7YXMDSkMWe",
        "colab_type": "code",
        "outputId": "87183561-2e8a-484d-cecb-91b7f0498f91",
        "colab": {
          "base_uri": "https://localhost:8080/",
          "height": 85
        }
      },
      "source": [
        "#print the 25%, 50%, and 75% quartiles for the children's heights\n",
        "print(df['childHeight'].quantile([0.25, 0.5, 0.75]))"
      ],
      "execution_count": 0,
      "outputs": [
        {
          "output_type": "stream",
          "text": [
            "0.25    64.0\n",
            "0.50    66.5\n",
            "0.75    69.7\n",
            "Name: childHeight, dtype: float64\n"
          ],
          "name": "stdout"
        }
      ]
    },
    {
      "cell_type": "markdown",
      "metadata": {
        "id": "X5XXObdgkMWj",
        "colab_type": "text"
      },
      "source": [
        "As noted above, we can use the *quartile()* function to give us ANY percentile that we need. For example, imagine that we'd like to see the 10th and 90th percentiles..."
      ]
    },
    {
      "cell_type": "code",
      "metadata": {
        "trusted": true,
        "id": "gI2hlsQOkMWl",
        "colab_type": "code",
        "outputId": "38c11cb3-8fcd-4e47-ab04-0a938c5bf297",
        "colab": {
          "base_uri": "https://localhost:8080/",
          "height": 68
        }
      },
      "source": [
        "#print the 10th and 90th percentiles for the children's heights\n",
        "print(df['childHeight'].quantile([0.1, 0.9]))"
      ],
      "execution_count": 0,
      "outputs": [
        {
          "output_type": "stream",
          "text": [
            "0.1    62.0\n",
            "0.9    71.5\n",
            "Name: childHeight, dtype: float64\n"
          ],
          "name": "stdout"
        }
      ]
    },
    {
      "cell_type": "markdown",
      "metadata": {
        "id": "0oHd3QZKkMWt",
        "colab_type": "text"
      },
      "source": [
        "### Variance and Standard Deviation\n",
        "\n",
        "If we'd like to gain some insights into how spread out the children's heights are, we can examine their variance and standard deviation by using the *var()* and *std()* functions:"
      ]
    },
    {
      "cell_type": "code",
      "metadata": {
        "trusted": true,
        "id": "YTUzUfAMkMWu",
        "colab_type": "code",
        "outputId": "82ce69e1-7c4f-410e-d7d0-cecc0d298c20",
        "colab": {
          "base_uri": "https://localhost:8080/",
          "height": 68
        }
      },
      "source": [
        "#print the variance and standard deviation for the children's heights\n",
        "print(df['childHeight'].var())\n",
        "print(df['childHeight'].std())\n",
        "\n",
        "#note the relationship between variance and standard deviation\n",
        "df['childHeight'].std()**2"
      ],
      "execution_count": 0,
      "outputs": [
        {
          "output_type": "stream",
          "text": [
            "12.811039163574018\n",
            "3.5792512015188342\n"
          ],
          "name": "stdout"
        },
        {
          "output_type": "execute_result",
          "data": {
            "text/plain": [
              "12.81103916357402"
            ]
          },
          "metadata": {
            "tags": []
          },
          "execution_count": 11
        }
      ]
    },
    {
      "cell_type": "markdown",
      "metadata": {
        "id": "WouhaLMQkMW1",
        "colab_type": "text"
      },
      "source": [
        "### The Lazy Way!\n",
        "\n",
        "Viewing descriptive statistics individually can be useful, but it is often best for a data scientist to view a variety of descriptive statistics at the same time. For this purpose, we can use the *describe()* function:"
      ]
    },
    {
      "cell_type": "code",
      "metadata": {
        "trusted": true,
        "id": "2X-ChRXTkMW3",
        "colab_type": "code",
        "outputId": "f249539e-d629-427c-b088-dac206f062e0",
        "colab": {
          "base_uri": "https://localhost:8080/",
          "height": 170
        }
      },
      "source": [
        "#print summary statistics for the children's heights\n",
        "print(df['childHeight'].describe())"
      ],
      "execution_count": 0,
      "outputs": [
        {
          "output_type": "stream",
          "text": [
            "count    934.000000\n",
            "mean      66.745931\n",
            "std        3.579251\n",
            "min       56.000000\n",
            "25%       64.000000\n",
            "50%       66.500000\n",
            "75%       69.700000\n",
            "max       79.000000\n",
            "Name: childHeight, dtype: float64\n"
          ],
          "name": "stdout"
        }
      ]
    },
    {
      "cell_type": "markdown",
      "metadata": {
        "id": "YwZDbrWBkMW8",
        "colab_type": "text"
      },
      "source": [
        "The *describe()* function can also be used to generate descriptive statistics for multiple numeric variables simultaneously:"
      ]
    },
    {
      "cell_type": "code",
      "metadata": {
        "trusted": true,
        "id": "36j-txgPkMW8",
        "colab_type": "code",
        "outputId": "3f8df368-db76-4fcb-9e33-3959e3afc1a9",
        "colab": {
          "base_uri": "https://localhost:8080/",
          "height": 297
        }
      },
      "source": [
        "#print summary statistics for all of the numeric variables in the dataframe\n",
        "df.describe()"
      ],
      "execution_count": 0,
      "outputs": [
        {
          "output_type": "execute_result",
          "data": {
            "text/html": [
              "<div>\n",
              "<style scoped>\n",
              "    .dataframe tbody tr th:only-of-type {\n",
              "        vertical-align: middle;\n",
              "    }\n",
              "\n",
              "    .dataframe tbody tr th {\n",
              "        vertical-align: top;\n",
              "    }\n",
              "\n",
              "    .dataframe thead th {\n",
              "        text-align: right;\n",
              "    }\n",
              "</style>\n",
              "<table border=\"1\" class=\"dataframe\">\n",
              "  <thead>\n",
              "    <tr style=\"text-align: right;\">\n",
              "      <th></th>\n",
              "      <th>father</th>\n",
              "      <th>mother</th>\n",
              "      <th>midparentHeight</th>\n",
              "      <th>children</th>\n",
              "      <th>childNum</th>\n",
              "      <th>childHeight</th>\n",
              "    </tr>\n",
              "  </thead>\n",
              "  <tbody>\n",
              "    <tr>\n",
              "      <th>count</th>\n",
              "      <td>934.000000</td>\n",
              "      <td>934.000000</td>\n",
              "      <td>934.000000</td>\n",
              "      <td>934.000000</td>\n",
              "      <td>934.000000</td>\n",
              "      <td>934.000000</td>\n",
              "    </tr>\n",
              "    <tr>\n",
              "      <th>mean</th>\n",
              "      <td>69.197109</td>\n",
              "      <td>64.089293</td>\n",
              "      <td>69.206773</td>\n",
              "      <td>6.171306</td>\n",
              "      <td>3.585653</td>\n",
              "      <td>66.745931</td>\n",
              "    </tr>\n",
              "    <tr>\n",
              "      <th>std</th>\n",
              "      <td>2.476479</td>\n",
              "      <td>2.290886</td>\n",
              "      <td>1.802370</td>\n",
              "      <td>2.729025</td>\n",
              "      <td>2.361410</td>\n",
              "      <td>3.579251</td>\n",
              "    </tr>\n",
              "    <tr>\n",
              "      <th>min</th>\n",
              "      <td>62.000000</td>\n",
              "      <td>58.000000</td>\n",
              "      <td>64.400000</td>\n",
              "      <td>1.000000</td>\n",
              "      <td>1.000000</td>\n",
              "      <td>56.000000</td>\n",
              "    </tr>\n",
              "    <tr>\n",
              "      <th>25%</th>\n",
              "      <td>68.000000</td>\n",
              "      <td>63.000000</td>\n",
              "      <td>68.140000</td>\n",
              "      <td>4.000000</td>\n",
              "      <td>2.000000</td>\n",
              "      <td>64.000000</td>\n",
              "    </tr>\n",
              "    <tr>\n",
              "      <th>50%</th>\n",
              "      <td>69.000000</td>\n",
              "      <td>64.000000</td>\n",
              "      <td>69.248000</td>\n",
              "      <td>6.000000</td>\n",
              "      <td>3.000000</td>\n",
              "      <td>66.500000</td>\n",
              "    </tr>\n",
              "    <tr>\n",
              "      <th>75%</th>\n",
              "      <td>71.000000</td>\n",
              "      <td>65.875000</td>\n",
              "      <td>70.140000</td>\n",
              "      <td>8.000000</td>\n",
              "      <td>5.000000</td>\n",
              "      <td>69.700000</td>\n",
              "    </tr>\n",
              "    <tr>\n",
              "      <th>max</th>\n",
              "      <td>78.500000</td>\n",
              "      <td>70.500000</td>\n",
              "      <td>75.430000</td>\n",
              "      <td>15.000000</td>\n",
              "      <td>15.000000</td>\n",
              "      <td>79.000000</td>\n",
              "    </tr>\n",
              "  </tbody>\n",
              "</table>\n",
              "</div>"
            ],
            "text/plain": [
              "           father      mother  ...    childNum  childHeight\n",
              "count  934.000000  934.000000  ...  934.000000   934.000000\n",
              "mean    69.197109   64.089293  ...    3.585653    66.745931\n",
              "std      2.476479    2.290886  ...    2.361410     3.579251\n",
              "min     62.000000   58.000000  ...    1.000000    56.000000\n",
              "25%     68.000000   63.000000  ...    2.000000    64.000000\n",
              "50%     69.000000   64.000000  ...    3.000000    66.500000\n",
              "75%     71.000000   65.875000  ...    5.000000    69.700000\n",
              "max     78.500000   70.500000  ...   15.000000    79.000000\n",
              "\n",
              "[8 rows x 6 columns]"
            ]
          },
          "metadata": {
            "tags": []
          },
          "execution_count": 13
        }
      ]
    },
    {
      "cell_type": "code",
      "metadata": {
        "trusted": true,
        "id": "5zFFb_igkMXB",
        "colab_type": "code",
        "colab": {}
      },
      "source": [
        "#let's compute all of the children's heights to centimeters using Python's handy list comprehension feature!\n",
        "df['childHeightCm'] = [i * 2.54 for i in df['childHeight']]"
      ],
      "execution_count": 0,
      "outputs": []
    },
    {
      "cell_type": "code",
      "metadata": {
        "trusted": true,
        "id": "uEWpPRFtkMXF",
        "colab_type": "code",
        "outputId": "9961b194-bbaa-4913-e39d-364fdf02bcaf",
        "colab": {
          "base_uri": "https://localhost:8080/",
          "height": 297
        }
      },
      "source": [
        "df.describe()"
      ],
      "execution_count": 0,
      "outputs": [
        {
          "output_type": "execute_result",
          "data": {
            "text/html": [
              "<div>\n",
              "<style scoped>\n",
              "    .dataframe tbody tr th:only-of-type {\n",
              "        vertical-align: middle;\n",
              "    }\n",
              "\n",
              "    .dataframe tbody tr th {\n",
              "        vertical-align: top;\n",
              "    }\n",
              "\n",
              "    .dataframe thead th {\n",
              "        text-align: right;\n",
              "    }\n",
              "</style>\n",
              "<table border=\"1\" class=\"dataframe\">\n",
              "  <thead>\n",
              "    <tr style=\"text-align: right;\">\n",
              "      <th></th>\n",
              "      <th>father</th>\n",
              "      <th>mother</th>\n",
              "      <th>midparentHeight</th>\n",
              "      <th>children</th>\n",
              "      <th>childNum</th>\n",
              "      <th>childHeight</th>\n",
              "      <th>childHeightCm</th>\n",
              "    </tr>\n",
              "  </thead>\n",
              "  <tbody>\n",
              "    <tr>\n",
              "      <th>count</th>\n",
              "      <td>934.000000</td>\n",
              "      <td>934.000000</td>\n",
              "      <td>934.000000</td>\n",
              "      <td>934.000000</td>\n",
              "      <td>934.000000</td>\n",
              "      <td>934.000000</td>\n",
              "      <td>934.000000</td>\n",
              "    </tr>\n",
              "    <tr>\n",
              "      <th>mean</th>\n",
              "      <td>69.197109</td>\n",
              "      <td>64.089293</td>\n",
              "      <td>69.206773</td>\n",
              "      <td>6.171306</td>\n",
              "      <td>3.585653</td>\n",
              "      <td>66.745931</td>\n",
              "      <td>169.534666</td>\n",
              "    </tr>\n",
              "    <tr>\n",
              "      <th>std</th>\n",
              "      <td>2.476479</td>\n",
              "      <td>2.290886</td>\n",
              "      <td>1.802370</td>\n",
              "      <td>2.729025</td>\n",
              "      <td>2.361410</td>\n",
              "      <td>3.579251</td>\n",
              "      <td>9.091298</td>\n",
              "    </tr>\n",
              "    <tr>\n",
              "      <th>min</th>\n",
              "      <td>62.000000</td>\n",
              "      <td>58.000000</td>\n",
              "      <td>64.400000</td>\n",
              "      <td>1.000000</td>\n",
              "      <td>1.000000</td>\n",
              "      <td>56.000000</td>\n",
              "      <td>142.240000</td>\n",
              "    </tr>\n",
              "    <tr>\n",
              "      <th>25%</th>\n",
              "      <td>68.000000</td>\n",
              "      <td>63.000000</td>\n",
              "      <td>68.140000</td>\n",
              "      <td>4.000000</td>\n",
              "      <td>2.000000</td>\n",
              "      <td>64.000000</td>\n",
              "      <td>162.560000</td>\n",
              "    </tr>\n",
              "    <tr>\n",
              "      <th>50%</th>\n",
              "      <td>69.000000</td>\n",
              "      <td>64.000000</td>\n",
              "      <td>69.248000</td>\n",
              "      <td>6.000000</td>\n",
              "      <td>3.000000</td>\n",
              "      <td>66.500000</td>\n",
              "      <td>168.910000</td>\n",
              "    </tr>\n",
              "    <tr>\n",
              "      <th>75%</th>\n",
              "      <td>71.000000</td>\n",
              "      <td>65.875000</td>\n",
              "      <td>70.140000</td>\n",
              "      <td>8.000000</td>\n",
              "      <td>5.000000</td>\n",
              "      <td>69.700000</td>\n",
              "      <td>177.038000</td>\n",
              "    </tr>\n",
              "    <tr>\n",
              "      <th>max</th>\n",
              "      <td>78.500000</td>\n",
              "      <td>70.500000</td>\n",
              "      <td>75.430000</td>\n",
              "      <td>15.000000</td>\n",
              "      <td>15.000000</td>\n",
              "      <td>79.000000</td>\n",
              "      <td>200.660000</td>\n",
              "    </tr>\n",
              "  </tbody>\n",
              "</table>\n",
              "</div>"
            ],
            "text/plain": [
              "           father      mother  ...  childHeight  childHeightCm\n",
              "count  934.000000  934.000000  ...   934.000000     934.000000\n",
              "mean    69.197109   64.089293  ...    66.745931     169.534666\n",
              "std      2.476479    2.290886  ...     3.579251       9.091298\n",
              "min     62.000000   58.000000  ...    56.000000     142.240000\n",
              "25%     68.000000   63.000000  ...    64.000000     162.560000\n",
              "50%     69.000000   64.000000  ...    66.500000     168.910000\n",
              "75%     71.000000   65.875000  ...    69.700000     177.038000\n",
              "max     78.500000   70.500000  ...    79.000000     200.660000\n",
              "\n",
              "[8 rows x 7 columns]"
            ]
          },
          "metadata": {
            "tags": []
          },
          "execution_count": 15
        }
      ]
    },
    {
      "cell_type": "code",
      "metadata": {
        "trusted": true,
        "id": "TJG08zIGkMXJ",
        "colab_type": "code",
        "outputId": "bd426a81-22ec-4eca-8c10-845f7d27d702",
        "colab": {
          "base_uri": "https://localhost:8080/",
          "height": 221
        }
      },
      "source": [
        "#show the number of children who have each height\n",
        "df['childHeight'].value_counts()"
      ],
      "execution_count": 0,
      "outputs": [
        {
          "output_type": "execute_result",
          "data": {
            "text/plain": [
              "65.0    63\n",
              "66.0    59\n",
              "68.0    57\n",
              "70.0    56\n",
              "67.0    52\n",
              "        ..\n",
              "60.1     1\n",
              "59.0     1\n",
              "58.0     1\n",
              "79.0     1\n",
              "61.2     1\n",
              "Name: childHeight, Length: 67, dtype: int64"
            ]
          },
          "metadata": {
            "tags": []
          },
          "execution_count": 16
        }
      ]
    }
  ]
}